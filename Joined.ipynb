{
 "cells": [
  {
   "cell_type": "code",
   "execution_count": null,
   "metadata": {},
   "outputs": [],
   "source": [
    "!pip install pyspark\n",
    "!pip install haversine\n",
    "!pip install seaborn"
   ]
  },
  {
   "cell_type": "code",
   "execution_count": 1,
   "metadata": {},
   "outputs": [
    {
     "data": {
      "text/html": [
       "\n",
       "            <div>\n",
       "                <p><b>SparkSession - in-memory</b></p>\n",
       "                \n",
       "        <div>\n",
       "            <p><b>SparkContext</b></p>\n",
       "\n",
       "            <p><a href=\"http://LAPTOP-UTIUBO9M:4040\">Spark UI</a></p>\n",
       "\n",
       "            <dl>\n",
       "              <dt>Version</dt>\n",
       "                <dd><code>v3.4.0</code></dd>\n",
       "              <dt>Master</dt>\n",
       "                <dd><code>local[*]</code></dd>\n",
       "              <dt>AppName</dt>\n",
       "                <dd><code>FordGoBike</code></dd>\n",
       "            </dl>\n",
       "        </div>\n",
       "        \n",
       "            </div>\n",
       "        "
      ],
      "text/plain": [
       "<pyspark.sql.session.SparkSession at 0x231738795e0>"
      ]
     },
     "execution_count": 1,
     "metadata": {},
     "output_type": "execute_result"
    }
   ],
   "source": [
    "from pyspark.sql import functions as F\n",
    "from pyspark.sql import SparkSession\n",
    "from pyspark.sql.types import FloatType, StringType\n",
    "\n",
    "spark=SparkSession.builder.appName('FordGoBike').getOrCreate()\n",
    "spark"
   ]
  },
  {
   "cell_type": "code",
   "execution_count": 2,
   "metadata": {},
   "outputs": [
    {
     "name": "stdout",
     "output_type": "stream",
     "text": [
      "+-------+------------------+-----------------+--------------------+----------------------+-----------------------+-----------------+--------------------+--------------------+---------------------+------------------+----------+------------------+-------------+-----------+\n",
      "|summary|      duration_sec| start_station_id|  start_station_name|start_station_latitude|start_station_longitude|   end_station_id|    end_station_name|end_station_latitude|end_station_longitude|           bike_id| user_type| member_birth_year|member_gender|     pyment|\n",
      "+-------+------------------+-----------------+--------------------+----------------------+-----------------------+-----------------+--------------------+--------------------+---------------------+------------------+----------+------------------+-------------+-----------+\n",
      "|  count|            519700|           519700|              519700|                519700|                 519700|           519700|              519700|              519700|               519700|            519700|    519700|            453159|       453238|     519700|\n",
      "|   mean|1099.0095208774294|95.03424475659034|                null|     37.77165260311285|    -122.36392726512258|92.18404079276506|                null|  37.771843749647424|  -122.36323553679595|1672.5330786992495|      null|1980.4047872821682|         null|       null|\n",
      "| stddev| 3444.146451247438|86.08307797095985|                null|   0.08630496061663719|    0.10557344899193223|84.96949148635476|                null| 0.08622383487117569|   0.1051222022292697| 971.3569593530083|      null| 10.51348753990844|         null|       null|\n",
      "|    min|                61|                3|10th Ave at E 15t...|            37.3172979|    -122.44429260492323|                3|10th Ave at E 15t...|          37.3172979|  -122.44429260492323|                10|  Customer|            1886.0|       Female| app wallet|\n",
      "|    max|             86369|              340|Yerba Buena Cente...|     37.88022244590679|           -121.8741186|              340|Yerba Buena Cente...|   37.88022244590679|         -121.8741186|              3733|Subscriber|            1999.0|        Other|credit card|\n",
      "+-------+------------------+-----------------+--------------------+----------------------+-----------------------+-----------------+--------------------+--------------------+---------------------+------------------+----------+------------------+-------------+-----------+\n",
      "\n"
     ]
    }
   ],
   "source": [
    "path=\"G:\\My Drive\\Develhope\\develhope-Data5-Team3\\Data\\Raw_FordGoBike\"\n",
    "df=spark.read.csv(path,header=True, inferSchema=True)\n",
    "\n",
    "df.describe().show()"
   ]
  },
  {
   "cell_type": "code",
   "execution_count": 3,
   "metadata": {},
   "outputs": [
    {
     "data": {
      "text/plain": [
       "['duration_sec',\n",
       " 'start_time',\n",
       " 'end_time',\n",
       " 'start_station_id',\n",
       " 'start_station_name',\n",
       " 'start_station_latitude',\n",
       " 'start_station_longitude',\n",
       " 'end_station_id',\n",
       " 'end_station_name',\n",
       " 'end_station_latitude',\n",
       " 'end_station_longitude',\n",
       " 'bike_id',\n",
       " 'user_type',\n",
       " 'member_birth_year',\n",
       " 'member_gender',\n",
       " 'pyment']"
      ]
     },
     "execution_count": 3,
     "metadata": {},
     "output_type": "execute_result"
    }
   ],
   "source": [
    "df.columns"
   ]
  },
  {
   "cell_type": "code",
   "execution_count": 4,
   "metadata": {},
   "outputs": [],
   "source": [
    "df_2=df.withColumn('bigger',F.col('start_time')>F.col('end_time'))\n",
    "\n"
   ]
  },
  {
   "cell_type": "code",
   "execution_count": 5,
   "metadata": {},
   "outputs": [
    {
     "name": "stdout",
     "output_type": "stream",
     "text": [
      "+------------+--------------------+--------------------+----------------+------------------+----------------------+-----------------------+--------------+-----------------+--------------------+---------------------+-------+----------+-----------------+-------------+-----------+------+\n",
      "|duration_sec|          start_time|            end_time|start_station_id|start_station_name|start_station_latitude|start_station_longitude|end_station_id| end_station_name|end_station_latitude|end_station_longitude|bike_id| user_type|member_birth_year|member_gender|     pyment|bigger|\n",
      "+------------+--------------------+--------------------+----------------+------------------+----------------------+-----------------------+--------------+-----------------+--------------------+---------------------+-------+----------+-----------------+-------------+-----------+------+\n",
      "|         292|2017-11-05 04:59:...|2017-11-05 04:04:...|             121|Mission Playground|            37.7592103|           -122.4213392|           119|18th St at Noe St|          37.7610471|         -122.4326417|   2773|Subscriber|           1994.0|         Male|credit card|  true|\n",
      "+------------+--------------------+--------------------+----------------+------------------+----------------------+-----------------------+--------------+-----------------+--------------------+---------------------+-------+----------+-----------------+-------------+-----------+------+\n",
      "\n"
     ]
    }
   ],
   "source": [
    "df_2.filter(df_2['bigger']==True).show()"
   ]
  },
  {
   "attachments": {},
   "cell_type": "markdown",
   "metadata": {},
   "source": [
    "##WEEK 1 - Calcualte Haversine Distance"
   ]
  },
  {
   "cell_type": "code",
   "execution_count": 6,
   "metadata": {},
   "outputs": [],
   "source": [
    "from haversine import haversine\n",
    "\n",
    "def haversine_f(lat1, lon1, lat2, lon2):\n",
    "    return haversine( (lat1, lon1), (lat2, lon2),unit='m',normalize=True )\n",
    "\n",
    "haversine_udf = F.udf(haversine_f)"
   ]
  },
  {
   "cell_type": "code",
   "execution_count": 7,
   "metadata": {},
   "outputs": [],
   "source": [
    "df=df.withColumn('haversine_distance', \n",
    "                    haversine_udf(F.col('start_station_latitude'), F.col('start_station_longitude'), \n",
    "                                  F.col('end_station_latitude'), F.col('end_station_longitude'))\n",
    "                    )"
   ]
  },
  {
   "attachments": {},
   "cell_type": "markdown",
   "metadata": {},
   "source": [
    "##WEEK 2"
   ]
  },
  {
   "attachments": {},
   "cell_type": "markdown",
   "metadata": {},
   "source": [
    "##TASK 2 - Calculate the trip cost"
   ]
  },
  {
   "cell_type": "code",
   "execution_count": 8,
   "metadata": {},
   "outputs": [],
   "source": [
    "df=df.withColumn('Trip_cost',(F.col('duration_sec')/60*0.35))"
   ]
  },
  {
   "attachments": {},
   "cell_type": "markdown",
   "metadata": {},
   "source": [
    "TASK 3 - Calculate the total distance for each bike and list the top 10"
   ]
  },
  {
   "cell_type": "code",
   "execution_count": 9,
   "metadata": {},
   "outputs": [
    {
     "name": "stdout",
     "output_type": "stream",
     "text": [
      "+-------+-----------------+\n",
      "|bike_id|     sum_distance|\n",
      "+-------+-----------------+\n",
      "|     68|743369.4902184182|\n",
      "|   2178|721182.2309746571|\n",
      "|    256| 671916.149877458|\n",
      "|    235|670161.9915671463|\n",
      "|   2049|656828.0816022325|\n",
      "|    441|656642.2747553723|\n",
      "|   2226|647823.2681731757|\n",
      "|    796|646867.7218100477|\n",
      "|    190|640294.1746529335|\n",
      "|   2365|639412.7012101663|\n",
      "+-------+-----------------+\n",
      "only showing top 10 rows\n",
      "\n"
     ]
    }
   ],
   "source": [
    "df.groupBy(\"bike_id\").agg(F.sum(\"haversine_distance\").alias(\"sum_distance\")).sort(F.desc(\"sum_distance\")).show(10)"
   ]
  },
  {
   "attachments": {},
   "cell_type": "markdown",
   "metadata": {},
   "source": [
    "##WEEK 3"
   ]
  },
  {
   "attachments": {},
   "cell_type": "markdown",
   "metadata": {},
   "source": [
    "TASK 1"
   ]
  },
  {
   "cell_type": "code",
   "execution_count": 10,
   "metadata": {},
   "outputs": [
    {
     "name": "stdout",
     "output_type": "stream",
     "text": [
      "+-------------+------+\n",
      "|member_gender| count|\n",
      "+-------------+------+\n",
      "|         null| 66462|\n",
      "|       Female| 98621|\n",
      "|        Other|  6299|\n",
      "|         Male|348318|\n",
      "+-------------+------+\n",
      "\n"
     ]
    }
   ],
   "source": [
    "df.groupby('member_gender').count().show()"
   ]
  },
  {
   "cell_type": "code",
   "execution_count": 11,
   "metadata": {},
   "outputs": [
    {
     "name": "stdout",
     "output_type": "stream",
     "text": [
      "+---+---+-------------+\n",
      "|  F|  M|member_gender|\n",
      "+---+---+-------------+\n",
      "|  0|  1|         Male|\n",
      "|  0|  1|         Male|\n",
      "|  0|  1|         Male|\n",
      "|  0|  1|         Male|\n",
      "|  0|  1|         Male|\n",
      "|  0|  1|         Male|\n",
      "|  0|  1|         Male|\n",
      "|  0|  1|         Male|\n",
      "|  0|  1|         Male|\n",
      "|  0|  1|         Male|\n",
      "+---+---+-------------+\n",
      "only showing top 10 rows\n",
      "\n"
     ]
    }
   ],
   "source": [
    "df11 = df.withColumn('F', F.when(F.col('member_gender') == 'Female', 1).otherwise(0)).withColumn('M', F.when(F.col('member_gender') == 'Male', 1).otherwise(0))\n",
    "\n",
    "df11.select('F', 'M','member_gender').show(10)"
   ]
  },
  {
   "cell_type": "code",
   "execution_count": 12,
   "metadata": {},
   "outputs": [
    {
     "ename": "AnalysisException",
     "evalue": "[UNRESOLVED_COLUMN.WITH_SUGGESTION] A column or function parameter with name `trip(s)` cannot be resolved. Did you mean one of the following? [`duration_sec`, `start_time`, `end_time`, `start_station_id`, `start_station_name`, `start_station_latitude`, `start_station_longitude`, `end_station_id`, `end_station_name`, `end_station_latitude`, `end_station_longitude`, `bike_id`, `user_type`, `member_birth_year`, `member_gender`, `pyment`, `haversine_distance`, `Trip_cost`, `F`, `M`].",
     "output_type": "error",
     "traceback": [
      "\u001b[1;31m---------------------------------------------------------------------------\u001b[0m",
      "\u001b[1;31mAnalysisException\u001b[0m                         Traceback (most recent call last)",
      "Cell \u001b[1;32mIn[12], line 2\u001b[0m\n\u001b[0;32m      1\u001b[0m \u001b[39mfrom\u001b[39;00m \u001b[39mpyspark\u001b[39;00m\u001b[39m.\u001b[39;00m\u001b[39msql\u001b[39;00m\u001b[39m.\u001b[39;00m\u001b[39mfunctions\u001b[39;00m \u001b[39mimport\u001b[39;00m desc\n\u001b[1;32m----> 2\u001b[0m df4 \u001b[39m=\u001b[39m df11\u001b[39m.\u001b[39;49mgroupBy(\u001b[39m'\u001b[39;49m\u001b[39mstart_station_id\u001b[39;49m\u001b[39m'\u001b[39;49m)\u001b[39m.\u001b[39;49magg({\u001b[39m'\u001b[39;49m\u001b[39mtrip(s)\u001b[39;49m\u001b[39m'\u001b[39;49m:\u001b[39m'\u001b[39;49m\u001b[39mcount\u001b[39;49m\u001b[39m'\u001b[39;49m, \u001b[39m'\u001b[39;49m\u001b[39mF\u001b[39;49m\u001b[39m'\u001b[39;49m:\u001b[39m'\u001b[39;49m\u001b[39msum\u001b[39;49m\u001b[39m'\u001b[39;49m, \u001b[39m'\u001b[39;49m\u001b[39mM\u001b[39;49m\u001b[39m'\u001b[39;49m: \u001b[39m'\u001b[39;49m\u001b[39msum\u001b[39;49m\u001b[39m'\u001b[39;49m})\u001b[39m.\u001b[39morderBy(desc(\u001b[39m'\u001b[39m\u001b[39mcount(trip(s))\u001b[39m\u001b[39m'\u001b[39m))\u001b[39m.\u001b[39mlimit(\u001b[39m10\u001b[39m)\n",
      "File \u001b[1;32m~\\AppData\\Local\\Packages\\PythonSoftwareFoundation.Python.3.9_qbz5n2kfra8p0\\LocalCache\\local-packages\\Python39\\site-packages\\pyspark\\sql\\group.py:170\u001b[0m, in \u001b[0;36mGroupedData.agg\u001b[1;34m(self, *exprs)\u001b[0m\n\u001b[0;32m    168\u001b[0m \u001b[39massert\u001b[39;00m exprs, \u001b[39m\"\u001b[39m\u001b[39mexprs should not be empty\u001b[39m\u001b[39m\"\u001b[39m\n\u001b[0;32m    169\u001b[0m \u001b[39mif\u001b[39;00m \u001b[39mlen\u001b[39m(exprs) \u001b[39m==\u001b[39m \u001b[39m1\u001b[39m \u001b[39mand\u001b[39;00m \u001b[39misinstance\u001b[39m(exprs[\u001b[39m0\u001b[39m], \u001b[39mdict\u001b[39m):\n\u001b[1;32m--> 170\u001b[0m     jdf \u001b[39m=\u001b[39m \u001b[39mself\u001b[39;49m\u001b[39m.\u001b[39;49m_jgd\u001b[39m.\u001b[39;49magg(exprs[\u001b[39m0\u001b[39;49m])\n\u001b[0;32m    171\u001b[0m \u001b[39melse\u001b[39;00m:\n\u001b[0;32m    172\u001b[0m     \u001b[39m# Columns\u001b[39;00m\n\u001b[0;32m    173\u001b[0m     \u001b[39massert\u001b[39;00m \u001b[39mall\u001b[39m(\u001b[39misinstance\u001b[39m(c, Column) \u001b[39mfor\u001b[39;00m c \u001b[39min\u001b[39;00m exprs), \u001b[39m\"\u001b[39m\u001b[39mall exprs should be Column\u001b[39m\u001b[39m\"\u001b[39m\n",
      "File \u001b[1;32m~\\AppData\\Local\\Packages\\PythonSoftwareFoundation.Python.3.9_qbz5n2kfra8p0\\LocalCache\\local-packages\\Python39\\site-packages\\py4j\\java_gateway.py:1322\u001b[0m, in \u001b[0;36mJavaMember.__call__\u001b[1;34m(self, *args)\u001b[0m\n\u001b[0;32m   1316\u001b[0m command \u001b[39m=\u001b[39m proto\u001b[39m.\u001b[39mCALL_COMMAND_NAME \u001b[39m+\u001b[39m\\\n\u001b[0;32m   1317\u001b[0m     \u001b[39mself\u001b[39m\u001b[39m.\u001b[39mcommand_header \u001b[39m+\u001b[39m\\\n\u001b[0;32m   1318\u001b[0m     args_command \u001b[39m+\u001b[39m\\\n\u001b[0;32m   1319\u001b[0m     proto\u001b[39m.\u001b[39mEND_COMMAND_PART\n\u001b[0;32m   1321\u001b[0m answer \u001b[39m=\u001b[39m \u001b[39mself\u001b[39m\u001b[39m.\u001b[39mgateway_client\u001b[39m.\u001b[39msend_command(command)\n\u001b[1;32m-> 1322\u001b[0m return_value \u001b[39m=\u001b[39m get_return_value(\n\u001b[0;32m   1323\u001b[0m     answer, \u001b[39mself\u001b[39;49m\u001b[39m.\u001b[39;49mgateway_client, \u001b[39mself\u001b[39;49m\u001b[39m.\u001b[39;49mtarget_id, \u001b[39mself\u001b[39;49m\u001b[39m.\u001b[39;49mname)\n\u001b[0;32m   1325\u001b[0m \u001b[39mfor\u001b[39;00m temp_arg \u001b[39min\u001b[39;00m temp_args:\n\u001b[0;32m   1326\u001b[0m     \u001b[39mif\u001b[39;00m \u001b[39mhasattr\u001b[39m(temp_arg, \u001b[39m\"\u001b[39m\u001b[39m_detach\u001b[39m\u001b[39m\"\u001b[39m):\n",
      "File \u001b[1;32m~\\AppData\\Local\\Packages\\PythonSoftwareFoundation.Python.3.9_qbz5n2kfra8p0\\LocalCache\\local-packages\\Python39\\site-packages\\pyspark\\errors\\exceptions\\captured.py:175\u001b[0m, in \u001b[0;36mcapture_sql_exception.<locals>.deco\u001b[1;34m(*a, **kw)\u001b[0m\n\u001b[0;32m    171\u001b[0m converted \u001b[39m=\u001b[39m convert_exception(e\u001b[39m.\u001b[39mjava_exception)\n\u001b[0;32m    172\u001b[0m \u001b[39mif\u001b[39;00m \u001b[39mnot\u001b[39;00m \u001b[39misinstance\u001b[39m(converted, UnknownException):\n\u001b[0;32m    173\u001b[0m     \u001b[39m# Hide where the exception came from that shows a non-Pythonic\u001b[39;00m\n\u001b[0;32m    174\u001b[0m     \u001b[39m# JVM exception message.\u001b[39;00m\n\u001b[1;32m--> 175\u001b[0m     \u001b[39mraise\u001b[39;00m converted \u001b[39mfrom\u001b[39;00m \u001b[39mNone\u001b[39;00m\n\u001b[0;32m    176\u001b[0m \u001b[39melse\u001b[39;00m:\n\u001b[0;32m    177\u001b[0m     \u001b[39mraise\u001b[39;00m\n",
      "\u001b[1;31mAnalysisException\u001b[0m: [UNRESOLVED_COLUMN.WITH_SUGGESTION] A column or function parameter with name `trip(s)` cannot be resolved. Did you mean one of the following? [`duration_sec`, `start_time`, `end_time`, `start_station_id`, `start_station_name`, `start_station_latitude`, `start_station_longitude`, `end_station_id`, `end_station_name`, `end_station_latitude`, `end_station_longitude`, `bike_id`, `user_type`, `member_birth_year`, `member_gender`, `pyment`, `haversine_distance`, `Trip_cost`, `F`, `M`]."
     ]
    }
   ],
   "source": [
    "from pyspark.sql.functions import desc\n",
    "df4 = df11.groupBy('start_station_id').agg({'trip(s)':'count', 'F':'sum', 'M': 'sum'}).orderBy(desc('count(trip(s))')).limit(10)"
   ]
  },
  {
   "cell_type": "code",
   "execution_count": null,
   "metadata": {},
   "outputs": [],
   "source": [
    "df5 = df4.withColumn('F_ratio', df4[1]/df4[3])\n",
    "#df5.show()\n",
    "df6 = df5.withColumn('M_ratio', df4[2]/df4[3])\n",
    "df6.show(10)"
   ]
  },
  {
   "attachments": {},
   "cell_type": "markdown",
   "metadata": {},
   "source": [
    "TASK 2"
   ]
  },
  {
   "cell_type": "code",
   "execution_count": 13,
   "metadata": {},
   "outputs": [
    {
     "name": "stdout",
     "output_type": "stream",
     "text": [
      "+----------+\n",
      "| user_type|\n",
      "+----------+\n",
      "|Subscriber|\n",
      "|  Customer|\n",
      "+----------+\n",
      "\n"
     ]
    }
   ],
   "source": [
    "df.select('user_type').distinct().show()"
   ]
  },
  {
   "cell_type": "code",
   "execution_count": 14,
   "metadata": {},
   "outputs": [
    {
     "name": "stdout",
     "output_type": "stream",
     "text": [
      "+----------+---------------+\n",
      "| user_type|User Percentage|\n",
      "+----------+---------------+\n",
      "|Subscriber|          78.74|\n",
      "|  Customer|          21.26|\n",
      "+----------+---------------+\n",
      "\n"
     ]
    }
   ],
   "source": [
    "df.groupBy('user_type').agg(F.round(F.count('user_type')/df.count()*100, 2).alias('User Percentage')).show()"
   ]
  },
  {
   "attachments": {},
   "cell_type": "markdown",
   "metadata": {},
   "source": [
    "TASK 3"
   ]
  },
  {
   "cell_type": "code",
   "execution_count": 15,
   "metadata": {},
   "outputs": [],
   "source": [
    "df3_3=df.where(F.col('haversine_distance')!=0) #cleaning zero distance entries"
   ]
  },
  {
   "cell_type": "code",
   "execution_count": 16,
   "metadata": {},
   "outputs": [],
   "source": [
    "df3_3=df3_3.withColumn('age',2017-F.col('member_birth_year')).withColumn('age',F.col('age').cast('int'))"
   ]
  },
  {
   "cell_type": "code",
   "execution_count": 17,
   "metadata": {},
   "outputs": [],
   "source": [
    "df3_3=df3_3.where((F.col('age')>18) & (F.col('age')<=100)) #cleaning outlier values(age=100+)\n",
    "df3_3=df3_3.dropna(how='all',subset=['age'])\n"
   ]
  },
  {
   "cell_type": "code",
   "execution_count": 37,
   "metadata": {},
   "outputs": [],
   "source": [
    "df=df.withColumn('age',2017-F.col('member_birth_year'))\\\n",
    "    .withColumn('age',F.col('age').cast('int'))\\\n",
    "    .withColumn('age_group', F.when(((F.col('age')>=18) & (F.col('age')<35)),'18 to 35')\\\n",
    "                      .otherwise(F.when((F.col('age')>=35)&(F.col('age')<50),'35 to 50')\\\n",
    "                      .otherwise(F.when((F.col('age')>=50)&(F.col('age')<65),'50 to 65')\\\n",
    "                                 .otherwise(F.when((F.col('age')>=65)&(F.col('age')<=100),'65 to 100').otherwise('non-groupped')))))"
   ]
  },
  {
   "cell_type": "code",
   "execution_count": 18,
   "metadata": {},
   "outputs": [],
   "source": [
    "df3_3=df3_3.withColumn('age_group', F.when(((F.col('age')>=18) & (F.col('age')<35)),'18 to 35')\\\n",
    "                      .otherwise(F.when((F.col('age')>=35)&(F.col('age')<50),'35 to 50')\\\n",
    "                      .otherwise(F.when((F.col('age')>=50)&(F.col('age')<65),'50 to 65')\\\n",
    "                                 .otherwise(F.when((F.col('age')>=65)&(F.col('age')<=100),'65 to 100').otherwise('non-groupped')))))\n",
    "\n",
    "df3_3_ag=df3_3.groupby('age_group').agg(F.mean('haversine_distance').alias('Age Group/Distance')).sort(F.col('age_group'))"
   ]
  },
  {
   "cell_type": "code",
   "execution_count": 19,
   "metadata": {},
   "outputs": [],
   "source": [
    "df3_3_ag=df3_3.groupby('age_group').agg(F.sum('haversine_distance').alias('Age Group/Distance')).sort(F.col('age_group'))"
   ]
  },
  {
   "cell_type": "code",
   "execution_count": 39,
   "metadata": {},
   "outputs": [
    {
     "data": {
      "text/plain": [
       "66925"
      ]
     },
     "execution_count": 39,
     "metadata": {},
     "output_type": "execute_result"
    }
   ],
   "source": [
    "df.where(F.col('age_group')=='non-groupped').count()"
   ]
  },
  {
   "cell_type": "code",
   "execution_count": null,
   "metadata": {},
   "outputs": [],
   "source": [
    "df.write.option(\"header\",True).mode('overwrite').csv('/workspaces/develhope-Data5-Team3/Data/week_3_end_dataset')"
   ]
  },
  {
   "cell_type": "code",
   "execution_count": 21,
   "metadata": {},
   "outputs": [],
   "source": [
    "import pandas as pd\n",
    "import seaborn as sn\n",
    "import matplotlib.pyplot as plt"
   ]
  },
  {
   "cell_type": "code",
   "execution_count": 22,
   "metadata": {},
   "outputs": [
    {
     "data": {
      "text/html": [
       "<div>\n",
       "<style scoped>\n",
       "    .dataframe tbody tr th:only-of-type {\n",
       "        vertical-align: middle;\n",
       "    }\n",
       "\n",
       "    .dataframe tbody tr th {\n",
       "        vertical-align: top;\n",
       "    }\n",
       "\n",
       "    .dataframe thead th {\n",
       "        text-align: right;\n",
       "    }\n",
       "</style>\n",
       "<table border=\"1\" class=\"dataframe\">\n",
       "  <thead>\n",
       "    <tr style=\"text-align: right;\">\n",
       "      <th></th>\n",
       "      <th>age_group</th>\n",
       "      <th>Age Group/Distance</th>\n",
       "    </tr>\n",
       "  </thead>\n",
       "  <tbody>\n",
       "    <tr>\n",
       "      <th>0</th>\n",
       "      <td>18 to 35</td>\n",
       "      <td>3.752144e+08</td>\n",
       "    </tr>\n",
       "    <tr>\n",
       "      <th>1</th>\n",
       "      <td>35 to 50</td>\n",
       "      <td>2.596558e+08</td>\n",
       "    </tr>\n",
       "    <tr>\n",
       "      <th>2</th>\n",
       "      <td>50 to 65</td>\n",
       "      <td>8.060019e+07</td>\n",
       "    </tr>\n",
       "    <tr>\n",
       "      <th>3</th>\n",
       "      <td>65 to 100</td>\n",
       "      <td>7.605072e+06</td>\n",
       "    </tr>\n",
       "  </tbody>\n",
       "</table>\n",
       "</div>"
      ],
      "text/plain": [
       "   age_group  Age Group/Distance\n",
       "0   18 to 35        3.752144e+08\n",
       "1   35 to 50        2.596558e+08\n",
       "2   50 to 65        8.060019e+07\n",
       "3  65 to 100        7.605072e+06"
      ]
     },
     "execution_count": 22,
     "metadata": {},
     "output_type": "execute_result"
    }
   ],
   "source": [
    "pd=df3_3_ag.toPandas()\n",
    "\n",
    "pd.head()"
   ]
  },
  {
   "cell_type": "code",
   "execution_count": 23,
   "metadata": {},
   "outputs": [
    {
     "data": {
      "text/plain": [
       "Text(-35.30555555555556, 0.5, 'Age Group')"
      ]
     },
     "execution_count": 23,
     "metadata": {},
     "output_type": "execute_result"
    },
    {
     "data": {
      "image/png": "[encoded data removed]",
      "text/plain": [
       "<Figure size 500x500 with 1 Axes>"
      ]
     },
     "metadata": {},
     "output_type": "display_data"
    }
   ],
   "source": [
    "sn.catplot(data=pd, x='Age Group/Distance', y=\"age_group\", errorbar=(\"pi\", 95), kind=\"bar\", palette=\"ch:s=.25,rot=-.25\")\n",
    "plt.xlabel('Haversine Distance(km)', weight = 'bold')\n",
    "plt.ylabel('Age Group', weight = 'bold')"
   ]
  },
  {
   "cell_type": "code",
   "execution_count": 24,
   "metadata": {},
   "outputs": [],
   "source": [
    "df3_3_ng=df3_3.groupBy('age').agg(F.mean('haversine_distance').alias('Avg_Distance')).sort(F.col('Avg_Distance'))"
   ]
  },
  {
   "cell_type": "code",
   "execution_count": 25,
   "metadata": {},
   "outputs": [],
   "source": [
    "df3_3_ng=df3_3.groupBy('age').agg(F.sum('haversine_distance').alias('Avg_Distance')).sort(F.col('Avg_Distance'))"
   ]
  },
  {
   "cell_type": "code",
   "execution_count": 26,
   "metadata": {},
   "outputs": [
    {
     "name": "stdout",
     "output_type": "stream",
     "text": [
      "+---+--------------------+\n",
      "|age|        Avg_Distance|\n",
      "+---+--------------------+\n",
      "| 89|   36531.58092412224|\n",
      "| 79|  38671.027405037225|\n",
      "| 78|   49267.34119869774|\n",
      "| 83|  58415.822000079184|\n",
      "| 77|     58667.598173411|\n",
      "| 84|   73615.35517799917|\n",
      "| 71|   80300.05416470631|\n",
      "| 76|   88164.94745103465|\n",
      "| 82|   89471.33234031532|\n",
      "| 75|   93201.88222628318|\n",
      "| 93|  127928.83604280185|\n",
      "| 74|  188870.11611176943|\n",
      "| 73|   401854.1935889635|\n",
      "| 72|  437399.78780941403|\n",
      "| 69|   627310.4806461799|\n",
      "| 67|   665882.9726550521|\n",
      "| 70|   735536.7252390501|\n",
      "| 68|    756348.347059789|\n",
      "| 64|   816659.0412061604|\n",
      "| 66|   1110020.510079633|\n",
      "| 62|  1498203.8200955822|\n",
      "| 65|   1887613.118004551|\n",
      "| 19|   2115202.303170333|\n",
      "| 60|  2366454.4971427117|\n",
      "| 20|  2682434.0025500706|\n",
      "| 63|  2945305.6696901084|\n",
      "| 21|  3740567.7942226157|\n",
      "| 58|   3893607.140348861|\n",
      "| 57|  3911315.8246265347|\n",
      "| 61|   4342004.007098821|\n",
      "| 59|   4555075.449304863|\n",
      "| 56|   5207482.936517287|\n",
      "| 51|   5657343.884849376|\n",
      "| 55|   5704852.929169536|\n",
      "| 53|   7858155.940367868|\n",
      "| 54|   8693011.651934994|\n",
      "| 48|1.0601140993435265E7|\n",
      "| 45| 1.067636888247497E7|\n",
      "| 22| 1.068570555066985E7|\n",
      "| 50|1.1013991242193572E7|\n",
      "| 52|1.2136724614138797E7|\n",
      "| 46|1.2631638918161117E7|\n",
      "| 47| 1.277608616889675E7|\n",
      "| 41| 1.298138004481803E7|\n",
      "| 49|1.3967435789438479E7|\n",
      "| 43|1.4764810555394983E7|\n",
      "| 44|1.5251200398857012E7|\n",
      "| 23|1.5879389483401326E7|\n",
      "| 39| 1.721745283330733E7|\n",
      "| 40|1.7717629836141426E7|\n",
      "| 42| 1.822727215391805E7|\n",
      "| 38| 1.960847539996816E7|\n",
      "| 25|2.0086101859604698E7|\n",
      "| 24|2.0618404836704995E7|\n",
      "| 37|2.3998989813857835E7|\n",
      "| 36|2.5306503911781617E7|\n",
      "| 26|   2.6065842103838E7|\n",
      "| 27|2.8191735243474487E7|\n",
      "| 34| 3.082012705286185E7|\n",
      "| 28|  3.14688086311304E7|\n",
      "| 33|3.2561207552345693E7|\n",
      "| 31|3.3546591663936663E7|\n",
      "| 35| 3.392943552118206E7|\n",
      "| 30| 3.830422714881088E7|\n",
      "| 29| 3.856963014693175E7|\n",
      "| 32| 3.987847065855432E7|\n",
      "+---+--------------------+\n",
      "\n"
     ]
    }
   ],
   "source": [
    "df3_3_ng.show(100)"
   ]
  },
  {
   "cell_type": "code",
   "execution_count": 27,
   "metadata": {},
   "outputs": [
    {
     "data": {
      "text/plain": [
       "Text(0, 0.5, 'Haversine Distance(km)')"
      ]
     },
     "execution_count": 27,
     "metadata": {},
     "output_type": "execute_result"
    },
    {
     "data": {
      "image/png": "[encoded data removed]",
      "text/plain": [
       "<Figure size 640x480 with 1 Axes>"
      ]
     },
     "metadata": {},
     "output_type": "display_data"
    }
   ],
   "source": [
    "df2=df3_3_ng.toPandas()\n",
    "\n",
    "sn.regplot(x= \"age\", y= \"Avg_Distance\", data=df2)\n",
    "plt.xlabel('Age', weight = 'bold')\n",
    "plt.ylabel('Haversine Distance(km)', weight = 'bold')"
   ]
  },
  {
   "attachments": {},
   "cell_type": "markdown",
   "metadata": {},
   "source": [
    "WEEK 4"
   ]
  },
  {
   "attachments": {},
   "cell_type": "markdown",
   "metadata": {},
   "source": [
    "#TASK 1"
   ]
  },
  {
   "cell_type": "code",
   "execution_count": 28,
   "metadata": {},
   "outputs": [
    {
     "name": "stdout",
     "output_type": "stream",
     "text": [
      "+----------+------------------+\n",
      "| user_type|    sum(Trip_cost)|\n",
      "+----------+------------------+\n",
      "|Subscriber|1683699.5700000036|\n",
      "|  Customer|1648039.3766666679|\n",
      "+----------+------------------+\n",
      "\n"
     ]
    }
   ],
   "source": [
    "df.groupBy('user_type').agg({'Trip_cost': 'sum'}).show()"
   ]
  },
  {
   "attachments": {},
   "cell_type": "markdown",
   "metadata": {},
   "source": [
    "#TASK 2"
   ]
  },
  {
   "cell_type": "code",
   "execution_count": 29,
   "metadata": {},
   "outputs": [],
   "source": [
    "df=df.withColumn('time_of_the_day', F.when(((F.hour('start_time')>=5) & (F.hour('start_time')<12)),'Morning')\\\n",
    "                      .otherwise(F.when((F.hour('start_time')>=12)&(F.hour('start_time')<18),'Afternoon')\\\n",
    "                      .otherwise(F.when((F.hour('start_time')>=18)&(F.hour('start_time')<21),'Evening')\\\n",
    "                                 .otherwise('Night'))))"
   ]
  },
  {
   "cell_type": "code",
   "execution_count": null,
   "metadata": {},
   "outputs": [],
   "source": [
    "df.write.option(\"header\",True).mode('overwrite').csv('/workspaces/develhope-Data5-Team3/Data/week_4_end_dataset')"
   ]
  },
  {
   "cell_type": "code",
   "execution_count": 30,
   "metadata": {},
   "outputs": [
    {
     "name": "stdout",
     "output_type": "stream",
     "text": [
      "+---------------+-----------+\n",
      "|time_of_the_day|total_rents|\n",
      "+---------------+-----------+\n",
      "|        Evening|     129898|\n",
      "|        Morning|      96965|\n",
      "|      Afternoon|     174699|\n",
      "|          Night|     118138|\n",
      "+---------------+-----------+\n",
      "\n"
     ]
    }
   ],
   "source": [
    "df_time_of_day=df.groupBy('time_of_the_day').agg(F.count('start_time').alias('total_rents'))\n",
    "\n",
    "df_time_of_day.show()"
   ]
  },
  {
   "cell_type": "code",
   "execution_count": null,
   "metadata": {},
   "outputs": [],
   "source": [
    "import pandas as pd\n",
    "import seaborn as sn\n",
    "import matplotlib.pyplot as plt"
   ]
  },
  {
   "cell_type": "code",
   "execution_count": 32,
   "metadata": {},
   "outputs": [],
   "source": [
    "pd=df_time_of_day.toPandas()"
   ]
  },
  {
   "cell_type": "code",
   "execution_count": 33,
   "metadata": {},
   "outputs": [
    {
     "data": {
      "text/plain": [
       "<matplotlib.legend.Legend at 0x2317474d7c0>"
      ]
     },
     "execution_count": 33,
     "metadata": {},
     "output_type": "execute_result"
    },
    {
     "data": {
      "image/png": "[encoded data removed]",
      "text/plain": [
       "<Figure size 640x480 with 1 Axes>"
      ]
     },
     "metadata": {},
     "output_type": "display_data"
    }
   ],
   "source": [
    "sn.barplot(x= pd[\"time_of_the_day\"], y= pd['total_rents'], data=pd, order=['Morning','Afternoon','Evening','Night'])\n",
    "plt.legend(['Morning: 5AM-12PM', 'Afternoon: 12PM-6PM','Evening: 6PM-9PM', 'Night: 9PM-5AM'])"
   ]
  },
  {
   "cell_type": "code",
   "execution_count": 34,
   "metadata": {},
   "outputs": [
    {
     "name": "stdout",
     "output_type": "stream",
     "text": [
      "+----+-----------+\n",
      "|hour|total_count|\n",
      "+----+-----------+\n",
      "|   0|      11993|\n",
      "|   1|       7967|\n",
      "|   2|       4867|\n",
      "|   3|       2606|\n",
      "|   4|       1377|\n",
      "|   5|        860|\n",
      "|   6|        398|\n",
      "|   7|        640|\n",
      "|   8|       2145|\n",
      "|   9|       8895|\n",
      "|  10|      26800|\n",
      "|  11|      57227|\n",
      "|  12|      45457|\n",
      "|  13|      25217|\n",
      "|  14|      24303|\n",
      "|  15|      27448|\n",
      "|  16|      27374|\n",
      "|  17|      24900|\n",
      "|  18|      28448|\n",
      "|  19|      41339|\n",
      "+----+-----------+\n",
      "only showing top 20 rows\n",
      "\n"
     ]
    }
   ],
   "source": [
    "df_hour=df.groupBy(F.hour('start_time').alias('hour')).agg(F.count('start_time').alias('total_count')).sort(F.hour('start_time'))\n",
    "df_hour.show()"
   ]
  },
  {
   "cell_type": "code",
   "execution_count": 35,
   "metadata": {},
   "outputs": [
    {
     "data": {
      "text/plain": [
       "<Axes: xlabel='hour', ylabel='total_count'>"
      ]
     },
     "execution_count": 35,
     "metadata": {},
     "output_type": "execute_result"
    },
    {
     "data": {
      "image/png": "[encoded data removed]",
      "text/plain": [
       "<Figure size 640x480 with 1 Axes>"
      ]
     },
     "metadata": {},
     "output_type": "display_data"
    }
   ],
   "source": [
    "pd_2=df_hour.toPandas()\n",
    "sn.barplot(x= pd_2[\"hour\"], y= pd_2['total_count'], data=pd_2)"
   ]
  },
  {
   "attachments": {},
   "cell_type": "markdown",
   "metadata": {},
   "source": [
    "#TASK 3"
   ]
  },
  {
   "cell_type": "code",
   "execution_count": null,
   "metadata": {},
   "outputs": [],
   "source": [
    "df.columns"
   ]
  },
  {
   "cell_type": "code",
   "execution_count": null,
   "metadata": {},
   "outputs": [],
   "source": [
    "df.select(['start_station_name','start_time']).groupBy(['start_station_name', F.hour('start_time').alias('hour')]).agg(F.count('start_time').alias('# of Rents')).sort(['start_station_name','hour']).show(25)\n"
   ]
  },
  {
   "attachments": {},
   "cell_type": "markdown",
   "metadata": {},
   "source": [
    "df_station=df.select(['start_station_name','start_time']).groupBy(['start_station_name', F.hour('start_time').alias('hour')]).agg(F.count('start_time').alias('# of Rents')).sort(['start_station_name','hour'])\n",
    "pd_station=df_station.toPandas()"
   ]
  },
  {
   "cell_type": "code",
   "execution_count": null,
   "metadata": {},
   "outputs": [],
   "source": [
    "plt.figure(figsize=(5,20))\n",
    "sn.scatterplot(x= pd_station['hour'], y= pd_station['start_station_name'], hue='# of Rents',data=pd_station)\n",
    "plt.autoscale(enable=True)\n",
    "plt.xlabel(xlabel='Station Names')\n",
    "plt.xticks(rotation=90, fontsize=6)\n",
    "plt.legend(bbox_to_anchor=(1.05, 1), loc='upper left', borderaxespad=0)"
   ]
  },
  {
   "cell_type": "code",
   "execution_count": null,
   "metadata": {},
   "outputs": [],
   "source": [
    "plt.figure(figsize=(35,4))\n",
    "sn.scatterplot(x= pd_station['start_station_name'], y= pd_station['# of Rents'], hue='hour',data=pd_station)\n",
    "plt.autoscale(enable=True)\n",
    "plt.xlabel(xlabel='Station Names')\n",
    "plt.xticks(rotation=90, fontsize=6)\n",
    "plt.legend(bbox_to_anchor=(1.05, 1), loc='upper left', borderaxespad=0)"
   ]
  },
  {
   "cell_type": "code",
   "execution_count": null,
   "metadata": {},
   "outputs": [],
   "source": [
    "plt.figure(figsize=(20,10))\n",
    "\n",
    "sn.histplot(x= pd_station[\"hour\"], y= pd_station['# of Rents'], data=pd_station, kde=True)\n",
    "\n",
    "plt.legend(bbox_to_anchor=(1.05, 1), loc='upper left', borderaxespad=0)"
   ]
  },
  {
   "attachments": {},
   "cell_type": "markdown",
   "metadata": {},
   "source": [
    "WEEK 5\n",
    "1- what is the ratio of payment using cc or app wallet\n",
    "2- what is the preferred way to pay for customers and subscriber\n",
    "3- Analyze the relationship between trip duration and user type (subscriber vs. customer) to understand differences in usage patterns."
   ]
  }
 ],
 "metadata": {
  "kernelspec": {
   "display_name": "Python 3",
   "language": "python",
   "name": "python3"
  },
  "language_info": {
   "codemirror_mode": {
    "name": "ipython",
    "version": 3
   },
   "file_extension": ".py",
   "mimetype": "text/x-python",
   "name": "python",
   "nbconvert_exporter": "python",
   "pygments_lexer": "ipython3",
   "version": "3.9.13"
  },
  "orig_nbformat": 4
 },
 "nbformat": 4,
 "nbformat_minor": 2
}
