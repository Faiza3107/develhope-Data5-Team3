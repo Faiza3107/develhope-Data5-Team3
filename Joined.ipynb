{
 "cells": [
  {
   "cell_type": "code",
   "execution_count": null,
   "metadata": {},
   "outputs": [],
   "source": [
    "!pip install pyspark\n",
    "!pip install haversine\n",
    "!pip install seaborn"
   ]
  },
  {
   "cell_type": "code",
   "execution_count": 1,
   "metadata": {},
   "outputs": [
    {
     "data": {
      "text/html": [
       "\n",
       "            <div>\n",
       "                <p><b>SparkSession - in-memory</b></p>\n",
       "                \n",
       "        <div>\n",
       "            <p><b>SparkContext</b></p>\n",
       "\n",
       "            <p><a href=\"http://LAPTOP-UTIUBO9M:4040\">Spark UI</a></p>\n",
       "\n",
       "            <dl>\n",
       "              <dt>Version</dt>\n",
       "                <dd><code>v3.4.0</code></dd>\n",
       "              <dt>Master</dt>\n",
       "                <dd><code>local[*]</code></dd>\n",
       "              <dt>AppName</dt>\n",
       "                <dd><code>FordGoBike</code></dd>\n",
       "            </dl>\n",
       "        </div>\n",
       "        \n",
       "            </div>\n",
       "        "
      ],
      "text/plain": [
       "<pyspark.sql.session.SparkSession at 0x1d8dd8f75e0>"
      ]
     },
     "execution_count": 1,
     "metadata": {},
     "output_type": "execute_result"
    }
   ],
   "source": [
    "from pyspark.sql import functions as F\n",
    "from pyspark.sql import SparkSession\n",
    "from pyspark.sql.types import FloatType, StringType\n",
    "\n",
    "spark=SparkSession.builder.appName('FordGoBike').getOrCreate()\n",
    "spark"
   ]
  },
  {
   "cell_type": "code",
   "execution_count": 2,
   "metadata": {},
   "outputs": [
    {
     "name": "stdout",
     "output_type": "stream",
     "text": [
      "+-------+------------------+-----------------+--------------------+----------------------+-----------------------+-----------------+--------------------+--------------------+---------------------+------------------+----------+------------------+-------------+-----------+\n",
      "|summary|      duration_sec| start_station_id|  start_station_name|start_station_latitude|start_station_longitude|   end_station_id|    end_station_name|end_station_latitude|end_station_longitude|           bike_id| user_type| member_birth_year|member_gender|     pyment|\n",
      "+-------+------------------+-----------------+--------------------+----------------------+-----------------------+-----------------+--------------------+--------------------+---------------------+------------------+----------+------------------+-------------+-----------+\n",
      "|  count|            519700|           519700|              519700|                519700|                 519700|           519700|              519700|              519700|               519700|            519700|    519700|            453159|       453238|     519700|\n",
      "|   mean|1099.0095208774294|95.03424475659034|                null|     37.77165260311285|    -122.36392726512258|92.18404079276506|                null|  37.771843749647424|  -122.36323553679595|1672.5330786992495|      null|1980.4047872821682|         null|       null|\n",
      "| stddev| 3444.146451247438|86.08307797095985|                null|   0.08630496061663719|    0.10557344899193223|84.96949148635476|                null| 0.08622383487117569|   0.1051222022292697| 971.3569593530083|      null| 10.51348753990844|         null|       null|\n",
      "|    min|                61|                3|10th Ave at E 15t...|            37.3172979|    -122.44429260492323|                3|10th Ave at E 15t...|          37.3172979|  -122.44429260492323|                10|  Customer|            1886.0|       Female| app wallet|\n",
      "|    max|             86369|              340|Yerba Buena Cente...|     37.88022244590679|           -121.8741186|              340|Yerba Buena Cente...|   37.88022244590679|         -121.8741186|              3733|Subscriber|            1999.0|        Other|credit card|\n",
      "+-------+------------------+-----------------+--------------------+----------------------+-----------------------+-----------------+--------------------+--------------------+---------------------+------------------+----------+------------------+-------------+-----------+\n",
      "\n"
     ]
    }
   ],
   "source": [
    "path=\"G:\\My Drive\\Develhope\\develhope-Data5-Team3\\Data\\Raw_FordGoBike\"\n",
    "df=spark.read.csv(path,header=True, inferSchema=True)\n",
    "\n",
    "df.describe().show()"
   ]
  },
  {
   "cell_type": "code",
   "execution_count": 3,
   "metadata": {},
   "outputs": [
    {
     "data": {
      "text/plain": [
       "['duration_sec',\n",
       " 'start_time',\n",
       " 'end_time',\n",
       " 'start_station_id',\n",
       " 'start_station_name',\n",
       " 'start_station_latitude',\n",
       " 'start_station_longitude',\n",
       " 'end_station_id',\n",
       " 'end_station_name',\n",
       " 'end_station_latitude',\n",
       " 'end_station_longitude',\n",
       " 'bike_id',\n",
       " 'user_type',\n",
       " 'member_birth_year',\n",
       " 'member_gender',\n",
       " 'pyment']"
      ]
     },
     "execution_count": 3,
     "metadata": {},
     "output_type": "execute_result"
    }
   ],
   "source": [
    "df.columns"
   ]
  },
  {
   "cell_type": "code",
   "execution_count": 17,
   "metadata": {},
   "outputs": [],
   "source": [
    "df_2=df.withColumn('bigger',F.col('start_time')>F.col('end_time'))\n",
    "\n"
   ]
  },
  {
   "cell_type": "code",
   "execution_count": 22,
   "metadata": {},
   "outputs": [
    {
     "name": "stdout",
     "output_type": "stream",
     "text": [
      "+------------+--------------------+--------------------+----------------+------------------+----------------------+-----------------------+--------------+-----------------+--------------------+---------------------+-------+----------+-----------------+-------------+-----------+------+\n",
      "|duration_sec|          start_time|            end_time|start_station_id|start_station_name|start_station_latitude|start_station_longitude|end_station_id| end_station_name|end_station_latitude|end_station_longitude|bike_id| user_type|member_birth_year|member_gender|     pyment|bigger|\n",
      "+------------+--------------------+--------------------+----------------+------------------+----------------------+-----------------------+--------------+-----------------+--------------------+---------------------+-------+----------+-----------------+-------------+-----------+------+\n",
      "|         292|2017-11-05 04:59:...|2017-11-05 04:04:...|             121|Mission Playground|            37.7592103|           -122.4213392|           119|18th St at Noe St|          37.7610471|         -122.4326417|   2773|Subscriber|           1994.0|         Male|credit card|  true|\n",
      "+------------+--------------------+--------------------+----------------+------------------+----------------------+-----------------------+--------------+-----------------+--------------------+---------------------+-------+----------+-----------------+-------------+-----------+------+\n",
      "\n"
     ]
    }
   ],
   "source": [
    "df_2.filter(df_2['bigger']==True).show()"
   ]
  },
  {
   "attachments": {},
   "cell_type": "markdown",
   "metadata": {},
   "source": [
    "##WEEK 1 - Calcualte Haversine Distance"
   ]
  },
  {
   "cell_type": "code",
   "execution_count": null,
   "metadata": {},
   "outputs": [],
   "source": [
    "from haversine import haversine\n",
    "\n",
    "def haversine_f(lat1, lon1, lat2, lon2):\n",
    "    return haversine( (lat1, lon1), (lat2, lon2),unit='m',normalize=True )\n",
    "\n",
    "haversine_udf = F.udf(haversine_f)"
   ]
  },
  {
   "cell_type": "code",
   "execution_count": null,
   "metadata": {},
   "outputs": [],
   "source": [
    "df=df.withColumn('haversine_distance', \n",
    "                    haversine_udf(F.col('start_station_latitude'), F.col('start_station_longitude'), \n",
    "                                  F.col('end_station_latitude'), F.col('end_station_longitude'))\n",
    "                    )"
   ]
  },
  {
   "attachments": {},
   "cell_type": "markdown",
   "metadata": {},
   "source": [
    "##WEEK 2"
   ]
  },
  {
   "attachments": {},
   "cell_type": "markdown",
   "metadata": {},
   "source": [
    "##TASK 2 - Calculate the trip cost"
   ]
  },
  {
   "cell_type": "code",
   "execution_count": null,
   "metadata": {},
   "outputs": [],
   "source": [
    "df=df.withColumn('start_time',F.to_timestamp('start_time','HH:mm:ss'))\\\n",
    "    .withColumn('end_time',F.to_timestamp('end_time','HH:mm:ss'))\\\n",
    "    .withColumn('Diff_in_seconds',F.col('end_time').cast('long')-F.col('start_time').cast('long'))\\\n",
    "    .withColumn('Diff_in_minutes',(F.col('Diff_in_seconds')/60))\\\n",
    "    .withColumn('Trip_cost',(F.col('Diff_in_minutes')*0.35))"
   ]
  },
  {
   "attachments": {},
   "cell_type": "markdown",
   "metadata": {},
   "source": [
    "TASK 3 - Calculate the total distance for each bike and list the top 10"
   ]
  },
  {
   "cell_type": "code",
   "execution_count": null,
   "metadata": {},
   "outputs": [],
   "source": [
    "df.groupBy(\"bike_id\").agg(F.sum(\"haversine_distance\").alias(\"sum_distance\")).sort(F.desc(\"sum_distance\")).show(10)"
   ]
  },
  {
   "attachments": {},
   "cell_type": "markdown",
   "metadata": {},
   "source": [
    "##WEEK 3"
   ]
  },
  {
   "attachments": {},
   "cell_type": "markdown",
   "metadata": {},
   "source": [
    "TASK 1"
   ]
  },
  {
   "cell_type": "code",
   "execution_count": null,
   "metadata": {},
   "outputs": [],
   "source": [
    "df.groupby('member_gender').count().show()"
   ]
  },
  {
   "cell_type": "code",
   "execution_count": null,
   "metadata": {},
   "outputs": [],
   "source": [
    "df11 = df3.withColumn('F', F.when(F.col('member_gender') == 'Female', 1).otherwise(0)).withColumn('M', F.when(F.col('member_gender') == 'Male', 1).otherwise(0))\n",
    "\n",
    "df11.select('F', 'M','member_gender').show(10)"
   ]
  },
  {
   "cell_type": "code",
   "execution_count": null,
   "metadata": {},
   "outputs": [],
   "source": [
    "df4 = df11.groupBy('start_station_id').agg({'trip(s)':'count', 'F':'sum', 'M': 'sum'}).orderBy(desc('count(trip(s))')).head(10)"
   ]
  },
  {
   "cell_type": "code",
   "execution_count": null,
   "metadata": {},
   "outputs": [],
   "source": [
    "from pyspark.sql.functions import desc\n",
    "df4 = df11.groupBy('start_station_id').agg({'trip(s)':'count', 'F':'sum', 'M': 'sum'}).orderBy(desc('count(trip(s))')).limit(10)"
   ]
  },
  {
   "cell_type": "code",
   "execution_count": null,
   "metadata": {},
   "outputs": [],
   "source": [
    "df5 = df4.withColumn('F_ratio', df4[1]/df4[3])\n",
    "#df5.show()\n",
    "df6 = df5.withColumn('M_ratio', df4[2]/df4[3])\n",
    "df6.show(10)"
   ]
  },
  {
   "attachments": {},
   "cell_type": "markdown",
   "metadata": {},
   "source": [
    "TASK 2"
   ]
  },
  {
   "cell_type": "code",
   "execution_count": null,
   "metadata": {},
   "outputs": [],
   "source": [
    "df.select('user_type').distinct().show()"
   ]
  },
  {
   "cell_type": "code",
   "execution_count": null,
   "metadata": {},
   "outputs": [],
   "source": [
    "df.groupBy('user_type').agg(F.round(F.count('user_type')/df.count()*100, 2).alias('User Percentage')).show()"
   ]
  },
  {
   "attachments": {},
   "cell_type": "markdown",
   "metadata": {},
   "source": [
    "TASK 3"
   ]
  },
  {
   "cell_type": "code",
   "execution_count": null,
   "metadata": {},
   "outputs": [],
   "source": [
    "df3_3=df.where(F.col('haversine_distance')!=0) #cleaning zero distance entries"
   ]
  },
  {
   "cell_type": "code",
   "execution_count": null,
   "metadata": {},
   "outputs": [],
   "source": [
    "df3_3=df3_3.withColumn('age',2017-F.col('member_birth_year')).withColumn('age',F.col('age').cast('int'))"
   ]
  },
  {
   "cell_type": "code",
   "execution_count": null,
   "metadata": {},
   "outputs": [],
   "source": [
    "df3_3=df3_3.where((F.col('age')>18) & (F.col('age')<=100)) #cleaning outlier values(age=100+)\n",
    "df3_3=df3_3.dropna(how='all',subset=['age'])\n"
   ]
  },
  {
   "cell_type": "code",
   "execution_count": null,
   "metadata": {},
   "outputs": [],
   "source": [
    "df3_3=df3_3.withColumn('age_group', F.when(((F.col('age')>=18) & (F.col('age')<35)),'18 to 35')\\\n",
    "                      .otherwise(F.when((F.col('age')>=35)&(F.col('age')<50),'35 to 50')\\\n",
    "                      .otherwise(F.when((F.col('age')>=50)&(F.col('age')<65),'50 to 65')\\\n",
    "                                 .otherwise(F.when((F.col('age')>=65)&(F.col('age')<=100),'65 to 100').otherwise('non-groupped')))))\n",
    "\n",
    "df3_3_ag=df3_3.groupby('age_group').agg(F.mean('haversine_distance').alias('Age Group/Distance')).sort(F.col('age_group'))"
   ]
  },
  {
   "cell_type": "code",
   "execution_count": null,
   "metadata": {},
   "outputs": [],
   "source": [
    "df3_3_ag=df3_3.groupby('age_group').agg(F.sum('haversine_distance').alias('Age Group/Distance')).sort(F.col('age_group'))"
   ]
  },
  {
   "cell_type": "code",
   "execution_count": null,
   "metadata": {},
   "outputs": [],
   "source": [
    "df3_3.where(F.col('age_group')=='non-groupped').show()"
   ]
  },
  {
   "cell_type": "code",
   "execution_count": null,
   "metadata": {},
   "outputs": [],
   "source": [
    "df3_3.write.option(\"header\",True).mode('overwrite').csv('/workspaces/develhope-Data5-Team3/Data/week_3')"
   ]
  },
  {
   "cell_type": "code",
   "execution_count": null,
   "metadata": {},
   "outputs": [],
   "source": [
    "import pandas as pd\n",
    "import seaborn as sn\n",
    "import matplotlib.pyplot as plt"
   ]
  },
  {
   "cell_type": "code",
   "execution_count": null,
   "metadata": {},
   "outputs": [],
   "source": [
    "pd=df3_3_ag.toPandas()\n",
    "\n",
    "pd.head()"
   ]
  },
  {
   "cell_type": "code",
   "execution_count": null,
   "metadata": {},
   "outputs": [],
   "source": [
    "sn.catplot(data=pd, x='Age Group/Distance', y=\"age_group\", errorbar=(\"pi\", 95), kind=\"bar\", palette=\"ch:s=.25,rot=-.25\")\n",
    "plt.xlabel('Haversine Distance(km)', weight = 'bold')\n",
    "plt.ylabel('Age Group', weight = 'bold')"
   ]
  },
  {
   "cell_type": "code",
   "execution_count": null,
   "metadata": {},
   "outputs": [],
   "source": [
    "df3_3_ng=df3_3.groupBy('age').agg(F.mean('haversine_distance').alias('Avg_Distance')).sort(F.col('Avg_Distance'))"
   ]
  },
  {
   "cell_type": "code",
   "execution_count": null,
   "metadata": {},
   "outputs": [],
   "source": [
    "df3_3_ng=df3_3.groupBy('age').agg(F.sum('haversine_distance').alias('Avg_Distance')).sort(F.col('Avg_Distance'))"
   ]
  },
  {
   "cell_type": "code",
   "execution_count": null,
   "metadata": {},
   "outputs": [],
   "source": [
    "df3_3_ng.show(100)"
   ]
  },
  {
   "cell_type": "code",
   "execution_count": null,
   "metadata": {},
   "outputs": [],
   "source": [
    "df2=df3_3_ng.toPandas()\n",
    "\n",
    "sn.regplot(x= \"age\", y= \"Avg_Distance\", data=df2)\n",
    "plt.xlabel('Age', weight = 'bold')\n",
    "plt.ylabel('Haversine Distance(km)', weight = 'bold')"
   ]
  },
  {
   "attachments": {},
   "cell_type": "markdown",
   "metadata": {},
   "source": [
    "WEEK 4"
   ]
  },
  {
   "attachments": {},
   "cell_type": "markdown",
   "metadata": {},
   "source": [
    "#TASK 1"
   ]
  },
  {
   "cell_type": "code",
   "execution_count": null,
   "metadata": {},
   "outputs": [],
   "source": [
    "df.groupBy('user_type').agg({'Trip_cost': 'sum'}).show()"
   ]
  },
  {
   "attachments": {},
   "cell_type": "markdown",
   "metadata": {},
   "source": [
    "#TASK 2"
   ]
  },
  {
   "cell_type": "code",
   "execution_count": null,
   "metadata": {},
   "outputs": [],
   "source": [
    "df=df.withColumn('time_of_the_day', F.when(((F.hour('start_time')>=5) & (F.hour('start_time')<12)),'Morning')\\\n",
    "                      .otherwise(F.when((F.hour('start_time')>=12)&(F.hour('start_time')<18),'Afternoon')\\\n",
    "                      .otherwise(F.when((F.hour('start_time')>=18)&(F.hour('start_time')<21),'Evening')\\\n",
    "                                 .otherwise('Night'))))"
   ]
  },
  {
   "cell_type": "code",
   "execution_count": null,
   "metadata": {},
   "outputs": [],
   "source": [
    "df_time_of_day=df.groupBy('time_of_the_day').agg(F.count('start_time').alias('total_rents'))\n",
    "\n",
    "df_time_of_day.show()"
   ]
  },
  {
   "cell_type": "code",
   "execution_count": null,
   "metadata": {},
   "outputs": [],
   "source": [
    "import pandas as pd\n",
    "import seaborn as sn\n",
    "import matplotlib.pyplot as plt"
   ]
  },
  {
   "cell_type": "code",
   "execution_count": null,
   "metadata": {},
   "outputs": [],
   "source": [
    "sn.barplot(x= pd[\"time_of_the_day\"], y= pd['total_rents'], data=pd, order=['Morning','Afternoon','Evening','Night'])\n",
    "plt.legend(['Morning: 5AM-12PM', 'Afternoon: 12PM-6PM','Evening: 6PM-9PM', 'Night: 9PM-5AM'])"
   ]
  },
  {
   "cell_type": "code",
   "execution_count": null,
   "metadata": {},
   "outputs": [],
   "source": [
    "df_hour=df.groupBy(F.hour('start_time').alias('hour')).agg(F.count('start_time').alias('total_count')).sort(F.hour('start_time'))\n",
    "df_hour.show()"
   ]
  },
  {
   "cell_type": "code",
   "execution_count": null,
   "metadata": {},
   "outputs": [],
   "source": [
    "pd_2=df_hour.toPandas()\n",
    "sn.barplot(x= pd_2[\"hour\"], y= pd_2['total_count'], data=pd_2)"
   ]
  },
  {
   "attachments": {},
   "cell_type": "markdown",
   "metadata": {},
   "source": [
    "#TASK 3"
   ]
  },
  {
   "cell_type": "code",
   "execution_count": null,
   "metadata": {},
   "outputs": [],
   "source": [
    "df.columns"
   ]
  },
  {
   "cell_type": "code",
   "execution_count": null,
   "metadata": {},
   "outputs": [],
   "source": [
    "df.select(['start_station_name','start_time']).groupBy(['start_station_name', F.hour('start_time').alias('hour')]).agg(F.count('start_time').alias('# of Rents')).sort(['start_station_name','hour']).show(25)\n"
   ]
  },
  {
   "attachments": {},
   "cell_type": "markdown",
   "metadata": {},
   "source": [
    "df_station=df.select(['start_station_name','start_time']).groupBy(['start_station_name', F.hour('start_time').alias('hour')]).agg(F.count('start_time').alias('# of Rents')).sort(['start_station_name','hour'])\n",
    "pd_station=df_station.toPandas()"
   ]
  },
  {
   "cell_type": "code",
   "execution_count": null,
   "metadata": {},
   "outputs": [],
   "source": [
    "plt.figure(figsize=(5,20))\n",
    "sn.scatterplot(x= pd_station['hour'], y= pd_station['start_station_name'], hue='# of Rents',data=pd_station)\n",
    "plt.autoscale(enable=True)\n",
    "plt.xlabel(xlabel='Station Names')\n",
    "plt.xticks(rotation=90, fontsize=6)\n",
    "plt.legend(bbox_to_anchor=(1.05, 1), loc='upper left', borderaxespad=0)"
   ]
  },
  {
   "cell_type": "code",
   "execution_count": null,
   "metadata": {},
   "outputs": [],
   "source": [
    "plt.figure(figsize=(35,4))\n",
    "sn.scatterplot(x= pd_station['start_station_name'], y= pd_station['# of Rents'], hue='hour',data=pd_station)\n",
    "plt.autoscale(enable=True)\n",
    "plt.xlabel(xlabel='Station Names')\n",
    "plt.xticks(rotation=90, fontsize=6)\n",
    "plt.legend(bbox_to_anchor=(1.05, 1), loc='upper left', borderaxespad=0)"
   ]
  },
  {
   "cell_type": "code",
   "execution_count": null,
   "metadata": {},
   "outputs": [],
   "source": [
    "plt.figure(figsize=(20,10))\n",
    "\n",
    "sn.histplot(x= pd_station[\"hour\"], y= pd_station['# of Rents'], data=pd_station, kde=True)\n",
    "\n",
    "plt.legend(bbox_to_anchor=(1.05, 1), loc='upper left', borderaxespad=0)"
   ]
  }
 ],
 "metadata": {
  "kernelspec": {
   "display_name": "Python 3",
   "language": "python",
   "name": "python3"
  },
  "language_info": {
   "codemirror_mode": {
    "name": "ipython",
    "version": 3
   },
   "file_extension": ".py",
   "mimetype": "text/x-python",
   "name": "python",
   "nbconvert_exporter": "python",
   "pygments_lexer": "ipython3",
   "version": "3.9.13"
  },
  "orig_nbformat": 4
 },
 "nbformat": 4,
 "nbformat_minor": 2
}
