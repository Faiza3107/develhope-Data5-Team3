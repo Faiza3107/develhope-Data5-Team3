{
 "cells": [
  {
   "cell_type": "code",
   "execution_count": null,
   "metadata": {},
   "outputs": [],
   "source": [
    "!pip install pyspark"
   ]
  },
  {
   "cell_type": "code",
   "execution_count": 1,
   "metadata": {},
   "outputs": [
    {
     "data": {
      "text/html": [
       "\n",
       "            <div>\n",
       "                <p><b>SparkSession - in-memory</b></p>\n",
       "                \n",
       "        <div>\n",
       "            <p><b>SparkContext</b></p>\n",
       "\n",
       "            <p><a href=\"http://LAPTOP-UTIUBO9M:4040\">Spark UI</a></p>\n",
       "\n",
       "            <dl>\n",
       "              <dt>Version</dt>\n",
       "                <dd><code>v3.4.0</code></dd>\n",
       "              <dt>Master</dt>\n",
       "                <dd><code>local[*]</code></dd>\n",
       "              <dt>AppName</dt>\n",
       "                <dd><code>FordGoBike</code></dd>\n",
       "            </dl>\n",
       "        </div>\n",
       "        \n",
       "            </div>\n",
       "        "
      ],
      "text/plain": [
       "<pyspark.sql.session.SparkSession at 0x23dde0be670>"
      ]
     },
     "execution_count": 1,
     "metadata": {},
     "output_type": "execute_result"
    }
   ],
   "source": [
    "from pyspark.sql import functions as F\n",
    "from pyspark.sql import SparkSession\n",
    "from pyspark.sql.types import FloatType, StringType\n",
    "\n",
    "spark=SparkSession.builder.appName('FordGoBike').getOrCreate()\n",
    "spark\n",
    "# https://www.kaggle.com/code/priyankabnl/fordgobike-trip-data"
   ]
  },
  {
   "cell_type": "code",
   "execution_count": 7,
   "metadata": {},
   "outputs": [
    {
     "name": "stdout",
     "output_type": "stream",
     "text": [
      "+------------+--------------------+--------------------+----------------+--------------------+----------------------+-----------------------+--------------+--------------------+--------------------+---------------------+-------+----------+-----------------+-------------+-----------+\n",
      "|duration_sec|          start_time|            end_time|start_station_id|  start_station_name|start_station_latitude|start_station_longitude|end_station_id|    end_station_name|end_station_latitude|end_station_longitude|bike_id| user_type|member_birth_year|member_gender|     pyment|\n",
      "+------------+--------------------+--------------------+----------------+--------------------+----------------------+-----------------------+--------------+--------------------+--------------------+---------------------+-------+----------+-----------------+-------------+-----------+\n",
      "|       80110|2017-12-31 16:57:...|2018-01-01 15:12:...|              74|Laguna St at Haye...|    37.776434819204745|    -122.42624402046204|            43|San Francisco Pub...|          37.7787677|         -122.4159292|     96|  Customer|           1987.0|         Male|credit card|\n",
      "|       78800|2017-12-31 15:56:...|2018-01-01 13:49:...|             284|Yerba Buena Cente...|     37.78487208436062|    -122.40087568759915|            96|Dolores St at 15t...|          37.7662102|         -122.4266136|     88|  Customer|           1965.0|       Female|credit card|\n",
      "|       45768|2017-12-31 22:45:...|2018-01-01 11:28:...|             245|Downtown Berkeley...|            37.8703477|           -122.2677637|           245|Downtown Berkeley...|          37.8703477|         -122.2677637|   1094|  Customer|             null|         null|credit card|\n",
      "|       62172|2017-12-31 17:31:...|2018-01-01 10:47:...|              60|8th St at Ringold St|     37.77452040113685|     -122.4094493687153|             5|Powell St BART St...|   37.78389935708493|   -122.4084448814392|   2831|  Customer|             null|         null|credit card|\n",
      "|       43603|2017-12-31 14:23:...|2018-01-01 02:29:...|             239|Bancroft Way at T...|            37.8688126|            -122.258764|           247|Fulton St at Banc...|          37.8677892|         -122.2658964|   3167|Subscriber|           1997.0|       Female| app wallet|\n",
      "|        9226|2017-12-31 22:51:...|2018-01-01 01:24:...|              30|San Francisco Cal...|             37.776598|            -122.395282|            30|San Francisco Cal...|           37.776598|          -122.395282|   1487|  Customer|             null|         null| app wallet|\n",
      "|        4507|2017-12-31 23:49:...|2018-01-01 01:04:...|             259|Addison St at Fou...|             37.866249|           -122.2993708|           259|Addison St at Fou...|           37.866249|         -122.2993708|   3539|  Customer|           1991.0|       Female| app wallet|\n",
      "|        4334|2017-12-31 23:46:...|2018-01-01 00:58:...|             284|Yerba Buena Cente...|     37.78487208436062|    -122.40087568759915|           284|Yerba Buena Cente...|   37.78487208436062|  -122.40087568759915|   1503|  Customer|             null|         null| app wallet|\n",
      "|        4150|2017-12-31 23:37:...|2018-01-01 00:46:...|              20|Mechanics Monumen...|               37.7913|            -122.399051|            20|Mechanics Monumen...|             37.7913|          -122.399051|   3125|  Customer|             null|         null| app wallet|\n",
      "|        4238|2017-12-31 23:35:...|2018-01-01 00:46:...|              20|Mechanics Monumen...|               37.7913|            -122.399051|            20|Mechanics Monumen...|             37.7913|          -122.399051|   2543|  Customer|             null|         null| app wallet|\n",
      "|        3292|2017-12-31 23:46:...|2018-01-01 00:41:...|             284|Yerba Buena Cente...|     37.78487208436062|    -122.40087568759915|            22|Howard St at Beal...|           37.789756|          -122.394643|   3058|  Customer|             null|         null|credit card|\n",
      "|        3177|2017-12-31 23:48:...|2018-01-01 00:41:...|             284|Yerba Buena Cente...|     37.78487208436062|    -122.40087568759915|            22|Howard St at Beal...|           37.789756|          -122.394643|   3197|  Customer|             null|         null| app wallet|\n",
      "|        2183|2017-12-31 23:52:...|2018-01-01 00:29:...|              67|San Francisco Cal...|            37.7766392|           -122.3955263|            24|Spear St at Folso...|          37.7896767|         -122.3904285|   2311|Subscriber|           1990.0|         Male|credit card|\n",
      "|        2170|2017-12-31 23:52:...|2018-01-01 00:29:...|              67|San Francisco Cal...|            37.7766392|           -122.3955263|            24|Spear St at Folso...|          37.7896767|         -122.3904285|   3717|Subscriber|           1990.0|         Male| app wallet|\n",
      "|        2697|2017-12-31 23:35:...|2018-01-01 00:20:...|              66|3rd St at Townsen...|     37.77874161153677|    -122.39274082710836|            23|The Embarcadero a...|           37.791464|          -122.391034|   3452|  Customer|             null|         null|credit card|\n",
      "|        1544|2017-12-31 23:53:...|2018-01-01 00:19:...|              14|Clay St at Batter...|             37.795001|             -122.39997|            27|Beale St at Harri...|          37.7880593|         -122.3918648|    558|Subscriber|           1980.0|       Female|credit card|\n",
      "|        1474|2017-12-31 23:54:...|2018-01-01 00:19:...|              14|Clay St at Batter...|             37.795001|             -122.39997|            27|Beale St at Harri...|          37.7880593|         -122.3918648|   3646|Subscriber|           1979.0|         Male| app wallet|\n",
      "|        1397|2017-12-31 23:55:...|2018-01-01 00:18:...|              78| Folsom St at 9th St|            37.7737172|           -122.4116467|            15|San Francisco Fer...|           37.795392|          -122.394203|   1667|  Customer|             null|         null| app wallet|\n",
      "|        1532|2017-12-31 23:52:...|2018-01-01 00:18:...|              78| Folsom St at 9th St|            37.7737172|           -122.4116467|            15|San Francisco Fer...|           37.795392|          -122.394203|   3114|Subscriber|           1988.0|        Other| app wallet|\n",
      "|        1216|2017-12-31 23:46:...|2018-01-01 00:06:...|               4|Cyril Magnin St a...|     37.78588062694133|     -122.4089150084319|           123|Folsom St at 19th St|          37.7605936|         -122.4148171|   1473|Subscriber|           1971.0|         Male|credit card|\n",
      "+------------+--------------------+--------------------+----------------+--------------------+----------------------+-----------------------+--------------+--------------------+--------------------+---------------------+-------+----------+-----------------+-------------+-----------+\n",
      "only showing top 20 rows\n",
      "\n"
     ]
    }
   ],
   "source": [
    "path=\"G:/My Drive/Develhope/develhope-Data5-Team3/Data/2017-fordgobike-tripdata_final.csv\"\n",
    "df_pyspark=spark.read.csv(path,header=True, inferSchema=True)\n",
    "\n",
    "df_pyspark=df_pyspark.drop('_c0')\n",
    "df_pyspark.show()"
   ]
  },
  {
   "cell_type": "code",
   "execution_count": 4,
   "metadata": {},
   "outputs": [],
   "source": [
    "# df_pyspark= df_pyspark.withColumn('start time hour',F.when(df_pyspark['start_am_pm']=='PM',df_pyspark[\"start time hour\"]+12).otherwise(df_pyspark[\"start time hour\"]))\n",
    "# df_pyspark= df_pyspark.withColumn('start time hour',F.when(df_pyspark['start time hour']==24,12).otherwise(df_pyspark[\"start time hour\"]))"
   ]
  },
  {
   "cell_type": "code",
   "execution_count": 5,
   "metadata": {},
   "outputs": [],
   "source": [
    "# df_pyspark= df_pyspark.withColumn('end_time hour',F.when(df_pyspark['end_am_pm']=='PM',df_pyspark[\"end_time hour\"]+12).otherwise(df_pyspark[\"end_time hour\"]))\n",
    "# df_pyspark= df_pyspark.withColumn('end_time hour',F.when(df_pyspark['end_time hour']==24,12).otherwise(df_pyspark[\"end_time hour\"]))"
   ]
  },
  {
   "cell_type": "code",
   "execution_count": null,
   "metadata": {},
   "outputs": [],
   "source": [
    "# df_pyspark.filter(F.col('end_time hour')==24).show()"
   ]
  },
  {
   "cell_type": "code",
   "execution_count": 6,
   "metadata": {},
   "outputs": [],
   "source": [
    "#fixing 1-digit values \n",
    "# df_pyspark=df_pyspark.withColumn('start time hour',F.lpad(F.col('start time hour'),2,'0'))\\\n",
    "#     .withColumn('start time minute',F.lpad(F.col('start time minute'),2,'0'))\\\n",
    "#     .withColumn('start time seconds',F.lpad(F.col('start time seconds'),2,'0'))\\\n",
    "#     .withColumn('end_time hour',F.lpad(F.col('end_time hour'),2,'0'))\\\n",
    "#     .withColumn('end_time minute',F.lpad(F.col('end_time minute'),2,'0'))\\\n",
    "#     .withColumn('end_time seconds',F.lpad(F.col('end_time seconds'),2,'0'))"
   ]
  },
  {
   "cell_type": "code",
   "execution_count": 7,
   "metadata": {},
   "outputs": [],
   "source": [
    "# #creating start time and end time columns with timestamp for easy comparison\n",
    "# df_pyspark=df_pyspark.withColumn('start time',F.to_timestamp(F.concat_ws(':',F.lpad(F.col('start time hour'),2,'0'),F.lpad(F.col('start time minute'),2,'0'),F.lpad(F.col('start time seconds'),2,'0'))))\n",
    "# df_pyspark=df_pyspark.withColumn('end time',F.to_timestamp(F.concat_ws(':',F.lpad(F.col('end_time hour'),2,'0'),F.lpad(F.col('end_time minute'),2,'0'),F.lpad(F.col('end_time seconds'),2,'0'))))"
   ]
  },
  {
   "cell_type": "code",
   "execution_count": null,
   "metadata": {},
   "outputs": [],
   "source": [
    "df_pyspark.show()"
   ]
  },
  {
   "cell_type": "code",
   "execution_count": 8,
   "metadata": {},
   "outputs": [],
   "source": [
    "#swapping end time and start time values if start time > end time\n",
    "df_pyspark=df_pyspark.withColumn('end time',F.when(df_pyspark['end time']<df_pyspark['start time'], df_pyspark['start time'])\\\n",
    "                                 .otherwise(df_pyspark['end time']))\n",
    "df_pyspark=df_pyspark.withColumn('start time',F.when(df_pyspark['end time']==df_pyspark['start time'], \n",
    "                                                     F.to_timestamp(F.concat_ws(':','end_time hour','end_time minute','end_time seconds')))\\\n",
    "                                 .otherwise(df_pyspark['start time']))"
   ]
  },
  {
   "cell_type": "code",
   "execution_count": null,
   "metadata": {},
   "outputs": [],
   "source": [
    "# df_pyspark=df_pyspark.withColumn('start_time',F.concat_ws(':',F.lpad(F.hour(F.col('start time')),2,'0'),F.lapd(F.minute(F.col('start time')),2,'0'),F.lapd(F.second(F.col('start time')),2,'0')))#\\\n",
    "    #.withColumn('end_time',F.concat_ws(':',F.lpad(F.hour('end time'),2,'0'),F.lpad(F.minute('end time'),2,'0'),F.lpad(F.second('end time'),2,'0')))"
   ]
  },
  {
   "cell_type": "code",
   "execution_count": 9,
   "metadata": {},
   "outputs": [],
   "source": [
    "df_pyspark=df_pyspark.withColumn('start_time',df_pyspark['start time']).withColumn('end_time',df_pyspark['end time'])"
   ]
  },
  {
   "cell_type": "code",
   "execution_count": null,
   "metadata": {},
   "outputs": [],
   "source": [
    "df_pyspark.columns"
   ]
  },
  {
   "cell_type": "code",
   "execution_count": null,
   "metadata": {},
   "outputs": [],
   "source": [
    "# #Dropping 'start time' and 'end time' columns\n",
    "# df_pyspark=df_pyspark.drop(*['start time','end time','start time hour',\n",
    "#  'start time minute',\n",
    "#  'start time seconds',\n",
    "#  'end_time hour',\n",
    "#  'end_time minute',\n",
    "#  'end_time seconds',])\n",
    "# df_pyspark.show()"
   ]
  },
  {
   "cell_type": "code",
   "execution_count": 11,
   "metadata": {},
   "outputs": [
    {
     "name": "stdout",
     "output_type": "stream",
     "text": [
      "Collecting haversine\n",
      "  Downloading haversine-2.8.0-py2.py3-none-any.whl (7.7 kB)\n",
      "Installing collected packages: haversine\n",
      "Successfully installed haversine-2.8.0\n",
      "\n",
      "\u001b[1m[\u001b[0m\u001b[34;49mnotice\u001b[0m\u001b[1;39;49m]\u001b[0m\u001b[39;49m A new release of pip is available: \u001b[0m\u001b[31;49m23.1.1\u001b[0m\u001b[39;49m -> \u001b[0m\u001b[32;49m23.1.2\u001b[0m\n",
      "\u001b[1m[\u001b[0m\u001b[34;49mnotice\u001b[0m\u001b[1;39;49m]\u001b[0m\u001b[39;49m To update, run: \u001b[0m\u001b[32;49mpython -m pip install --upgrade pip\u001b[0m\n"
     ]
    }
   ],
   "source": [
    "!pip install haversine"
   ]
  },
  {
   "cell_type": "code",
   "execution_count": 12,
   "metadata": {},
   "outputs": [],
   "source": [
    "from haversine import haversine\n",
    "\n",
    "def haversine_f(lat1, lon1, lat2, lon2):\n",
    "    return haversine( (lat1, lon1), (lat2, lon2),unit='m',normalize=True )\n",
    "\n",
    "haversine_udf = F.udf(haversine_f)"
   ]
  },
  {
   "cell_type": "code",
   "execution_count": 13,
   "metadata": {},
   "outputs": [],
   "source": [
    "#Calculate haversine distance(Onur)\n",
    "df_pyspark=df_pyspark.withColumn('haversine_distance', \n",
    "                    haversine_udf(F.col('start_station_latitude'), F.col('start_station_longitude'), \n",
    "                                  F.col('end_station_latitude'), F.col('end_station_longitude'))\n",
    "                    )"
   ]
  },
  {
   "cell_type": "code",
   "execution_count": 12,
   "metadata": {},
   "outputs": [],
   "source": [
    "#Calculate haversine distance in meters(Uros)\n",
    "df_pyspark=df_pyspark.withColumn('haversine_distance',\n",
    "                                 haversine_udf('start_station_latitude', \n",
    "                                               'start_station_longitude', \n",
    "                                               'end_station_latitude', \n",
    "                                               'end_station_longitude'))"
   ]
  },
  {
   "cell_type": "code",
   "execution_count": 14,
   "metadata": {},
   "outputs": [
    {
     "name": "stdout",
     "output_type": "stream",
     "text": [
      "root\n",
      " |-- start_time: timestamp (nullable = true)\n",
      " |-- start_am_pm: string (nullable = true)\n",
      " |-- end_time: timestamp (nullable = true)\n",
      " |-- end_am_pm: string (nullable = true)\n",
      " |-- start_station_id: integer (nullable = true)\n",
      " |-- start_station_name: string (nullable = true)\n",
      " |-- start_station_latitude: float (nullable = true)\n",
      " |-- start_station_longitude: float (nullable = true)\n",
      " |-- end_station_id: integer (nullable = true)\n",
      " |-- end_station_name: string (nullable = true)\n",
      " |-- end_station_latitude: float (nullable = true)\n",
      " |-- end_station_longitude: float (nullable = true)\n",
      " |-- bike_id: integer (nullable = true)\n",
      " |-- user_type: string (nullable = true)\n",
      " |-- member_birth_year: integer (nullable = true)\n",
      " |-- member_gender: string (nullable = true)\n",
      " |-- pyment: string (nullable = true)\n",
      " |-- haversine_distance: string (nullable = true)\n",
      " |-- Diff_in_seconds: long (nullable = true)\n",
      " |-- Diff_in_minutes: double (nullable = true)\n",
      " |-- Trip_cost: double (nullable = true)\n",
      "\n"
     ]
    }
   ],
   "source": [
    "#assign timestamp to start_time and end_time\n",
    "#Calculate 'Diff_in_seconds' \n",
    "#Calculate 'Diff_in_minutes' \n",
    "#Calculate 'Trip_cost' \n",
    "df_pyspark=df_pyspark.withColumn('start_time',F.to_timestamp('start_time','HH:mm:ss'))\\\n",
    "    .withColumn('end_time',F.to_timestamp('end_time','HH:mm:ss'))\\\n",
    "    .withColumn('Diff_in_seconds',F.col('end_time').cast('long')-F.col('start_time').cast('long'))\\\n",
    "    .withColumn('Diff_in_minutes',(F.col('Diff_in_seconds')/60))\\\n",
    "    .withColumn('Trip_cost',(F.col('Diff_in_minutes')*0.35))\n",
    "\n",
    "df_pyspark.printSchema()\n"
   ]
  },
  {
   "cell_type": "code",
   "execution_count": 15,
   "metadata": {},
   "outputs": [
    {
     "data": {
      "text/plain": [
       "DataFrame[bike_id: int, sum_distance: double]"
      ]
     },
     "execution_count": 15,
     "metadata": {},
     "output_type": "execute_result"
    }
   ],
   "source": [
    "df_pyspark.groupBy(\"bike_id\")\\\n",
    "    .agg(F.sum(\"haversine_distance\").alias(\"sum_distance\")).sort(F.desc(\"sum_distance\"))"
   ]
  },
  {
   "cell_type": "code",
   "execution_count": null,
   "metadata": {},
   "outputs": [],
   "source": [
    "df_pyspark.show()"
   ]
  },
  {
   "cell_type": "code",
   "execution_count": 16,
   "metadata": {},
   "outputs": [
    {
     "name": "stderr",
     "output_type": "stream",
     "text": [
      "23/05/09 08:46:17 WARN CSVHeaderChecker: CSV header does not conform to the schema.\n",
      " Header: start time hour, start time minute, start time seconds, , end_time hour, end_time minute, end_time seconds, , start_station_id, start_station_name, start_station_latitude, start_station_longitude, end_station_id, end_station_name, end_station_latitude, end_station_longitude, bike_id, user_type, member_birth_year, member_gender, pyment\n",
      " Schema: start time hour, start time minute, start time seconds, _c4, end_time hour, end_time minute, end_time seconds, _c9, start_station_id, start_station_name, start_station_latitude, start_station_longitude, end_station_id, end_station_name, end_station_latitude, end_station_longitude, bike_id, user_type, member_birth_year, member_gender, pyment\n",
      "Expected: _c4 but found: \n",
      "CSV file: file:///workspaces/develhope-Data5-Team3/Data/2017-fordgobike-tripdataa.csv\n",
      "                                                                                \r"
     ]
    }
   ],
   "source": [
    "df_pyspark.write.option(\"header\",True).mode('overwrite').csv('/workspaces/develhope-Data5-Team3/Data/FordGoBike')"
   ]
  },
  {
   "cell_type": "code",
   "execution_count": null,
   "metadata": {},
   "outputs": [],
   "source": [
    "df_pyspark.show()"
   ]
  }
 ],
 "metadata": {
  "kernelspec": {
   "display_name": "Python 3",
   "language": "python",
   "name": "python3"
  },
  "language_info": {
   "codemirror_mode": {
    "name": "ipython",
    "version": 3
   },
   "file_extension": ".py",
   "mimetype": "text/x-python",
   "name": "python",
   "nbconvert_exporter": "python",
   "pygments_lexer": "ipython3",
   "version": "3.9.13"
  },
  "orig_nbformat": 4
 },
 "nbformat": 4,
 "nbformat_minor": 2
}
