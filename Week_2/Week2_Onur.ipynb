{
 "cells": [
  {
   "cell_type": "code",
   "execution_count": 1,
   "metadata": {},
   "outputs": [
    {
     "name": "stderr",
     "output_type": "stream",
     "text": [
      "23/05/01 09:57:41 WARN Utils: Your hostname, codespaces-1e2092 resolves to a loopback address: 127.0.0.1; using 172.16.5.4 instead (on interface eth0)\n",
      "23/05/01 09:57:41 WARN Utils: Set SPARK_LOCAL_IP if you need to bind to another address\n",
      "Setting default log level to \"WARN\".\n",
      "To adjust logging level use sc.setLogLevel(newLevel). For SparkR, use setLogLevel(newLevel).\n",
      "23/05/01 09:57:41 WARN NativeCodeLoader: Unable to load native-hadoop library for your platform... using builtin-java classes where applicable\n",
      "23/05/01 09:57:42 WARN Utils: Service 'SparkUI' could not bind on port 4040. Attempting port 4041.\n"
     ]
    },
    {
     "data": {
      "text/html": [
       "\n",
       "            <div>\n",
       "                <p><b>SparkSession - in-memory</b></p>\n",
       "                \n",
       "        <div>\n",
       "            <p><b>SparkContext</b></p>\n",
       "\n",
       "            <p><a href=\"http://d3f503f0-1604-492e-859f-5ac4db529708.internal.cloudapp.net:4041\">Spark UI</a></p>\n",
       "\n",
       "            <dl>\n",
       "              <dt>Version</dt>\n",
       "                <dd><code>v3.4.0</code></dd>\n",
       "              <dt>Master</dt>\n",
       "                <dd><code>local[*]</code></dd>\n",
       "              <dt>AppName</dt>\n",
       "                <dd><code>FordGoBike</code></dd>\n",
       "            </dl>\n",
       "        </div>\n",
       "        \n",
       "            </div>\n",
       "        "
      ],
      "text/plain": [
       "<pyspark.sql.session.SparkSession at 0x7fc7122779d0>"
      ]
     },
     "execution_count": 1,
     "metadata": {},
     "output_type": "execute_result"
    }
   ],
   "source": [
    "from pyspark.sql import functions as F\n",
    "from pyspark.sql import SparkSession\n",
    "from pyspark.sql.types import FloatType\n",
    "\n",
    "spark=SparkSession.builder.appName('FordGoBike').getOrCreate()\n",
    "spark"
   ]
  },
  {
   "cell_type": "code",
   "execution_count": 3,
   "metadata": {},
   "outputs": [
    {
     "name": "stderr",
     "output_type": "stream",
     "text": [
      "                                                                                \r"
     ]
    }
   ],
   "source": [
    "path=\"/workspaces/codespaces-jupyter/data/week_1_output.csv\"\n",
    "df_pyspark=spark.read.csv(path,header=True, inferSchema=True)"
   ]
  },
  {
   "cell_type": "code",
   "execution_count": 4,
   "metadata": {},
   "outputs": [],
   "source": [
    "df_pyspark = df_pyspark.withColumn('start_time_timestamp', F.to_timestamp(F.concat_ws(':', 'start time hour', 'start time minute', 'start time seconds')))\\\n",
    "                        .withColumn('end_time_timestamp', F.to_timestamp(F.concat_ws(':', 'end_time hour', 'end_time minute', 'end_time seconds')))"
   ]
  },
  {
   "cell_type": "code",
   "execution_count": 5,
   "metadata": {},
   "outputs": [],
   "source": [
    "df_pyspark=df_pyspark.withColumn('Diff_in_seconds',F.col('end_time_timestamp').cast('long')-F.col('start_time_timestamp').cast('long'))\\\n",
    "    .withColumn('Diff_in_minutes',(F.col('Diff_in_seconds')/60))\\\n",
    "    .withColumn('Trip_cost',(F.col('Diff_in_minutes')*0.35))"
   ]
  },
  {
   "cell_type": "code",
   "execution_count": 6,
   "metadata": {},
   "outputs": [
    {
     "name": "stderr",
     "output_type": "stream",
     "text": [
      "23/05/01 09:59:31 WARN package: Truncated the string representation of a plan since it was too large. This behavior can be adjusted by setting 'spark.sql.debug.maxToStringFields'.\n"
     ]
    },
    {
     "name": "stdout",
     "output_type": "stream",
     "text": [
      "+----------+---------------+-----------------+------------------+--------+-------------+---------------+----------------+----------------+--------------------+----------------------+-----------------------+--------------+--------------------+--------------------+---------------------+-------+----------+-----------------+-------------+-----------+------------------+--------------------+---------------+------------------+------------------+\n",
      "|start_time|start time hour|start time minute|start time seconds|end_time|end_time hour|end_time minute|end_time seconds|start_station_id|  start_station_name|start_station_latitude|start_station_longitude|end_station_id|    end_station_name|end_station_latitude|end_station_longitude|bike_id| user_type|member_birth_year|member_gender|     pyment|haversine_distance|start_time_timestamp|Diff_in_seconds|   Diff_in_minutes|         Trip_cost|\n",
      "+----------+---------------+-----------------+------------------+--------+-------------+---------------+----------------+----------------+--------------------+----------------------+-----------------------+--------------+--------------------+--------------------+---------------------+-------+----------+-----------------+-------------+-----------+------------------+--------------------+---------------+------------------+------------------+\n",
      "|   12:50.2|              3|               12|                50| 57:39.7|            4|             57|              40|              74|Laguna St at Haye...|           37.77643482|            -122.426244|            43|San Francisco Pub...|          37.7787677|         -122.4159292|     96|  Customer|             1987|         Male|credit card| 0.942930697721659| 2023-05-01 03:12:50|           6290|104.83333333333333| 36.69166666666666|\n",
      "|   49:55.6|              1|               49|                56| 56:34.8|            3|             56|              35|             284|Yerba Buena Cente...|           37.78487208|           -122.4008757|            96|Dolores St at 15t...|          37.7662102|         -122.4266136|     88|  Customer|             1965|       Female|credit card| 3.069730208886286| 2023-05-01 01:49:56|           7599|            126.65|           44.3275|\n",
      "|   45:48.4|             10|               45|                48| 28:36.9|           11|             28|              37|             245|Downtown Berkeley...|            37.8703477|           -122.2677637|           245|Downtown Berkeley...|          37.8703477|         -122.2677637|   1094|  Customer|             null|         null|credit card|               0.0| 2023-05-01 10:45:48|           2569| 42.81666666666667|14.985833333333334|\n",
      "|   31:10.6|              5|               31|                11| 47:23.5|           10|             47|              24|              60|8th St at Ringold St|            37.7745204|           -122.4094494|             5|Powell St BART St...|         37.78389936|         -122.4084449|   2831|  Customer|             null|         null|credit card|1.0466240808449843| 2023-05-01 05:31:11|          18973|316.21666666666664|110.67583333333332|\n",
      "|   23:14.0|              2|               23|                14| 29:57.6|            2|             29|              58|             239|Bancroft Way at T...|            37.8688126|            -122.258764|           247|Fulton St at Banc...|          37.8677892|         -122.2658964|   3167|Subscriber|             1997|       Female| app wallet|0.6363402624770698| 2023-05-01 02:23:14|            404| 6.733333333333333|2.3566666666666665|\n",
      "|   24:47.2|              1|               24|                47| 51:00.9|           10|             51|               1|              30|San Francisco Cal...|             37.776598|            -122.395282|            30|San Francisco Cal...|           37.776598|          -122.395282|   1487|  Customer|             null|         null| app wallet|               0.0| 2023-05-01 01:24:47|          33974| 566.2333333333333|198.18166666666667|\n",
      "|   04:35.6|              1|                4|                36| 49:28.4|           11|             49|              28|             259|Addison St at Fou...|             37.866249|           -122.2993708|           259|Addison St at Fou...|           37.866249|         -122.2993708|   3539|  Customer|             1991|       Female| app wallet|               0.0| 2023-05-01 01:04:36|          38692| 644.8666666666667|225.70333333333332|\n",
      "|   46:37.2|             11|               46|                37| 58:51.2|           12|             58|              51|             284|Yerba Buena Cente...|           37.78487208|           -122.4008757|           284|Yerba Buena Cente...|         37.78487208|         -122.4008757|   1503|  Customer|             null|         null| app wallet|               0.0| 2023-05-01 11:46:37|           4334| 72.23333333333333|25.281666666666666|\n",
      "|   37:07.5|             11|               37|                 8| 46:18.3|           12|             46|              18|              20|Mechanics Monumen...|               37.7913|            -122.399051|            20|Mechanics Monumen...|             37.7913|          -122.399051|   3125|  Customer|             null|         null| app wallet|               0.0| 2023-05-01 11:37:08|           4150| 69.16666666666667|24.208333333333332|\n",
      "|   35:38.1|             11|               35|                38| 46:17.1|           12|             46|              17|              20|Mechanics Monumen...|               37.7913|            -122.399051|            20|Mechanics Monumen...|             37.7913|          -122.399051|   2543|  Customer|             null|         null| app wallet|               0.0| 2023-05-01 11:35:38|           4239|             70.65|           24.7275|\n",
      "|   46:32.4|             11|               46|                32| 41:24.6|           12|             41|              25|             284|Yerba Buena Cente...|           37.78487208|           -122.4008757|            22|Howard St at Beal...|           37.789756|          -122.394643|   3058|  Customer|             null|         null|credit card|0.7713016224936289| 2023-05-01 11:46:32|           3293| 54.88333333333333|19.209166666666665|\n",
      "|   48:11.8|             11|               48|                12| 41:09.6|           12|             41|              10|             284|Yerba Buena Cente...|           37.78487208|           -122.4008757|            22|Howard St at Beal...|           37.789756|          -122.394643|   3197|  Customer|             null|         null| app wallet|0.7713016224936289| 2023-05-01 11:48:12|           3178| 52.96666666666667|18.538333333333334|\n",
      "|   52:55.6|             11|               52|                56| 29:18.7|           12|             29|              19|              67|San Francisco Cal...|            37.7766392|           -122.3955263|            24|Spear St at Folso...|          37.7896767|         -122.3904285|   2311|Subscriber|             1990|         Male|credit card| 1.517350517786709| 2023-05-01 11:52:56|           2183| 36.38333333333333|12.734166666666665|\n",
      "|   52:55.9|             11|               52|                56| 29:06.9|           12|             29|               7|              67|San Francisco Cal...|            37.7766392|           -122.3955263|            24|Spear St at Folso...|          37.7896767|         -122.3904285|   3717|Subscriber|             1990|         Male| app wallet| 1.517350517786709| 2023-05-01 11:52:56|           2171| 36.18333333333333|12.664166666666665|\n",
      "|   35:23.2|             11|               35|                23| 20:20.8|           12|             20|              21|              66|3rd St at Townsen...|           37.77874161|           -122.3927408|            23|The Embarcadero a...|           37.791464|          -122.391034|   3452|  Customer|             null|         null|credit card|1.4225965058298293| 2023-05-01 11:35:23|           2698| 44.96666666666667|15.738333333333333|\n",
      "|   53:38.9|             11|               53|                39| 19:23.0|           12|             19|              23|              14|Clay St at Batter...|             37.795001|             -122.39997|            27|Beale St at Harri...|          37.7880593|         -122.3918648|    558|Subscriber|             1980|       Female|credit card|  1.05026380421915| 2023-05-01 11:53:39|           1544|25.733333333333334| 9.006666666666666|\n",
      "|   54:40.1|             11|               54|                40| 19:14.4|           12|             19|              14|              14|Clay St at Batter...|             37.795001|             -122.39997|            27|Beale St at Harri...|          37.7880593|         -122.3918648|   3646|Subscriber|             1979|         Male| app wallet|  1.05026380421915| 2023-05-01 11:54:40|           1474|24.566666666666666| 8.598333333333333|\n",
      "|   55:09.7|             11|               55|                10| 18:26.7|           12|             18|              27|              78| Folsom St at 9th St|            37.7737172|           -122.4116467|            15|San Francisco Fer...|           37.795392|          -122.394203|   1667|  Customer|             null|         null| app wallet|2.8563367873003527| 2023-05-01 11:55:10|           1397|23.283333333333335| 8.149166666666666|\n",
      "|   52:49.5|             11|               52|                49| 18:22.0|           12|             18|              22|              78| Folsom St at 9th St|            37.7737172|           -122.4116467|            15|San Francisco Fer...|           37.795392|          -122.394203|   3114|Subscriber|             1988|        Other| app wallet|2.8563367873003527| 2023-05-01 11:52:49|           1533|             25.55| 8.942499999999999|\n",
      "|   46:34.0|             11|               46|                34| 06:50.1|           12|              6|              50|               4|Cyril Magnin St a...|           37.78588063|            -122.408915|           123|Folsom St at 19th St|          37.7605936|         -122.4148171|   1473|Subscriber|             1971|         Male|credit card|2.8592460098833117| 2023-05-01 11:46:34|           1216|20.266666666666666| 7.093333333333333|\n",
      "+----------+---------------+-----------------+------------------+--------+-------------+---------------+----------------+----------------+--------------------+----------------------+-----------------------+--------------+--------------------+--------------------+---------------------+-------+----------+-----------------+-------------+-----------+------------------+--------------------+---------------+------------------+------------------+\n",
      "only showing top 20 rows\n",
      "\n"
     ]
    }
   ],
   "source": [
    "df_pyspark=df_pyspark.drop(*['end_time_timestamp','end_time_timestamp'],)\n",
    "df_pyspark.show()"
   ]
  },
  {
   "cell_type": "code",
   "execution_count": 9,
   "metadata": {},
   "outputs": [
    {
     "name": "stderr",
     "output_type": "stream",
     "text": [
      "                                                                                \r"
     ]
    }
   ],
   "source": [
    "df_pyspark.write.option(\"header\",True).csv('/workspaces/codespaces-jupyter/data/week_2.csv')"
   ]
  },
  {
   "cell_type": "code",
   "execution_count": 8,
   "metadata": {},
   "outputs": [
    {
     "name": "stderr",
     "output_type": "stream",
     "text": [
      "[Stage 4:============================================>              (3 + 1) / 4]\r"
     ]
    },
    {
     "name": "stdout",
     "output_type": "stream",
     "text": [
      "+-------+-----------------+\n",
      "|bike_id|     sum_distance|\n",
      "+-------+-----------------+\n",
      "|     68|743.3694820484669|\n",
      "|   2178|721.1822432213559|\n",
      "|    256|671.9160978829848|\n",
      "|    235|670.1620031683858|\n",
      "|   2049|656.8281017664256|\n",
      "|    441| 656.642274625236|\n",
      "|   2226|647.8232304063755|\n",
      "|    796|646.8677297229265|\n",
      "|    190| 640.294181741224|\n",
      "|   2365|639.4126742864064|\n",
      "+-------+-----------------+\n",
      "only showing top 10 rows\n",
      "\n"
     ]
    },
    {
     "name": "stderr",
     "output_type": "stream",
     "text": [
      "                                                                                \r"
     ]
    }
   ],
   "source": [
    "df_pyspark.groupBy(\"bike_id\").agg(F.sum(\"haversine_distance\").alias(\"sum_distance\")).sort(F.desc(\"sum_distance\")).show(10)"
   ]
  },
  {
   "cell_type": "code",
   "execution_count": null,
   "metadata": {},
   "outputs": [],
   "source": []
  }
 ],
 "metadata": {
  "kernelspec": {
   "display_name": "Python 3",
   "language": "python",
   "name": "python3"
  },
  "language_info": {
   "codemirror_mode": {
    "name": "ipython",
    "version": 3
   },
   "file_extension": ".py",
   "mimetype": "text/x-python",
   "name": "python",
   "nbconvert_exporter": "python",
   "pygments_lexer": "ipython3",
   "version": "3.10.4"
  },
  "orig_nbformat": 4
 },
 "nbformat": 4,
 "nbformat_minor": 2
}
