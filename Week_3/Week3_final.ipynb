{
 "cells": [
  {
   "cell_type": "code",
   "execution_count": 1,
   "metadata": {},
   "outputs": [],
   "source": [
    "from pyspark.sql import functions as F\n",
    "from pyspark.sql import SparkSession\n",
    "from pyspark.sql.types import FloatType\n",
    "\n",
    "spark=SparkSession.builder.appName('FordGoBike').getOrCreate()\n",
    "\n"
   ]
  },
  {
   "cell_type": "code",
   "execution_count": 2,
   "metadata": {},
   "outputs": [],
   "source": [
    "path=\"G:\\My Drive\\Develhope\\Develhope_stage2\\Team_3\\Week_1\\week_1_output.csv\"\n",
    "df=spark.read.csv(path,header=True, inferSchema=True)"
   ]
  },
  {
   "attachments": {},
   "cell_type": "markdown",
   "metadata": {},
   "source": [
    "##TASK_1 - Calculate the number of trips for each start station list top 10 and find the ratio of using as male or female - FAIZA"
   ]
  },
  {
   "cell_type": "code",
   "execution_count": 10,
   "metadata": {},
   "outputs": [
    {
     "name": "stdout",
     "output_type": "stream",
     "text": [
      "+-----------------------------------------------------+-------------------------------------------------------+\n",
      "|count(CASE WHEN (member_gender = Male) THEN true END)|count(CASE WHEN (member_gender = Female) THEN true END)|\n",
      "+-----------------------------------------------------+-------------------------------------------------------+\n",
      "|                                               348318|                                                  98621|\n",
      "+-----------------------------------------------------+-------------------------------------------------------+\n",
      "\n"
     ]
    }
   ],
   "source": [
    "df.select(F.count(F.when(F.col('member_gender')=='Male',True)), F.count(F.when(F.col('member_gender')=='Female',True))).show()"
   ]
  },
  {
   "cell_type": "code",
   "execution_count": 16,
   "metadata": {},
   "outputs": [
    {
     "name": "stdout",
     "output_type": "stream",
     "text": [
      "+---+---+-------------+\n",
      "|  F|  M|member_gender|\n",
      "+---+---+-------------+\n",
      "|  0|  1|         Male|\n",
      "|  1|  0|       Female|\n",
      "|  0|  0|         null|\n",
      "|  0|  0|         null|\n",
      "|  1|  0|       Female|\n",
      "|  0|  0|         null|\n",
      "|  1|  0|       Female|\n",
      "|  0|  0|         null|\n",
      "|  0|  0|         null|\n",
      "|  0|  0|         null|\n",
      "+---+---+-------------+\n",
      "only showing top 10 rows\n",
      "\n"
     ]
    }
   ],
   "source": [
    "df3_1 = df.withColumn('F', F.when(F.col('member_gender') == 'Female', 1).otherwise(0)).withColumn('M', F.when(F.col('member_gender') == 'Male', 1).otherwise(0))\n",
    "\n",
    "df3_1.select('F', 'M','member_gender').show(10)"
   ]
  },
  {
   "cell_type": "code",
   "execution_count": 20,
   "metadata": {},
   "outputs": [
    {
     "name": "stdout",
     "output_type": "stream",
     "text": [
      "+----------------+-----------------------+------+------+-----------------+\n",
      "|start_station_id|count(start_station_id)|sum(F)|sum(M)|            ratio|\n",
      "+----------------+-----------------------+------+------+-----------------+\n",
      "|              15|                  15187|  2819|  8586|5.387371408300816|\n",
      "|               6|                  13664|  1938|  7444|7.050567595459237|\n",
      "|              30|                  12546|  2035|  9813|6.165110565110565|\n",
      "|              67|                  12055|  2105|  9409|5.726840855106889|\n",
      "|              58|                  11960|  1870|  9005| 6.39572192513369|\n",
      "|              21|                  11334|  1631|  8367|6.949110974862048|\n",
      "|              81|                  10956|  2302|  7773|4.759339704604692|\n",
      "|               3|                  10142|  1768|  6070|5.736425339366516|\n",
      "|              22|                   9926|  1980|  7512|5.013131313131313|\n",
      "|              16|                   9347|  1740|  6532| 5.37183908045977|\n",
      "+----------------+-----------------------+------+------+-----------------+\n",
      "\n"
     ]
    }
   ],
   "source": [
    "from pyspark.sql.functions import desc\n",
    "\n",
    "df3_1_1 = df3_1.groupBy('start_station_id').agg({'start_station_id':'count', 'F':'sum', 'M': 'sum'}).orderBy(desc('count(start_station_id)')).limit(10)\n",
    "\n",
    "df3_1_2 = df3_1_1.withColumn('ratio', df3_1_1[1]/df3_1_1[2])\n",
    "df3_1_2.show()"
   ]
  },
  {
   "cell_type": "code",
   "execution_count": 21,
   "metadata": {},
   "outputs": [
    {
     "name": "stdout",
     "output_type": "stream",
     "text": [
      "+----------------+-----+\n",
      "|start_station_id|count|\n",
      "+----------------+-----+\n",
      "|              15|15187|\n",
      "|               6|13664|\n",
      "|              30|12546|\n",
      "|              67|12055|\n",
      "|              58|11960|\n",
      "|              21|11334|\n",
      "|              81|10956|\n",
      "|               3|10142|\n",
      "|              22| 9926|\n",
      "|              16| 9347|\n",
      "+----------------+-----+\n",
      "only showing top 10 rows\n",
      "\n"
     ]
    }
   ],
   "source": [
    "df3_1_1 = df.groupBy('start_station_id').count().orderBy(desc('count')).show(10)"
   ]
  },
  {
   "attachments": {},
   "cell_type": "markdown",
   "metadata": {},
   "source": [
    "##TASK_2 - Make a comparison to find the percentage of usage for customer and subscriber - UROS"
   ]
  },
  {
   "cell_type": "code",
   "execution_count": 22,
   "metadata": {},
   "outputs": [
    {
     "name": "stdout",
     "output_type": "stream",
     "text": [
      "+----------+\n",
      "| user_type|\n",
      "+----------+\n",
      "|Subscriber|\n",
      "|  Customer|\n",
      "+----------+\n",
      "\n"
     ]
    }
   ],
   "source": [
    "df.select('user_type').distinct().show()"
   ]
  },
  {
   "cell_type": "code",
   "execution_count": 23,
   "metadata": {},
   "outputs": [
    {
     "name": "stdout",
     "output_type": "stream",
     "text": [
      "+----------+---------------+\n",
      "| user_type|User Percentage|\n",
      "+----------+---------------+\n",
      "|Subscriber|          78.74|\n",
      "|  Customer|          21.26|\n",
      "+----------+---------------+\n",
      "\n"
     ]
    }
   ],
   "source": [
    "df.groupBy('user_type').agg(F.round(F.count('user_type')/df.count()*100, 2).alias('User Percentage')).show()"
   ]
  },
  {
   "attachments": {},
   "cell_type": "markdown",
   "metadata": {},
   "source": [
    "##TASK_3 - Calculate the age of all users and show the relation between the distance and the age - ONUR"
   ]
  },
  {
   "cell_type": "code",
   "execution_count": 3,
   "metadata": {},
   "outputs": [],
   "source": [
    "df3_3=df.where(F.col('haversine_distance')!=0) #cleaning zero distance entries"
   ]
  },
  {
   "cell_type": "code",
   "execution_count": 4,
   "metadata": {},
   "outputs": [],
   "source": [
    "df3_3=df3_3.withColumn('age',2017-F.col('member_birth_year')).withColumn('age',F.col('age').cast('int'))"
   ]
  },
  {
   "cell_type": "code",
   "execution_count": 5,
   "metadata": {},
   "outputs": [],
   "source": [
    "df3_3=df3_3.where((F.col('age')>18) & (F.col('age')<=100)) #cleaning outlier values(age=100+)\n",
    "df3_3=df3_3.dropna(how='all',subset=['age'])\n"
   ]
  },
  {
   "cell_type": "code",
   "execution_count": 24,
   "metadata": {},
   "outputs": [],
   "source": [
    "#Age groupped haversine distance mean \n",
    "\n",
    "df3_3=df3_3.withColumn('age_group', F.when(((F.col('age')>=18) & (F.col('age')<35)),'18 to 35')\\\n",
    "                      .otherwise(F.when((F.col('age')>=35)&(F.col('age')<50),'35 to 50')\\\n",
    "                      .otherwise(F.when((F.col('age')>=50)&(F.col('age')<65),'50 to 65')\\\n",
    "                                 .otherwise(F.when((F.col('age')>=65)&(F.col('age')<=100),'65 to 100').otherwise('non-groupped')))))\n",
    "\n",
    "df3_3_ag=df3_3.groupby('age_group').agg(F.mean('haversine_distance').alias('Age Group/Distance')).sort(F.col('age_group'))"
   ]
  },
  {
   "cell_type": "code",
   "execution_count": 35,
   "metadata": {},
   "outputs": [],
   "source": [
    "df3_3_ag=df3_3.groupby('age_group').agg(F.sum('haversine_distance').alias('Age Group/Distance')).sort(F.col('age_group'))"
   ]
  },
  {
   "cell_type": "code",
   "execution_count": 50,
   "metadata": {},
   "outputs": [
    {
     "name": "stdout",
     "output_type": "stream",
     "text": [
      "+----------+---------------+-----------------+------------------+--------+-------------+---------------+----------------+----------------+------------------+----------------------+-----------------------+--------------+----------------+--------------------+---------------------+-------+---------+-----------------+-------------+------+------------------+---+---------+\n",
      "|start_time|start time hour|start time minute|start time seconds|end_time|end_time hour|end_time minute|end_time seconds|start_station_id|start_station_name|start_station_latitude|start_station_longitude|end_station_id|end_station_name|end_station_latitude|end_station_longitude|bike_id|user_type|member_birth_year|member_gender|pyment|haversine_distance|age|age_group|\n",
      "+----------+---------------+-----------------+------------------+--------+-------------+---------------+----------------+----------------+------------------+----------------------+-----------------------+--------------+----------------+--------------------+---------------------+-------+---------+-----------------+-------------+------+------------------+---+---------+\n",
      "+----------+---------------+-----------------+------------------+--------+-------------+---------------+----------------+----------------+------------------+----------------------+-----------------------+--------------+----------------+--------------------+---------------------+-------+---------+-----------------+-------------+------+------------------+---+---------+\n",
      "\n"
     ]
    }
   ],
   "source": [
    "df3_3.where(F.col('age_group')=='non-groupped').show()"
   ]
  },
  {
   "cell_type": "code",
   "execution_count": 7,
   "metadata": {},
   "outputs": [],
   "source": [
    "import pandas as pd\n",
    "import seaborn as sn\n",
    "import matplotlib.pyplot as plt"
   ]
  },
  {
   "cell_type": "code",
   "execution_count": 36,
   "metadata": {},
   "outputs": [],
   "source": [
    "pd=df3_3_ag.toPandas()"
   ]
  },
  {
   "cell_type": "code",
   "execution_count": 52,
   "metadata": {},
   "outputs": [
    {
     "data": {
      "text/html": [
       "<div>\n",
       "<style scoped>\n",
       "    .dataframe tbody tr th:only-of-type {\n",
       "        vertical-align: middle;\n",
       "    }\n",
       "\n",
       "    .dataframe tbody tr th {\n",
       "        vertical-align: top;\n",
       "    }\n",
       "\n",
       "    .dataframe thead th {\n",
       "        text-align: right;\n",
       "    }\n",
       "</style>\n",
       "<table border=\"1\" class=\"dataframe\">\n",
       "  <thead>\n",
       "    <tr style=\"text-align: right;\">\n",
       "      <th></th>\n",
       "      <th>age_group</th>\n",
       "      <th>Age Group/Distance</th>\n",
       "    </tr>\n",
       "  </thead>\n",
       "  <tbody>\n",
       "    <tr>\n",
       "      <th>0</th>\n",
       "      <td>18 to 35</td>\n",
       "      <td>1.658157</td>\n",
       "    </tr>\n",
       "    <tr>\n",
       "      <th>1</th>\n",
       "      <td>35 to 50</td>\n",
       "      <td>1.625969</td>\n",
       "    </tr>\n",
       "    <tr>\n",
       "      <th>2</th>\n",
       "      <td>50 to 65</td>\n",
       "      <td>1.582817</td>\n",
       "    </tr>\n",
       "    <tr>\n",
       "      <th>3</th>\n",
       "      <td>65 to 95</td>\n",
       "      <td>1.543864</td>\n",
       "    </tr>\n",
       "  </tbody>\n",
       "</table>\n",
       "</div>"
      ],
      "text/plain": [
       "  age_group  Age Group/Distance\n",
       "0  18 to 35            1.658157\n",
       "1  35 to 50            1.625969\n",
       "2  50 to 65            1.582817\n",
       "3  65 to 95            1.543864"
      ]
     },
     "execution_count": 52,
     "metadata": {},
     "output_type": "execute_result"
    }
   ],
   "source": [
    "pd.head()"
   ]
  },
  {
   "cell_type": "code",
   "execution_count": 37,
   "metadata": {},
   "outputs": [
    {
     "data": {
      "text/plain": [
       "Text(-35.30555555555556, 0.5, 'Age Group')"
      ]
     },
     "execution_count": 37,
     "metadata": {},
     "output_type": "execute_result"
    },
    {
     "data": {
      "image/png": "[encoded data removed]",
      "text/plain": [
       "<Figure size 500x500 with 1 Axes>"
      ]
     },
     "metadata": {},
     "output_type": "display_data"
    }
   ],
   "source": [
    "# sn.barplot(x= pd[\"age_group\"], y= pd['Age Group/Distance'], data=pd)\n",
    "sn.catplot(data=pd, x='Age Group/Distance', y=\"age_group\", errorbar=(\"pi\", 95), kind=\"bar\", palette=\"ch:s=.25,rot=-.25\")\n",
    "plt.xlabel('Haversine Distance(km)', weight = 'bold')\n",
    "plt.ylabel('Age Group', weight = 'bold')"
   ]
  },
  {
   "cell_type": "code",
   "execution_count": 30,
   "metadata": {},
   "outputs": [],
   "source": [
    "df3_3_ng=df3_3.groupBy('age').agg(F.mean('haversine_distance').alias('Avg_Distance')).sort(F.col('Avg_Distance'))"
   ]
  },
  {
   "cell_type": "code",
   "execution_count": 38,
   "metadata": {},
   "outputs": [],
   "source": [
    "df3_3_ng=df3_3.groupBy('age').agg(F.sum('haversine_distance').alias('Avg_Distance')).sort(F.col('Avg_Distance'))"
   ]
  },
  {
   "cell_type": "code",
   "execution_count": 40,
   "metadata": {},
   "outputs": [
    {
     "name": "stdout",
     "output_type": "stream",
     "text": [
      "+---+------------------+\n",
      "|age|      Avg_Distance|\n",
      "+---+------------------+\n",
      "| 89| 36.53156664798689|\n",
      "| 79|38.671030426176124|\n",
      "| 78| 49.26734083030295|\n",
      "| 83| 58.41582255711995|\n",
      "| 77|58.667612251182845|\n",
      "| 84|  73.6153581656906|\n",
      "| 71| 80.30003968419487|\n",
      "| 76| 88.16493578425374|\n",
      "| 82| 89.47172514058899|\n",
      "| 75| 93.20189566516089|\n",
      "| 93|127.92883646583624|\n",
      "| 74|188.87010017496175|\n",
      "| 73|401.85417696658016|\n",
      "| 72| 437.3998457422568|\n",
      "| 69| 627.3104126554956|\n",
      "| 67| 665.8831504570281|\n",
      "| 70| 735.5366946431337|\n",
      "| 68| 756.3483006790545|\n",
      "| 64| 816.6592475741351|\n",
      "| 66|1110.0203390673234|\n",
      "| 62|1498.2041918902669|\n",
      "| 65|1887.6130548657302|\n",
      "| 19| 2115.202204432652|\n",
      "| 60|2366.4545296831375|\n",
      "| 20| 2682.433884045998|\n",
      "| 63|2945.3063302177784|\n",
      "| 21|3740.5675523581267|\n",
      "| 58|3893.6074565007216|\n",
      "| 57|3911.3156745228043|\n",
      "| 61|4342.0049700683585|\n",
      "| 59| 4555.075625512814|\n",
      "| 56| 5207.482838476511|\n",
      "| 51| 5657.344030797031|\n",
      "| 55| 5704.853738255917|\n",
      "| 53| 7858.155927263337|\n",
      "| 54| 8693.011520743534|\n",
      "| 48|10601.141374791605|\n",
      "| 45|10676.368643058979|\n",
      "| 22|10685.704575095018|\n",
      "| 50| 11013.99168742944|\n",
      "| 52|12136.724942240351|\n",
      "| 46|12631.640793612918|\n",
      "| 47| 12776.08689537262|\n",
      "| 41|12981.381192475277|\n",
      "| 49|13967.435604374685|\n",
      "| 43|14764.809580492021|\n",
      "| 44|15251.200241833454|\n",
      "| 23|15879.388642057724|\n",
      "| 39|17217.454181464018|\n",
      "| 40| 17717.62856597648|\n",
      "| 42|18227.273200303127|\n",
      "| 38|19608.475689806433|\n",
      "| 25|20086.102299244034|\n",
      "| 24| 20618.40359955717|\n",
      "| 37| 23998.99027221604|\n",
      "| 36| 25306.50495916721|\n",
      "| 26|26065.841574272014|\n",
      "| 27|28191.734728066058|\n",
      "| 34|30820.127417799828|\n",
      "| 28| 31468.80871035394|\n",
      "| 33|  32561.2088230246|\n",
      "| 31| 33546.59122401218|\n",
      "| 35| 33929.43391908203|\n",
      "| 30|38304.225136739034|\n",
      "| 29| 38569.62951547575|\n",
      "| 32| 39878.46917964498|\n",
      "+---+------------------+\n",
      "\n"
     ]
    }
   ],
   "source": [
    "df3_3_ng.show(100)"
   ]
  },
  {
   "cell_type": "code",
   "execution_count": 39,
   "metadata": {},
   "outputs": [
    {
     "data": {
      "text/plain": [
       "Text(0, 0.5, 'Haversine Distance(km)')"
      ]
     },
     "execution_count": 39,
     "metadata": {},
     "output_type": "execute_result"
    },
    {
     "data": {
      "image/png": "[encoded data removed]",
      "text/plain": [
       "<Figure size 640x480 with 1 Axes>"
      ]
     },
     "metadata": {},
     "output_type": "display_data"
    }
   ],
   "source": [
    "df2=df3_3_ng.toPandas()\n",
    "\n",
    "sn.regplot(x= \"age\", y= \"Avg_Distance\", data=df2)\n",
    "plt.xlabel('Age', weight = 'bold')\n",
    "plt.ylabel('Haversine Distance(km)', weight = 'bold')"
   ]
  }
 ],
 "metadata": {
  "kernelspec": {
   "display_name": "Python 3",
   "language": "python",
   "name": "python3"
  },
  "language_info": {
   "codemirror_mode": {
    "name": "ipython",
    "version": 3
   },
   "file_extension": ".py",
   "mimetype": "text/x-python",
   "name": "python",
   "nbconvert_exporter": "python",
   "pygments_lexer": "ipython3",
   "version": "3.11.3"
  },
  "orig_nbformat": 4
 },
 "nbformat": 4,
 "nbformat_minor": 2
}
