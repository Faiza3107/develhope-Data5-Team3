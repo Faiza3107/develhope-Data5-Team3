{
  "nbformat": 4,
  "nbformat_minor": 0,
  "metadata": {
    "colab": {
      "provenance": []
    },
    "kernelspec": {
      "name": "python3",
      "display_name": "Python 3"
    },
    "language_info": {
      "name": "python"
    }
  },
  "cells": [
    {
      "cell_type": "code",
      "execution_count": 49,
      "metadata": {
        "colab": {
          "base_uri": "https://localhost:8080/"
        },
        "id": "VWdmA3U3y78p",
        "outputId": "71bde799-29f1-435f-ed7f-b2a4da0672fd"
      },
      "outputs": [
        {
          "output_type": "stream",
          "name": "stdout",
          "text": [
            "Looking in indexes: https://pypi.org/simple, https://us-python.pkg.dev/colab-wheels/public/simple/\n",
            "Requirement already satisfied: pyspark in /usr/local/lib/python3.10/dist-packages (3.4.0)\n",
            "Requirement already satisfied: py4j in /usr/local/lib/python3.10/dist-packages (0.10.9.7)\n"
          ]
        }
      ],
      "source": [
        "! pip install pyspark py4j"
      ]
    },
    {
      "cell_type": "code",
      "source": [
        "from pyspark.sql import SparkSession"
      ],
      "metadata": {
        "id": "Chysf9ko1kfg"
      },
      "execution_count": 50,
      "outputs": []
    },
    {
      "cell_type": "code",
      "source": [
        "spark = SparkSession.builder.appName(\"firstapp\").getOrCreate()"
      ],
      "metadata": {
        "id": "GHmxQpUo1L1H"
      },
      "execution_count": 51,
      "outputs": []
    },
    {
      "cell_type": "code",
      "source": [
        "df = spark.read.csv('/week_1_output.csv', header = True,inferSchema = True) #header = True,\n",
        "#inferSchema = True - means tht all values will be given thier correct schema, otherwise it will give all as string "
      ],
      "metadata": {
        "id": "o99oo3ZL2A-a"
      },
      "execution_count": 52,
      "outputs": []
    },
    {
      "cell_type": "code",
      "source": [
        "df.show(5)"
      ],
      "metadata": {
        "colab": {
          "base_uri": "https://localhost:8080/"
        },
        "id": "CfOrB78P9yp_",
        "outputId": "f4778bb6-de41-4c27-a8d0-674dd17b03d2"
      },
      "execution_count": 53,
      "outputs": [
        {
          "output_type": "stream",
          "name": "stdout",
          "text": [
            "+----------+---------------+-----------------+------------------+--------+-------------+---------------+----------------+----------------+--------------------+----------------------+-----------------------+--------------+--------------------+--------------------+---------------------+-------+----------+-----------------+-------------+-----------+------------------+\n",
            "|start_time|start time hour|start time minute|start time seconds|end_time|end_time hour|end_time minute|end_time seconds|start_station_id|  start_station_name|start_station_latitude|start_station_longitude|end_station_id|    end_station_name|end_station_latitude|end_station_longitude|bike_id| user_type|member_birth_year|member_gender|     pyment|haversine_distance|\n",
            "+----------+---------------+-----------------+------------------+--------+-------------+---------------+----------------+----------------+--------------------+----------------------+-----------------------+--------------+--------------------+--------------------+---------------------+-------+----------+-----------------+-------------+-----------+------------------+\n",
            "|   12:50.2|              3|               12|                50| 57:39.7|            4|             57|              40|              74|Laguna St at Haye...|           37.77643482|            -122.426244|            43|San Francisco Pub...|          37.7787677|         -122.4159292|     96|  Customer|             1987|         Male|credit card| 0.942930697721659|\n",
            "|   49:55.6|              1|               49|                56| 56:34.8|            3|             56|              35|             284|Yerba Buena Cente...|           37.78487208|           -122.4008757|            96|Dolores St at 15t...|          37.7662102|         -122.4266136|     88|  Customer|             1965|       Female|credit card| 3.069730208886286|\n",
            "|   45:48.4|             10|               45|                48| 28:36.9|           11|             28|              37|             245|Downtown Berkeley...|            37.8703477|           -122.2677637|           245|Downtown Berkeley...|          37.8703477|         -122.2677637|   1094|  Customer|             null|         null|credit card|               0.0|\n",
            "|   31:10.6|              5|               31|                11| 47:23.5|           10|             47|              24|              60|8th St at Ringold St|            37.7745204|           -122.4094494|             5|Powell St BART St...|         37.78389936|         -122.4084449|   2831|  Customer|             null|         null|credit card|1.0466240808449843|\n",
            "|   23:14.0|              2|               23|                14| 29:57.6|            2|             29|              58|             239|Bancroft Way at T...|            37.8688126|            -122.258764|           247|Fulton St at Banc...|          37.8677892|         -122.2658964|   3167|Subscriber|             1997|       Female| app wallet|0.6363402624770698|\n",
            "+----------+---------------+-----------------+------------------+--------+-------------+---------------+----------------+----------------+--------------------+----------------------+-----------------------+--------------+--------------------+--------------------+---------------------+-------+----------+-----------------+-------------+-----------+------------------+\n",
            "only showing top 5 rows\n",
            "\n"
          ]
        }
      ]
    },
    {
      "cell_type": "code",
      "source": [],
      "metadata": {
        "id": "sx0y-LjnwhRU"
      },
      "execution_count": null,
      "outputs": []
    },
    {
      "cell_type": "code",
      "source": [
        "df.columns"
      ],
      "metadata": {
        "colab": {
          "base_uri": "https://localhost:8080/"
        },
        "id": "SOwwNgIx3MwN",
        "outputId": "e696ae8e-561b-41f4-a5d2-ff7a617c0db9"
      },
      "execution_count": 54,
      "outputs": [
        {
          "output_type": "execute_result",
          "data": {
            "text/plain": [
              "['start_time',\n",
              " 'start time hour',\n",
              " 'start time minute',\n",
              " 'start time seconds',\n",
              " 'end_time',\n",
              " 'end_time hour',\n",
              " 'end_time minute',\n",
              " 'end_time seconds',\n",
              " 'start_station_id',\n",
              " 'start_station_name',\n",
              " 'start_station_latitude',\n",
              " 'start_station_longitude',\n",
              " 'end_station_id',\n",
              " 'end_station_name',\n",
              " 'end_station_latitude',\n",
              " 'end_station_longitude',\n",
              " 'bike_id',\n",
              " 'user_type',\n",
              " 'member_birth_year',\n",
              " 'member_gender',\n",
              " 'pyment',\n",
              " 'haversine_distance']"
            ]
          },
          "metadata": {},
          "execution_count": 54
        }
      ]
    },
    {
      "cell_type": "code",
      "source": [
        "#df.count() #returns number of rows in data "
      ],
      "metadata": {
        "id": "ArLATyzy9ag3"
      },
      "execution_count": 169,
      "outputs": []
    },
    {
      "cell_type": "code",
      "source": [
        "#df.select(['bike_id', 'user_type']).show(3) #you select just the columns you want to see\n",
        "#df.describe().show()"
      ],
      "metadata": {
        "id": "ZDBL9H2kJZgd"
      },
      "execution_count": 170,
      "outputs": []
    },
    {
      "cell_type": "markdown",
      "source": [
        "**From week2.task1**: task1-calculate the duration in seconds of each trip ( I formed a new column as trip, by substracting endtime and start time), however, we can also get same answer by also assuming that every row is a trip "
      ],
      "metadata": {
        "id": "Zh4sPP_ZCpsW"
      }
    },
    {
      "cell_type": "code",
      "source": [
        "df1 = df.withColumn('start_time(s)', df[1]*3600 + df[2]*60 + df[3])\n",
        "df2 = df1.withColumn('end_time(s)', df[5]*3600 + df[6]*60 + df[7])\n",
        "\n",
        "#df2.show(['start_time(s)','end_time(s)'])"
      ],
      "metadata": {
        "id": "Dw1ItiEnCinx"
      },
      "execution_count": 55,
      "outputs": []
    },
    {
      "cell_type": "code",
      "source": [
        "df3 = df2.withColumn('trip(s)', (df2['end_time(s)'] - df2['start_time(s)']))\n",
        "#display('trip(s)')"
      ],
      "metadata": {
        "id": "Zr4xtaHdDAOl"
      },
      "execution_count": 56,
      "outputs": []
    },
    {
      "cell_type": "markdown",
      "source": [
        "### **Week3:task1:** calculate the number of trips for each start station list top 10 and find the ratio of using as male or female "
      ],
      "metadata": {
        "id": "SuYSewYY_-xZ"
      }
    },
    {
      "cell_type": "code",
      "source": [
        "df.groupby('member_gender').count().show()"
      ],
      "metadata": {
        "colab": {
          "base_uri": "https://localhost:8080/"
        },
        "id": "mbdJ0o0mi18O",
        "outputId": "76837373-ea78-4172-cbac-77cb679ae58c"
      },
      "execution_count": 57,
      "outputs": [
        {
          "output_type": "stream",
          "name": "stdout",
          "text": [
            "+-------------+------+\n",
            "|member_gender| count|\n",
            "+-------------+------+\n",
            "|       Female| 98621|\n",
            "|        Other|  6299|\n",
            "|         Male|348318|\n",
            "|         null| 66462|\n",
            "+-------------+------+\n",
            "\n"
          ]
        }
      ]
    },
    {
      "cell_type": "code",
      "source": [
        "import pyspark.sql.functions as F\n",
        "#df = df.withColumn('test_column_1', F.when(F.col('member_gender' == 'Female') , 0).otherwise(1))\n",
        "df11 = df3.withColumn('F', F.when(F.col('member_gender') == 'Female', 1).otherwise(0)).withColumn('M', F.when(F.col('member_gender') == 'Male', 1).otherwise(0))\n",
        "\n",
        "df11.select('F', 'M','member_gender').show(10)"
      ],
      "metadata": {
        "colab": {
          "base_uri": "https://localhost:8080/"
        },
        "id": "0BUAOBY9KD5j",
        "outputId": "062a235c-cdb1-4507-abc8-a42b22a10bda"
      },
      "execution_count": 87,
      "outputs": [
        {
          "output_type": "stream",
          "name": "stdout",
          "text": [
            "+---+---+-------------+\n",
            "|  F|  M|member_gender|\n",
            "+---+---+-------------+\n",
            "|  0|  1|         Male|\n",
            "|  1|  0|       Female|\n",
            "|  0|  0|         null|\n",
            "|  0|  0|         null|\n",
            "|  1|  0|       Female|\n",
            "|  0|  0|         null|\n",
            "|  1|  0|       Female|\n",
            "|  0|  0|         null|\n",
            "|  0|  0|         null|\n",
            "|  0|  0|         null|\n",
            "+---+---+-------------+\n",
            "only showing top 10 rows\n",
            "\n"
          ]
        }
      ]
    },
    {
      "cell_type": "code",
      "source": [
        "#df_new = df3.groupby('start_station_name').count(df.trip(s)).show()\n",
        "\n",
        "#Using agg count\n",
        "from pyspark.sql.functions import desc\n",
        "\n",
        "df4 = df11.groupBy('start_station_id').agg({'trip(s)':'count', 'F':'sum', 'M': 'sum'}).orderBy(desc('count(trip(s))')).head(10)"
      ],
      "metadata": {
        "id": "5UwmAq1b3U1f"
      },
      "execution_count": 88,
      "outputs": []
    },
    {
      "cell_type": "code",
      "source": [
        "#df_new = df3.groupby('start_station_name').count(df.trip(s)).show()\n",
        "\n",
        "#Using agg count\n",
        "from pyspark.sql.functions import desc\n",
        "df4 = df11.groupBy('start_station_id').agg({'trip(s)':'count', 'F':'sum', 'M': 'sum'}).orderBy(desc('count(trip(s))')).limit(10)"
      ],
      "metadata": {
        "id": "ezPwKVQct1lU"
      },
      "execution_count": 85,
      "outputs": []
    },
    {
      "cell_type": "code",
      "source": [
        "df5 = df4.withColumn('ratio', df4[1]/df4[2])\n",
        "df5.show()"
      ],
      "metadata": {
        "colab": {
          "base_uri": "https://localhost:8080/"
        },
        "id": "h26Z538DqgaM",
        "outputId": "5c4ae765-682c-4b8f-9443-7bc8d5aafeec"
      },
      "execution_count": 86,
      "outputs": [
        {
          "output_type": "stream",
          "name": "stdout",
          "text": [
            "+----------------+------+------+--------------+-------------------+\n",
            "|start_station_id|sum(F)|sum(M)|count(trip(s))|              ratio|\n",
            "+----------------+------+------+--------------+-------------------+\n",
            "|              15|  2819|  8586|         15187| 0.3283251805264384|\n",
            "|               6|  1938|  7444|         13664| 0.2603439011284256|\n",
            "|              30|  2035|  9813|         12546| 0.2073779680016305|\n",
            "|              67|  2105|  9409|         12055| 0.2237219683281964|\n",
            "|              58|  1870|  9005|         11960| 0.2076624097723487|\n",
            "|              21|  1631|  8367|         11334| 0.1949324728098482|\n",
            "|              81|  2302|  7773|         10956| 0.2961533513443973|\n",
            "|               3|  1768|  6070|         10142| 0.2912685337726524|\n",
            "|              22|  1980|  7512|          9926|0.26357827476038337|\n",
            "|              16|  1740|  6532|          9347|0.26638089406001225|\n",
            "+----------------+------+------+--------------+-------------------+\n",
            "\n"
          ]
        }
      ]
    },
    {
      "cell_type": "code",
      "source": [
        "df4 = df3.groupBy('start_station_id').count().orderBy(desc('count')).show(10)"
      ],
      "metadata": {
        "colab": {
          "base_uri": "https://localhost:8080/"
        },
        "id": "DrBygwKfys1D",
        "outputId": "ee42bf3b-c91a-44f7-c29f-97e5da95c225"
      },
      "execution_count": 63,
      "outputs": [
        {
          "output_type": "stream",
          "name": "stdout",
          "text": [
            "+----------------+-----+\n",
            "|start_station_id|count|\n",
            "+----------------+-----+\n",
            "|              15|15187|\n",
            "|               6|13664|\n",
            "|              30|12546|\n",
            "|              67|12055|\n",
            "|              58|11960|\n",
            "|              21|11334|\n",
            "|              81|10956|\n",
            "|               3|10142|\n",
            "|              22| 9926|\n",
            "|              16| 9347|\n",
            "+----------------+-----+\n",
            "only showing top 10 rows\n",
            "\n"
          ]
        }
      ]
    },
    {
      "cell_type": "markdown",
      "source": [
        "task2: make a comparison to find the percentage of usage for customer and subscriber"
      ],
      "metadata": {
        "id": "9uwdCOn4_7ED"
      }
    },
    {
      "cell_type": "code",
      "source": [
        "df1 = df.groupby('user_type').count().limit(2)\n",
        "df1.show()\n"
      ],
      "metadata": {
        "colab": {
          "base_uri": "https://localhost:8080/"
        },
        "id": "Adm0QfOx_1aM",
        "outputId": "851563cd-6879-47df-eab6-f35628b9a9a1"
      },
      "execution_count": 64,
      "outputs": [
        {
          "output_type": "stream",
          "name": "stdout",
          "text": [
            "+----------+------+\n",
            "| user_type| count|\n",
            "+----------+------+\n",
            "|Subscriber|409230|\n",
            "|  Customer|110470|\n",
            "+----------+------+\n",
            "\n"
          ]
        }
      ]
    },
    {
      "cell_type": "code",
      "source": [
        "nb_subs = df1.take(1)[0][1]\n",
        "cust =  df1.take(2)[1][1] \n",
        "percentage_subs = nb_subs*100/(nb_subs+cust)\n",
        "percentage_subs\n",
        "#specific_value = df.take(3)[2][4]\n",
        "#This will retrieve the first 3 rows of the DataFrame df and select the 3rd row (at index 2 in the list of rows), and then select the 5th column (at index 4 in the list of columns). Note that indexing in PySpark is 0-based, so the 3rd row has an index of 2."
      ],
      "metadata": {
        "colab": {
          "base_uri": "https://localhost:8080/"
        },
        "id": "OxM6lOct10q7",
        "outputId": "2c25a938-d356-4e29-f037-a1aa2e88be81"
      },
      "execution_count": 65,
      "outputs": [
        {
          "output_type": "execute_result",
          "data": {
            "text/plain": [
              "78.74350586877044"
            ]
          },
          "metadata": {},
          "execution_count": 65
        }
      ]
    },
    {
      "cell_type": "code",
      "source": [
        "percentage_cust = cust*100/(nb_subs+cust)\n",
        "percentage_cust"
      ],
      "metadata": {
        "colab": {
          "base_uri": "https://localhost:8080/"
        },
        "id": "vgyFjXk1gM5S",
        "outputId": "465ed6d9-7797-40e0-ac8d-506f412a43ed"
      },
      "execution_count": 66,
      "outputs": [
        {
          "output_type": "execute_result",
          "data": {
            "text/plain": [
              "21.256494131229555"
            ]
          },
          "metadata": {},
          "execution_count": 66
        }
      ]
    },
    {
      "cell_type": "markdown",
      "source": [
        "week3,task3: calculate the age of all users and show the relation between the distance and the age"
      ],
      "metadata": {
        "id": "oWsD7hriTrXH"
      }
    },
    {
      "cell_type": "code",
      "source": [
        "from pyspark.sql import functions as F\n",
        "from pyspark.sql import types as T\n",
        "from datetime import datetime\n",
        "\n",
        "df12 = df1.withColumn(\"age\", F.floor(F.datediff(F.current_timestamp(), F.col(\"member_birth_year\"))/365.25))\n",
        "df12_new = df12.na.drop(how= \"any\", subset = [\"age\"])\n",
        "df12_new.select(\"age\",\"member_birth_year\",).show(5)"
      ],
      "metadata": {
        "colab": {
          "base_uri": "https://localhost:8080/"
        },
        "id": "6vKwZWrPkxDW",
        "outputId": "ed3c9b2b-0017-435a-946c-f0d54df5d1df"
      },
      "execution_count": 120,
      "outputs": [
        {
          "output_type": "stream",
          "name": "stdout",
          "text": [
            "+---+-----------------+\n",
            "|age|member_birth_year|\n",
            "+---+-----------------+\n",
            "| 36|             1987|\n",
            "| 58|             1965|\n",
            "| 26|             1997|\n",
            "| 32|             1991|\n",
            "| 33|             1990|\n",
            "+---+-----------------+\n",
            "only showing top 5 rows\n",
            "\n"
          ]
        }
      ]
    },
    {
      "cell_type": "code",
      "source": [
        "df12_new = df12.groupby(\"age\").agg({\"haversine_distance\": \"mean\"})\n",
        "df12_new.show(3)"
      ],
      "metadata": {
        "colab": {
          "base_uri": "https://localhost:8080/"
        },
        "id": "fwOvpmLq1Fvm",
        "outputId": "7f5b5578-418d-47b9-b903-234abdcd0afc"
      },
      "execution_count": 113,
      "outputs": [
        {
          "output_type": "stream",
          "name": "stdout",
          "text": [
            "+---+-----------------------+\n",
            "|age|avg(haversine_distance)|\n",
            "+---+-----------------------+\n",
            "| 26|      1.349312818936619|\n",
            "| 29|     1.5988107774927172|\n",
            "| 65|     1.5599574059975367|\n",
            "+---+-----------------------+\n",
            "only showing top 3 rows\n",
            "\n"
          ]
        }
      ]
    },
    {
      "cell_type": "code",
      "source": [
        "# convert to pandas and plot\n",
        "pdf = df12_new.toPandas()"
      ],
      "metadata": {
        "id": "VlvGdPf3zvc7"
      },
      "execution_count": 110,
      "outputs": []
    },
    {
      "cell_type": "code",
      "source": [
        "import pandas as pd\n",
        "import seaborn as sn\n",
        "import matplotlib.pyplot as plt"
      ],
      "metadata": {
        "id": "ToQM-OzPxosN"
      },
      "execution_count": 104,
      "outputs": []
    },
    {
      "cell_type": "code",
      "source": [
        "sn.regplot(x= \"age\", y= \"avg(haversine_distance)\", data=pdf)\n",
        "plt.xlabel('age', weight = 'bold')\n",
        "plt.ylabel('haversine_distance', weight = 'bold')"
      ],
      "metadata": {
        "colab": {
          "base_uri": "https://localhost:8080/",
          "height": 466
        },
        "id": "m7u20-kozAkQ",
        "outputId": "2c3d5de2-38c1-40e7-a8d9-5ca2f27982b0"
      },
      "execution_count": 118,
      "outputs": [
        {
          "output_type": "execute_result",
          "data": {
            "text/plain": [
              "Text(0, 0.5, 'haversine_distance')"
            ]
          },
          "metadata": {},
          "execution_count": 118
        },
        {
          "output_type": "display_data",
          "data": {
            "text/plain": [
              "<Figure size 640x480 with 1 Axes>"
            ],
            "image/png": "[encoded data removed]"
          },
          "metadata": {}
        }
      ]
    }
  ]
}