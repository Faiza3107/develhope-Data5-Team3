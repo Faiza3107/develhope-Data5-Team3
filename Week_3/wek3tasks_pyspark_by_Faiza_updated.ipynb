{
  "nbformat": 4,
  "nbformat_minor": 0,
  "metadata": {
    "colab": {
      "provenance": []
    },
    "kernelspec": {
      "name": "python3",
      "display_name": "Python 3"
    },
    "language_info": {
      "name": "python"
    }
  },
  "cells": [
    {
      "cell_type": "code",
      "execution_count": 1,
      "metadata": {
        "colab": {
          "base_uri": "https://localhost:8080/"
        },
        "id": "VWdmA3U3y78p",
        "outputId": "ca385500-e650-4414-a84c-715e7141d426"
      },
      "outputs": [
        {
          "output_type": "stream",
          "name": "stdout",
          "text": [
            "Looking in indexes: https://pypi.org/simple, https://us-python.pkg.dev/colab-wheels/public/simple/\n",
            "Collecting pyspark\n",
            "  Downloading pyspark-3.4.0.tar.gz (310.8 MB)\n",
            "\u001b[2K     \u001b[90m━━━━━━━━━━━━━━━━━━━━━━━━━━━━━━━━━━━━━━━\u001b[0m \u001b[32m310.8/310.8 MB\u001b[0m \u001b[31m4.5 MB/s\u001b[0m eta \u001b[36m0:00:00\u001b[0m\n",
            "\u001b[?25h  Preparing metadata (setup.py) ... \u001b[?25l\u001b[?25hdone\n",
            "Requirement already satisfied: py4j in /usr/local/lib/python3.10/dist-packages (0.10.9.7)\n",
            "Building wheels for collected packages: pyspark\n",
            "  Building wheel for pyspark (setup.py) ... \u001b[?25l\u001b[?25hdone\n",
            "  Created wheel for pyspark: filename=pyspark-3.4.0-py2.py3-none-any.whl size=311317145 sha256=dcfe229c0d2e3a7f9676af119ac8f5d5e689415b8b71cbd0b8c748c49e5d96fd\n",
            "  Stored in directory: /root/.cache/pip/wheels/7b/1b/4b/3363a1d04368e7ff0d408e57ff57966fcdf00583774e761327\n",
            "Successfully built pyspark\n",
            "Installing collected packages: pyspark\n",
            "Successfully installed pyspark-3.4.0\n"
          ]
        }
      ],
      "source": [
        "! pip install pyspark py4j"
      ]
    },
    {
      "cell_type": "code",
      "source": [
        "from pyspark.sql import SparkSession"
      ],
      "metadata": {
        "id": "Chysf9ko1kfg"
      },
      "execution_count": 2,
      "outputs": []
    },
    {
      "cell_type": "code",
      "source": [
        "spark = SparkSession.builder.appName(\"firstapp\").getOrCreate()"
      ],
      "metadata": {
        "id": "GHmxQpUo1L1H"
      },
      "execution_count": 3,
      "outputs": []
    },
    {
      "cell_type": "code",
      "source": [
        "df = spark.read.csv(\"/content/week_1_output.csv\", header = True,inferSchema = True) #header = True,\n",
        "#inferSchema = True - means tht all values will be given thier correct schema, otherwise it will give all as string "
      ],
      "metadata": {
        "id": "o99oo3ZL2A-a"
      },
      "execution_count": 27,
      "outputs": []
    },
    {
      "cell_type": "code",
      "source": [
        "df.show(5)"
      ],
      "metadata": {
        "colab": {
          "base_uri": "https://localhost:8080/"
        },
        "id": "CfOrB78P9yp_",
        "outputId": "ee86416b-c761-40ee-c4d8-3181ef454c96"
      },
      "execution_count": 28,
      "outputs": [
        {
          "output_type": "stream",
          "name": "stdout",
          "text": [
            "+----------+---------------+-----------------+------------------+--------+-------------+---------------+----------------+----------------+--------------------+----------------------+-----------------------+--------------+--------------------+--------------------+---------------------+-------+----------+-----------------+-------------+-----------+------------------+\n",
            "|start_time|start time hour|start time minute|start time seconds|end_time|end_time hour|end_time minute|end_time seconds|start_station_id|  start_station_name|start_station_latitude|start_station_longitude|end_station_id|    end_station_name|end_station_latitude|end_station_longitude|bike_id| user_type|member_birth_year|member_gender|     pyment|haversine_distance|\n",
            "+----------+---------------+-----------------+------------------+--------+-------------+---------------+----------------+----------------+--------------------+----------------------+-----------------------+--------------+--------------------+--------------------+---------------------+-------+----------+-----------------+-------------+-----------+------------------+\n",
            "|   12:50.2|              3|               12|                50| 57:39.7|            4|             57|              40|              74|Laguna St at Haye...|           37.77643482|            -122.426244|            43|San Francisco Pub...|          37.7787677|         -122.4159292|     96|  Customer|             1987|         Male|credit card| 0.942930697721659|\n",
            "|   49:55.6|              1|               49|                56| 56:34.8|            3|             56|              35|             284|Yerba Buena Cente...|           37.78487208|           -122.4008757|            96|Dolores St at 15t...|          37.7662102|         -122.4266136|     88|  Customer|             1965|       Female|credit card| 3.069730208886286|\n",
            "|   45:48.4|             10|               45|                48| 28:36.9|           11|             28|              37|             245|Downtown Berkeley...|            37.8703477|           -122.2677637|           245|Downtown Berkeley...|          37.8703477|         -122.2677637|   1094|  Customer|             null|         null|credit card|               0.0|\n",
            "|   31:10.6|              5|               31|                11| 47:23.5|           10|             47|              24|              60|8th St at Ringold St|            37.7745204|           -122.4094494|             5|Powell St BART St...|         37.78389936|         -122.4084449|   2831|  Customer|             null|         null|credit card|1.0466240808449843|\n",
            "|   23:14.0|              2|               23|                14| 29:57.6|            2|             29|              58|             239|Bancroft Way at T...|            37.8688126|            -122.258764|           247|Fulton St at Banc...|          37.8677892|         -122.2658964|   3167|Subscriber|             1997|       Female| app wallet|0.6363402624770698|\n",
            "+----------+---------------+-----------------+------------------+--------+-------------+---------------+----------------+----------------+--------------------+----------------------+-----------------------+--------------+--------------------+--------------------+---------------------+-------+----------+-----------------+-------------+-----------+------------------+\n",
            "only showing top 5 rows\n",
            "\n"
          ]
        }
      ]
    },
    {
      "cell_type": "code",
      "source": [
        "df.columns"
      ],
      "metadata": {
        "colab": {
          "base_uri": "https://localhost:8080/"
        },
        "id": "SOwwNgIx3MwN",
        "outputId": "0340ee8f-59c3-4ddf-925d-1b0788e17530"
      },
      "execution_count": 29,
      "outputs": [
        {
          "output_type": "execute_result",
          "data": {
            "text/plain": [
              "['start_time',\n",
              " 'start time hour',\n",
              " 'start time minute',\n",
              " 'start time seconds',\n",
              " 'end_time',\n",
              " 'end_time hour',\n",
              " 'end_time minute',\n",
              " 'end_time seconds',\n",
              " 'start_station_id',\n",
              " 'start_station_name',\n",
              " 'start_station_latitude',\n",
              " 'start_station_longitude',\n",
              " 'end_station_id',\n",
              " 'end_station_name',\n",
              " 'end_station_latitude',\n",
              " 'end_station_longitude',\n",
              " 'bike_id',\n",
              " 'user_type',\n",
              " 'member_birth_year',\n",
              " 'member_gender',\n",
              " 'pyment',\n",
              " 'haversine_distance']"
            ]
          },
          "metadata": {},
          "execution_count": 29
        }
      ]
    },
    {
      "cell_type": "code",
      "source": [
        "#df.count() #returns number of rows in data "
      ],
      "metadata": {
        "id": "ArLATyzy9ag3"
      },
      "execution_count": 8,
      "outputs": []
    },
    {
      "cell_type": "code",
      "source": [
        "#df.select(['bike_id', 'user_type']).show(3) #you select just the columns you want to see\n",
        "#df.describe().show()"
      ],
      "metadata": {
        "id": "ZDBL9H2kJZgd"
      },
      "execution_count": 9,
      "outputs": []
    },
    {
      "cell_type": "markdown",
      "source": [
        "**From week2.task1**: task1-calculate the duration in seconds of each trip ( I formed a new column as trip, by substracting endtime and start time), however, we can also get same answer by also assuming that every row is a trip "
      ],
      "metadata": {
        "id": "Zh4sPP_ZCpsW"
      }
    },
    {
      "cell_type": "code",
      "source": [
        "df1 = df.withColumn('start_time(s)', df[1]*3600 + df[2]*60 + df[3])\n",
        "df2 = df1.withColumn('end_time(s)', df[5]*3600 + df[6]*60 + df[7])\n",
        "\n",
        "#df2.show(['start_time(s)','end_time(s)'])"
      ],
      "metadata": {
        "id": "Dw1ItiEnCinx"
      },
      "execution_count": 30,
      "outputs": []
    },
    {
      "cell_type": "code",
      "source": [
        "df3 = df2.withColumn('trip(s)', (df2['end_time(s)'] - df2['start_time(s)']))\n",
        "#display('trip(s)')"
      ],
      "metadata": {
        "id": "Zr4xtaHdDAOl"
      },
      "execution_count": 31,
      "outputs": []
    },
    {
      "cell_type": "markdown",
      "source": [
        "### **Week3:task1:** calculate the number of trips for each start station list top 10 and find the ratio of using as male or female "
      ],
      "metadata": {
        "id": "SuYSewYY_-xZ"
      }
    },
    {
      "cell_type": "code",
      "source": [
        "df.groupby('member_gender').count().show()"
      ],
      "metadata": {
        "colab": {
          "base_uri": "https://localhost:8080/"
        },
        "id": "mbdJ0o0mi18O",
        "outputId": "4b3f08c0-3733-49b9-e106-c68c4e9a021b"
      },
      "execution_count": 32,
      "outputs": [
        {
          "output_type": "stream",
          "name": "stdout",
          "text": [
            "+-------------+------+\n",
            "|member_gender| count|\n",
            "+-------------+------+\n",
            "|       Female| 95871|\n",
            "|        Other|  6167|\n",
            "|         Male|336593|\n",
            "|         null| 63106|\n",
            "+-------------+------+\n",
            "\n"
          ]
        }
      ]
    },
    {
      "cell_type": "code",
      "source": [
        "import pyspark.sql.functions as F\n",
        "#df = df.withColumn('test_column_1', F.when(F.col('member_gender' == 'Female') , 0).otherwise(1))\n",
        "df11 = df3.withColumn('F', F.when(F.col('member_gender') == 'Female', 1).otherwise(0)).withColumn('M', F.when(F.col('member_gender') == 'Male', 1).otherwise(0))\n",
        "\n",
        "df11.select('F', 'M','member_gender').show(10)"
      ],
      "metadata": {
        "colab": {
          "base_uri": "https://localhost:8080/"
        },
        "id": "0BUAOBY9KD5j",
        "outputId": "611cf55d-9516-4642-84f9-b239e45da931"
      },
      "execution_count": 33,
      "outputs": [
        {
          "output_type": "stream",
          "name": "stdout",
          "text": [
            "+---+---+-------------+\n",
            "|  F|  M|member_gender|\n",
            "+---+---+-------------+\n",
            "|  0|  1|         Male|\n",
            "|  1|  0|       Female|\n",
            "|  0|  0|         null|\n",
            "|  0|  0|         null|\n",
            "|  1|  0|       Female|\n",
            "|  0|  0|         null|\n",
            "|  1|  0|       Female|\n",
            "|  0|  0|         null|\n",
            "|  0|  0|         null|\n",
            "|  0|  0|         null|\n",
            "+---+---+-------------+\n",
            "only showing top 10 rows\n",
            "\n"
          ]
        }
      ]
    },
    {
      "cell_type": "code",
      "source": [
        "#df_new = df3.groupby('start_station_name').count(df.trip(s)).show()\n",
        "\n",
        "#Using agg count\n",
        "from pyspark.sql.functions import desc\n",
        "\n",
        "df4 = df11.groupBy('start_station_id').agg({'trip(s)':'count', 'F':'sum', 'M': 'sum'}).orderBy(desc('count(trip(s))')).head(10)"
      ],
      "metadata": {
        "id": "5UwmAq1b3U1f"
      },
      "execution_count": 34,
      "outputs": []
    },
    {
      "cell_type": "code",
      "source": [
        "#df_new = df3.groupby('start_station_name').count(df.trip(s)).show()\n",
        "\n",
        "#Using agg count\n",
        "from pyspark.sql.functions import desc\n",
        "df4 = df11.groupBy('start_station_id').agg({'trip(s)':'count', 'F':'sum', 'M': 'sum'}).orderBy(desc('count(trip(s))')).limit(10)"
      ],
      "metadata": {
        "id": "ezPwKVQct1lU"
      },
      "execution_count": 41,
      "outputs": []
    },
    {
      "cell_type": "code",
      "source": [
        "df5 = df4.withColumn('F_ratio', df4[1]/df4[3])\n",
        "#df5.show()\n",
        "df6 = df5.withColumn('M_ratio', df4[2]/df4[3])\n",
        "df6.show(10)"
      ],
      "metadata": {
        "colab": {
          "base_uri": "https://localhost:8080/"
        },
        "id": "h26Z538DqgaM",
        "outputId": "a04af5f9-060b-44d5-b595-f80819997271"
      },
      "execution_count": 45,
      "outputs": [
        {
          "output_type": "stream",
          "name": "stdout",
          "text": [
            "+----------------+------+------+--------------+-------------------+------------------+\n",
            "|start_station_id|sum(F)|sum(M)|count(trip(s))|            F_ratio|           M_ratio|\n",
            "+----------------+------+------+--------------+-------------------+------------------+\n",
            "|              15|  2594|  7911|         13899|0.18663213180804375|0.5691776386790417|\n",
            "|               6|  1820|  6960|         12618|0.14423838960215565|0.5515929624346172|\n",
            "|              30|  1878|  9116|         11654|0.16114638750643556|0.7822206967564784|\n",
            "|              67|  1987|  8877|         11386| 0.1745125592833304|0.7796416652028807|\n",
            "|              58|  1777|  8581|         11370|0.15628847845206684|0.7547053649956025|\n",
            "|              21|  1552|  7876|         10650|0.14572769953051642|0.7395305164319249|\n",
            "|              81|  2181|  7351|         10361|0.21050091689991313|0.7094875012064472|\n",
            "|               3|  1702|  5796|          9649| 0.1763913358897295|0.6006840087055654|\n",
            "|              22|  1872|  7003|          9269|0.20196353436185133|0.7555291832991693|\n",
            "|              16|  1705|  6378|          9136| 0.1866243432574431|0.6981173380035026|\n",
            "+----------------+------+------+--------------+-------------------+------------------+\n",
            "\n"
          ]
        }
      ]
    },
    {
      "cell_type": "code",
      "source": [
        "df4 = df3.groupBy('start_station_id').count().orderBy(desc('count')).show(10)"
      ],
      "metadata": {
        "colab": {
          "base_uri": "https://localhost:8080/"
        },
        "id": "DrBygwKfys1D",
        "outputId": "259d704e-e01d-4478-c218-00cf5a00720d"
      },
      "execution_count": 46,
      "outputs": [
        {
          "output_type": "stream",
          "name": "stdout",
          "text": [
            "+----------------+-----+\n",
            "|start_station_id|count|\n",
            "+----------------+-----+\n",
            "|              15|13899|\n",
            "|               6|12618|\n",
            "|              30|11654|\n",
            "|              67|11386|\n",
            "|              58|11370|\n",
            "|              21|10650|\n",
            "|              81|10361|\n",
            "|               3| 9649|\n",
            "|              22| 9269|\n",
            "|              16| 9136|\n",
            "+----------------+-----+\n",
            "only showing top 10 rows\n",
            "\n"
          ]
        }
      ]
    },
    {
      "cell_type": "markdown",
      "source": [
        "task2: make a comparison to find the percentage of usage for customer and subscriber"
      ],
      "metadata": {
        "id": "9uwdCOn4_7ED"
      }
    },
    {
      "cell_type": "code",
      "source": [
        "df1 = df.groupby('user_type').count().limit(2)\n",
        "df1.show()\n"
      ],
      "metadata": {
        "colab": {
          "base_uri": "https://localhost:8080/"
        },
        "id": "Adm0QfOx_1aM",
        "outputId": "39f9b7ef-d8d4-40a0-a614-aaa2fe8294b3"
      },
      "execution_count": 47,
      "outputs": [
        {
          "output_type": "stream",
          "name": "stdout",
          "text": [
            "+----------+------+\n",
            "| user_type| count|\n",
            "+----------+------+\n",
            "|Subscriber|396156|\n",
            "|  Customer|105581|\n",
            "+----------+------+\n",
            "\n"
          ]
        }
      ]
    },
    {
      "cell_type": "code",
      "source": [
        "nb_subs = df1.take(1)[0][1]\n",
        "cust =  df1.take(2)[1][1] \n",
        "percentage_subs = nb_subs*100/(nb_subs+cust)\n",
        "percentage_subs\n",
        "#specific_value = df.take(3)[2][4]\n",
        "#This will retrieve the first 3 rows of the DataFrame df and select the 3rd row (at index 2 in the list of rows), and then select the 5th column (at index 4 in the list of columns). Note that indexing in PySpark is 0-based, so the 3rd row has an index of 2."
      ],
      "metadata": {
        "colab": {
          "base_uri": "https://localhost:8080/"
        },
        "id": "OxM6lOct10q7",
        "outputId": "3f20bbe7-f485-4ca7-afd3-86cd5188e3a8"
      },
      "execution_count": 48,
      "outputs": [
        {
          "output_type": "execute_result",
          "data": {
            "text/plain": [
              "78.95690371648892"
            ]
          },
          "metadata": {},
          "execution_count": 48
        }
      ]
    },
    {
      "cell_type": "code",
      "source": [
        "percentage_cust = cust*100/(nb_subs+cust)\n",
        "percentage_cust"
      ],
      "metadata": {
        "colab": {
          "base_uri": "https://localhost:8080/"
        },
        "id": "vgyFjXk1gM5S",
        "outputId": "14f7537c-7719-4a6c-a516-339ef8387d45"
      },
      "execution_count": 49,
      "outputs": [
        {
          "output_type": "execute_result",
          "data": {
            "text/plain": [
              "21.043096283511083"
            ]
          },
          "metadata": {},
          "execution_count": 49
        }
      ]
    },
    {
      "cell_type": "markdown",
      "source": [
        "week3,task3: calculate the age of all users and show the relation between the distance and the age"
      ],
      "metadata": {
        "id": "oWsD7hriTrXH"
      }
    },
    {
      "cell_type": "code",
      "source": [
        "from pyspark.sql import functions as F\n",
        "from pyspark.sql import types as T\n",
        "from datetime import datetime\n",
        "\n",
        "df12 = df.withColumn(\"age\", F.floor(F.datediff(F.current_timestamp(), F.col(\"member_birth_year\"))/365.25))\n",
        "df12_new = df12.na.drop(how= \"any\", subset = [\"age\"])\n",
        "df12_new.select(\"age\",\"member_birth_year\",).show(5)"
      ],
      "metadata": {
        "colab": {
          "base_uri": "https://localhost:8080/"
        },
        "id": "6vKwZWrPkxDW",
        "outputId": "62090891-30a1-4863-c4d2-69a08b9cbf7d"
      },
      "execution_count": 52,
      "outputs": [
        {
          "output_type": "stream",
          "name": "stdout",
          "text": [
            "+---+-----------------+\n",
            "|age|member_birth_year|\n",
            "+---+-----------------+\n",
            "| 36|             1987|\n",
            "| 58|             1965|\n",
            "| 26|             1997|\n",
            "| 32|             1991|\n",
            "| 33|             1990|\n",
            "+---+-----------------+\n",
            "only showing top 5 rows\n",
            "\n"
          ]
        }
      ]
    },
    {
      "cell_type": "code",
      "source": [
        "df12_new = df12.groupby(\"age\").agg({\"haversine_distance\": \"mean\"})\n",
        "df12_new.show(3)"
      ],
      "metadata": {
        "colab": {
          "base_uri": "https://localhost:8080/"
        },
        "id": "fwOvpmLq1Fvm",
        "outputId": "0eb25ab6-ced3-472e-8f0a-e582afb84111"
      },
      "execution_count": 53,
      "outputs": [
        {
          "output_type": "stream",
          "name": "stdout",
          "text": [
            "+---+-----------------------+\n",
            "|age|avg(haversine_distance)|\n",
            "+---+-----------------------+\n",
            "| 26|     1.3314663758443506|\n",
            "| 29|     1.5997178792192974|\n",
            "| 65|     1.5495662635180862|\n",
            "+---+-----------------------+\n",
            "only showing top 3 rows\n",
            "\n"
          ]
        }
      ]
    },
    {
      "cell_type": "code",
      "source": [
        "# convert to pandas and plot\n",
        "pdf = df12_new.toPandas()"
      ],
      "metadata": {
        "id": "VlvGdPf3zvc7"
      },
      "execution_count": 54,
      "outputs": []
    },
    {
      "cell_type": "code",
      "source": [
        "import pandas as pd\n",
        "import seaborn as sn\n",
        "import matplotlib.pyplot as plt"
      ],
      "metadata": {
        "id": "ToQM-OzPxosN"
      },
      "execution_count": 55,
      "outputs": []
    },
    {
      "cell_type": "code",
      "source": [
        "sn.regplot(x= \"age\", y= \"avg(haversine_distance)\", data=pdf)\n",
        "plt.xlabel('age', weight = 'bold')\n",
        "plt.ylabel('haversine_distance', weight = 'bold')"
      ],
      "metadata": {
        "colab": {
          "base_uri": "https://localhost:8080/",
          "height": 466
        },
        "id": "m7u20-kozAkQ",
        "outputId": "80091aa1-437b-4e35-d172-bb81bd1d075a"
      },
      "execution_count": 56,
      "outputs": [
        {
          "output_type": "execute_result",
          "data": {
            "text/plain": [
              "Text(0, 0.5, 'haversine_distance')"
            ]
          },
          "metadata": {},
          "execution_count": 56
        },
        {
          "output_type": "display_data",
          "data": {
            "text/plain": [
              "<Figure size 640x480 with 1 Axes>"
            ],
            "image/png": "[encoded data removed]"
          },
          "metadata": {}
        }
      ]
    }
  ]
}