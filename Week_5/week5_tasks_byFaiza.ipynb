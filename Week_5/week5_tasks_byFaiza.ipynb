{
  "nbformat": 4,
  "nbformat_minor": 0,
  "metadata": {
    "colab": {
      "provenance": []
    },
    "kernelspec": {
      "name": "python3",
      "display_name": "Python 3"
    },
    "language_info": {
      "name": "python"
    }
  },
  "cells": [
    {
      "cell_type": "code",
      "source": [
        "! pip install pyspark py4j"
      ],
      "metadata": {
        "colab": {
          "base_uri": "https://localhost:8080/"
        },
        "id": "-5MlzG0u8t_q",
        "outputId": "a934076a-ed16-4d2f-8939-ace206445fe4"
      },
      "execution_count": 2,
      "outputs": [
        {
          "output_type": "stream",
          "name": "stdout",
          "text": [
            "Looking in indexes: https://pypi.org/simple, https://us-python.pkg.dev/colab-wheels/public/simple/\n",
            "Collecting pyspark\n",
            "  Downloading pyspark-3.4.0.tar.gz (310.8 MB)\n",
            "\u001b[2K     \u001b[90m━━━━━━━━━━━━━━━━━━━━━━━━━━━━━━━━━━━━━━━\u001b[0m \u001b[32m310.8/310.8 MB\u001b[0m \u001b[31m2.4 MB/s\u001b[0m eta \u001b[36m0:00:00\u001b[0m\n",
            "\u001b[?25h  Preparing metadata (setup.py) ... \u001b[?25l\u001b[?25hdone\n",
            "Requirement already satisfied: py4j in /usr/local/lib/python3.10/dist-packages (0.10.9.7)\n",
            "Building wheels for collected packages: pyspark\n",
            "  Building wheel for pyspark (setup.py) ... \u001b[?25l\u001b[?25hdone\n",
            "  Created wheel for pyspark: filename=pyspark-3.4.0-py2.py3-none-any.whl size=311317130 sha256=73ab7c0ea2f74f1b6bb419f5927df5f61cbce9959f7597751bc3639bbf1911ae\n",
            "  Stored in directory: /root/.cache/pip/wheels/7b/1b/4b/3363a1d04368e7ff0d408e57ff57966fcdf00583774e761327\n",
            "Successfully built pyspark\n",
            "Installing collected packages: pyspark\n",
            "Successfully installed pyspark-3.4.0\n"
          ]
        }
      ]
    },
    {
      "cell_type": "code",
      "source": [
        "from pyspark.sql import SparkSession\n",
        "from pyspark.sql import functions as F\n",
        "spark = SparkSession.builder.appName(\"firstapp\").getOrCreate()"
      ],
      "metadata": {
        "id": "W3aLDbTuLj2z"
      },
      "execution_count": 3,
      "outputs": []
    },
    {
      "cell_type": "markdown",
      "source": [
        "**week5.task1:what is the ratio of payment using cc or app wallet**"
      ],
      "metadata": {
        "id": "y92O56N4KR1a"
      }
    },
    {
      "cell_type": "code",
      "source": [
        "df = spark.read.csv('/content/drive/MyDrive/Data_Raw_FordGoBike', header = True, inferSchema = True)\n",
        "df.show(3)"
      ],
      "metadata": {
        "colab": {
          "base_uri": "https://localhost:8080/"
        },
        "id": "s4xG95KN7k6L",
        "outputId": "ac79235b-7a0e-47ed-fcee-74df3bc4b36e"
      },
      "execution_count": 4,
      "outputs": [
        {
          "output_type": "stream",
          "name": "stdout",
          "text": [
            "+------------+--------------------+--------------------+----------------+--------------------+----------------------+-----------------------+--------------+--------------------+--------------------+---------------------+-------+---------+-----------------+-------------+-----------+\n",
            "|duration_sec|          start_time|            end_time|start_station_id|  start_station_name|start_station_latitude|start_station_longitude|end_station_id|    end_station_name|end_station_latitude|end_station_longitude|bike_id|user_type|member_birth_year|member_gender|     pyment|\n",
            "+------------+--------------------+--------------------+----------------+--------------------+----------------------+-----------------------+--------------+--------------------+--------------------+---------------------+-------+---------+-----------------+-------------+-----------+\n",
            "|       80110|2017-12-31 16:57:...|2018-01-01 15:12:...|              74|Laguna St at Haye...|    37.776434819204745|    -122.42624402046204|            43|San Francisco Pub...|          37.7787677|         -122.4159292|     96| Customer|           1987.0|         Male|credit card|\n",
            "|       78800|2017-12-31 15:56:...|2018-01-01 13:49:...|             284|Yerba Buena Cente...|     37.78487208436062|    -122.40087568759915|            96|Dolores St at 15t...|          37.7662102|         -122.4266136|     88| Customer|           1965.0|       Female|credit card|\n",
            "|       45768|2017-12-31 22:45:...|2018-01-01 11:28:...|             245|Downtown Berkeley...|            37.8703477|           -122.2677637|           245|Downtown Berkeley...|          37.8703477|         -122.2677637|   1094| Customer|             null|         null|credit card|\n",
            "+------------+--------------------+--------------------+----------------+--------------------+----------------------+-----------------------+--------------+--------------------+--------------------+---------------------+-------+---------+-----------------+-------------+-----------+\n",
            "only showing top 3 rows\n",
            "\n"
          ]
        }
      ]
    },
    {
      "cell_type": "code",
      "source": [
        "df11 = df.withColumn('CC', F.when(F.col('pyment') == 'credit card', 1).otherwise(0)).withColumn('App W', F.when(F.col('pyment') == 'app wallet', 1).otherwise(0))\n",
        "\n",
        "df11.select('CC', 'App W','pyment').show(10)"
      ],
      "metadata": {
        "colab": {
          "base_uri": "https://localhost:8080/"
        },
        "id": "Eta3eJCN8Ahu",
        "outputId": "6a8711b6-7a2d-471b-f92c-adae7bbc7fbf"
      },
      "execution_count": 5,
      "outputs": [
        {
          "output_type": "stream",
          "name": "stdout",
          "text": [
            "+---+-----+-----------+\n",
            "| CC|App W|     pyment|\n",
            "+---+-----+-----------+\n",
            "|  1|    0|credit card|\n",
            "|  1|    0|credit card|\n",
            "|  1|    0|credit card|\n",
            "|  1|    0|credit card|\n",
            "|  0|    1| app wallet|\n",
            "|  0|    1| app wallet|\n",
            "|  0|    1| app wallet|\n",
            "|  0|    1| app wallet|\n",
            "|  0|    1| app wallet|\n",
            "|  0|    1| app wallet|\n",
            "+---+-----+-----------+\n",
            "only showing top 10 rows\n",
            "\n"
          ]
        }
      ]
    },
    {
      "cell_type": "code",
      "source": [
        "from pyspark.sql.functions import desc\n",
        "df4 = df11.agg({'pyment':'count', 'CC':'sum', 'App W': 'sum'}).orderBy(desc('count(pyment)')).limit(10)\n",
        "df5 = df4.withColumn('CC_ratio', df4[0]/df4[2])\n",
        "df6 = df5.withColumn('App W_ratio', df4[1]/df4[2])\n",
        "df6.show(10)"
      ],
      "metadata": {
        "colab": {
          "base_uri": "https://localhost:8080/"
        },
        "id": "dizB86rK8aPI",
        "outputId": "a1a85e9b-470a-4bc9-88c2-badc86653554"
      },
      "execution_count": 6,
      "outputs": [
        {
          "output_type": "stream",
          "name": "stdout",
          "text": [
            "+-------+----------+-------------+-------------------+------------------+\n",
            "|sum(CC)|sum(App W)|count(pyment)|           CC_ratio|       App W_ratio|\n",
            "+-------+----------+-------------+-------------------+------------------+\n",
            "| 209644|    210056|       419700|0.49950917321896593|0.5004908267810341|\n",
            "+-------+----------+-------------+-------------------+------------------+\n",
            "\n"
          ]
        }
      ]
    },
    {
      "cell_type": "markdown",
      "source": [
        "**week5.task2:what is the preferred way to pay for customers and subscriber**"
      ],
      "metadata": {
        "id": "LLRpElk1Kamd"
      }
    },
    {
      "cell_type": "code",
      "source": [
        "df4 = df11.groupby('user_type').agg({'CC': 'sum', 'App W': 'sum'}).limit(10)\n",
        "df_per = df4.withColumn('%', (df4[1]/(df4[1]+df4[2])*100))\n",
        "df_per.show()"
      ],
      "metadata": {
        "colab": {
          "base_uri": "https://localhost:8080/"
        },
        "id": "RTwkOeEwKenf",
        "outputId": "134f7b62-2dfa-4ee9-f783-dca6efcf6c09"
      },
      "execution_count": 7,
      "outputs": [
        {
          "output_type": "stream",
          "name": "stdout",
          "text": [
            "+----------+-------+----------+-----------------+\n",
            "| user_type|sum(CC)|sum(App W)|                %|\n",
            "+----------+-------+----------+-----------------+\n",
            "|Subscriber| 165555|    165831|  49.958356719958|\n",
            "|  Customer|  44089|     44225|49.92300201553548|\n",
            "+----------+-------+----------+-----------------+\n",
            "\n"
          ]
        }
      ]
    },
    {
      "cell_type": "markdown",
      "source": [
        "**wee5.task3:Analyze the relationship between trip duration and user type (subscriber vs. customer) to understand differences in usage patterns.**\n"
      ],
      "metadata": {
        "id": "CJvcx97HK8Wi"
      }
    },
    {
      "cell_type": "code",
      "source": [
        "import pandas as pd\n",
        "import seaborn as sns\n",
        "\n",
        "df2=df.toPandas()"
      ],
      "metadata": {
        "colab": {
          "base_uri": "https://localhost:8080/"
        },
        "id": "d5DQdwIXLCDx",
        "outputId": "adb7161c-6aa6-42e7-a1cc-e212ff804a8a"
      },
      "execution_count": 10,
      "outputs": [
        {
          "output_type": "stream",
          "name": "stderr",
          "text": [
            "/usr/local/lib/python3.10/dist-packages/pyspark/sql/pandas/conversion.py:251: FutureWarning: Passing unit-less datetime64 dtype to .astype is deprecated and will raise in a future version. Pass 'datetime64[ns]' instead\n",
            "  series = series.astype(t, copy=False)\n",
            "/usr/local/lib/python3.10/dist-packages/pyspark/sql/pandas/conversion.py:251: FutureWarning: Passing unit-less datetime64 dtype to .astype is deprecated and will raise in a future version. Pass 'datetime64[ns]' instead\n",
            "  series = series.astype(t, copy=False)\n"
          ]
        }
      ]
    },
    {
      "cell_type": "code",
      "source": [
        "sns.kdeplot(data=df2, x=\"duration_sec\", hue=\"user_type\")"
      ],
      "metadata": {
        "colab": {
          "base_uri": "https://localhost:8080/",
          "height": 470
        },
        "id": "wRrmYEi5M79i",
        "outputId": "6c430c29-486f-45fc-8412-157a5cb43541"
      },
      "execution_count": 11,
      "outputs": [
        {
          "output_type": "execute_result",
          "data": {
            "text/plain": [
              "<Axes: xlabel='duration_sec', ylabel='Density'>"
            ]
          },
          "metadata": {},
          "execution_count": 11
        },
        {
          "output_type": "display_data",
          "data": {
            "text/plain": [
              "<Figure size 640x480 with 1 Axes>"
            ],
            "image/png": "[encoded data removed]"
          },
          "metadata": {}
        }
      ]
    },
    {
      "cell_type": "code",
      "source": [
        "sns.barplot(x= df2[\"user_type\"], y= df2['duration_sec'], data=df2)"
      ],
      "metadata": {
        "colab": {
          "base_uri": "https://localhost:8080/",
          "height": 466
        },
        "id": "wqoye6TEMhlq",
        "outputId": "77e57bfe-e43d-46cb-e5df-ff7c283d1c94"
      },
      "execution_count": 13,
      "outputs": [
        {
          "output_type": "execute_result",
          "data": {
            "text/plain": [
              "<Axes: xlabel='user_type', ylabel='duration_sec'>"
            ]
          },
          "metadata": {},
          "execution_count": 13
        },
        {
          "output_type": "display_data",
          "data": {
            "text/plain": [
              "<Figure size 640x480 with 1 Axes>"
            ],
            "image/png": "[encoded data removed]"
          },
          "metadata": {}
        }
      ]
    }
  ]
}