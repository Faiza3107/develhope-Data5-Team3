{
  "cells": [
    {
      "cell_type": "code",
      "execution_count": null,
      "metadata": {
        "colab": {
          "base_uri": "https://localhost:8080/",
          "height": 219
        },
        "id": "HFwGGxm_z3ro",
        "outputId": "941e09ad-2a18-4a3d-a2ce-ca44b4574934"
      },
      "outputs": [],
      "source": [
        "from pyspark.sql import functions as F\n",
        "from pyspark.sql import SparkSession\n",
        "\n",
        "spark=SparkSession.builder.appName('FordGoBike').getOrCreate()\n",
        "spark\n",
        "\n",
        "\n"
      ]
    },
    {
      "cell_type": "code",
      "execution_count": 26,
      "metadata": {
        "id": "hay2PBtS0bdK"
      },
      "outputs": [],
      "source": [
        "path=\"/content/drive/MyDrive/Develhope/develhope-Data5-Team3/Data/week_2\"\n",
        "df=spark.read.csv(path,header=True, inferSchema=True)"
      ]
    },
    {
      "cell_type": "code",
      "execution_count": 6,
      "metadata": {
        "colab": {
          "base_uri": "https://localhost:8080/"
        },
        "id": "Mc0vUAFf0_It",
        "outputId": "ff19a56d-f234-4fae-df26-00bc4907f417"
      },
      "outputs": [
        {
          "data": {
            "text/plain": [
              "['start_time',\n",
              " 'start_am_pm',\n",
              " 'end_time',\n",
              " 'end_am_pm',\n",
              " 'start_station_id',\n",
              " 'start_station_name',\n",
              " 'start_station_latitude',\n",
              " 'start_station_longitude',\n",
              " 'end_station_id',\n",
              " 'end_station_name',\n",
              " 'end_station_latitude',\n",
              " 'end_station_longitude',\n",
              " 'bike_id',\n",
              " 'user_type',\n",
              " 'member_birth_year',\n",
              " 'member_gender',\n",
              " 'pyment',\n",
              " 'haversine_distance',\n",
              " 'Diff_in_seconds',\n",
              " 'Diff_in_minutes',\n",
              " 'Trip_cost']"
            ]
          },
          "execution_count": 6,
          "metadata": {},
          "output_type": "execute_result"
        }
      ],
      "source": [
        "df.columns"
      ]
    },
    {
      "attachments": {},
      "cell_type": "markdown",
      "metadata": {
        "id": "ppFgBE9tTAmG"
      },
      "source": [
        "##TASK_1 - calculate the total cost for all customers and all subscribers"
      ]
    },
    {
      "cell_type": "code",
      "execution_count": 27,
      "metadata": {
        "colab": {
          "base_uri": "https://localhost:8080/"
        },
        "id": "0OMmhR2s06qm",
        "outputId": "7b67b91f-3d4b-4120-e67e-3085a94831d9"
      },
      "outputs": [
        {
          "name": "stdout",
          "output_type": "stream",
          "text": [
            "+----------+------------------+\n",
            "| user_type|    sum(Trip_cost)|\n",
            "+----------+------------------+\n",
            "|Subscriber|1810118.8525000028|\n",
            "|  Customer|1634609.2525000186|\n",
            "+----------+------------------+\n",
            "\n"
          ]
        }
      ],
      "source": [
        "df.groupBy('user_type').agg({'Trip_cost': 'sum'}).show()"
      ]
    },
    {
      "attachments": {},
      "cell_type": "markdown",
      "metadata": {
        "id": "Vuxho7r5TJGf"
      },
      "source": [
        "##TASK_2 - Analyze how often bikes are being rented ( morning - afternoon - evening) and and find the density for each hour of the day"
      ]
    },
    {
      "cell_type": "code",
      "execution_count": 28,
      "metadata": {
        "id": "KOqeOtXz1x44"
      },
      "outputs": [],
      "source": [
        "#https://www.britannica.com/dictionary/eb/qa/parts-of-the-day-early-morning-late-morning-etc\n",
        "\n",
        "df=df.withColumn('time_of_the_day', F.when(((F.hour('start_time')>=5) & (F.hour('start_time')<12)),'Morning')\\\n",
        "                      .otherwise(F.when((F.hour('start_time')>=12)&(F.hour('start_time')<18),'Afternoon')\\\n",
        "                      .otherwise(F.when((F.hour('start_time')>=18)&(F.hour('start_time')<21),'Evening')\\\n",
        "                                 .otherwise('Night'))))\n"
      ]
    },
    {
      "cell_type": "code",
      "execution_count": 54,
      "metadata": {
        "id": "yvA3kpbhJ3Az"
      },
      "outputs": [],
      "source": [
        "df_time_of_day=df.groupBy('time_of_the_day').agg(F.count('start_time').alias('total_rents'))"
      ]
    },
    {
      "cell_type": "code",
      "execution_count": 55,
      "metadata": {
        "colab": {
          "base_uri": "https://localhost:8080/"
        },
        "id": "eCQKYIMQLAAy",
        "outputId": "c1c76942-e097-40c8-b68b-e1ebb2b07ea0"
      },
      "outputs": [
        {
          "name": "stdout",
          "output_type": "stream",
          "text": [
            "+---------------+-----------+\n",
            "|time_of_the_day|total_rents|\n",
            "+---------------+-----------+\n",
            "|        Evening|      88993|\n",
            "|        Morning|     190751|\n",
            "|      Afternoon|     212364|\n",
            "|          Night|      27592|\n",
            "+---------------+-----------+\n",
            "\n"
          ]
        }
      ],
      "source": [
        "df_time_of_day.show()"
      ]
    },
    {
      "cell_type": "code",
      "execution_count": 45,
      "metadata": {
        "id": "5gL9OE-k59hE"
      },
      "outputs": [],
      "source": [
        "import pandas as pd\n",
        "import seaborn as sn\n",
        "import matplotlib.pyplot as plt"
      ]
    },
    {
      "cell_type": "code",
      "execution_count": 56,
      "metadata": {
        "id": "P15saWxtIr5_"
      },
      "outputs": [],
      "source": [
        "pd=df_time_of_day.toPandas()"
      ]
    },
    {
      "cell_type": "code",
      "execution_count": 70,
      "metadata": {
        "colab": {
          "base_uri": "https://localhost:8080/",
          "height": 467
        },
        "id": "kOnfJj2lNCdT",
        "outputId": "e401b388-ff3f-4026-c478-df3a80da2838"
      },
      "outputs": [
        {
          "data": {
            "text/plain": [
              "<matplotlib.legend.Legend at 0x7f088ff79660>"
            ]
          },
          "execution_count": 70,
          "metadata": {},
          "output_type": "execute_result"
        },
        {
          "data": {
            "image/png": "[encoded data removed]",
            "text/plain": [
              "<Figure size 640x480 with 1 Axes>"
            ]
          },
          "metadata": {},
          "output_type": "display_data"
        }
      ],
      "source": [
        "sn.barplot(x= pd[\"time_of_the_day\"], y= pd['total_rents'], data=pd, order=['Morning','Afternoon','Evening','Night'])\n",
        "plt.legend(['Morning: 5AM-12PM', 'Afternoon: 12PM-6PM','Evening: 6PM-9PM', 'Night: 9PM-5AM'])"
      ]
    },
    {
      "cell_type": "code",
      "execution_count": 62,
      "metadata": {
        "id": "WjxcpB2yPTZg"
      },
      "outputs": [],
      "source": [
        "df_hour=df.groupBy(F.hour('start_time').alias('hour')).agg(F.count('start_time').alias('total_count')).sort(F.hour('start_time'))"
      ]
    },
    {
      "cell_type": "code",
      "execution_count": 63,
      "metadata": {
        "colab": {
          "base_uri": "https://localhost:8080/"
        },
        "id": "qy41OinTQP7F",
        "outputId": "cfc9d4b8-9cda-4724-a4e5-684e5c78df0c"
      },
      "outputs": [
        {
          "name": "stdout",
          "output_type": "stream",
          "text": [
            "+----+-----------+\n",
            "|hour|total_count|\n",
            "+----+-----------+\n",
            "|   1|       1864|\n",
            "|   2|        922|\n",
            "|   3|        421|\n",
            "|   4|        656|\n",
            "|   5|       2161|\n",
            "|   6|       8959|\n",
            "|   7|      26931|\n",
            "|   8|      57425|\n",
            "|   9|      45605|\n",
            "|  10|      25324|\n",
            "|  11|      24346|\n",
            "|  12|      30480|\n",
            "|  13|      27371|\n",
            "|  14|      24888|\n",
            "|  15|      28404|\n",
            "|  16|      41248|\n",
            "|  17|      59973|\n",
            "|  18|      45941|\n",
            "|  19|      26494|\n",
            "|  20|      16558|\n",
            "+----+-----------+\n",
            "only showing top 20 rows\n",
            "\n"
          ]
        }
      ],
      "source": [
        "df_hour.show()"
      ]
    },
    {
      "cell_type": "code",
      "execution_count": 66,
      "metadata": {
        "id": "htQtCiN8QbOg"
      },
      "outputs": [],
      "source": [
        "pd_2=df_hour.toPandas()"
      ]
    },
    {
      "cell_type": "code",
      "execution_count": 69,
      "metadata": {
        "colab": {
          "base_uri": "https://localhost:8080/",
          "height": 466
        },
        "id": "T4HeCjjNQ2X-",
        "outputId": "e9596c28-65bc-4411-cde9-86985308d82e"
      },
      "outputs": [
        {
          "data": {
            "text/plain": [
              "<Axes: xlabel='hour', ylabel='total_count'>"
            ]
          },
          "execution_count": 69,
          "metadata": {},
          "output_type": "execute_result"
        },
        {
          "data": {
            "image/png": "[encoded data removed]",
            "text/plain": [
              "<Figure size 640x480 with 1 Axes>"
            ]
          },
          "metadata": {},
          "output_type": "display_data"
        }
      ],
      "source": [
        "sn.barplot(x= pd_2[\"hour\"], y= pd_2['total_count'], data=pd_2)"
      ]
    },
    {
      "cell_type": "code",
      "execution_count": null,
      "metadata": {
        "id": "l7BMDAfJSQwm"
      },
      "outputs": [],
      "source": []
    }
  ],
  "metadata": {
    "colab": {
      "provenance": []
    },
    "kernelspec": {
      "display_name": "Python 3",
      "name": "python3"
    },
    "language_info": {
      "name": "python"
    }
  },
  "nbformat": 4,
  "nbformat_minor": 0
}
