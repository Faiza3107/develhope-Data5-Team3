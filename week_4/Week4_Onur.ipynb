{
  "cells": [
    {
      "cell_type": "code",
      "execution_count": 2,
      "metadata": {},
      "outputs": [
        {
          "name": "stdout",
          "output_type": "stream",
          "text": [
            "Collecting pyspark\n",
            "  Downloading pyspark-3.4.0.tar.gz (310.8 MB)\n",
            "\u001b[2K     \u001b[90m━━━━━━━━━━━━━━━━━━━━━━━━━━━━━━━━━━━━━━━\u001b[0m \u001b[32m310.8/310.8 MB\u001b[0m \u001b[31m3.8 MB/s\u001b[0m eta \u001b[36m0:00:00\u001b[0m00:01\u001b[0m00:01\u001b[0m\n",
            "\u001b[?25h  Preparing metadata (setup.py) ... \u001b[?25ldone\n",
            "\u001b[?25hCollecting py4j==0.10.9.7 (from pyspark)\n",
            "  Downloading py4j-0.10.9.7-py2.py3-none-any.whl (200 kB)\n",
            "\u001b[2K     \u001b[90m━━━━━━━━━━━━━━━━━━━━━━━━━━━━━━━━━━━━━━━\u001b[0m \u001b[32m200.5/200.5 kB\u001b[0m \u001b[31m7.6 MB/s\u001b[0m eta \u001b[36m0:00:00\u001b[0m\n",
            "\u001b[?25hBuilding wheels for collected packages: pyspark\n",
            "  Building wheel for pyspark (setup.py) ... \u001b[?25ldone\n",
            "\u001b[?25h  Created wheel for pyspark: filename=pyspark-3.4.0-py2.py3-none-any.whl size=311317130 sha256=857ff9622796a611ebdbc8b4bafc8b0908e0e966fabffdbec9e85cc5c785ff33\n",
            "  Stored in directory: /home/codespace/.cache/pip/wheels/7b/1b/4b/3363a1d04368e7ff0d408e57ff57966fcdf00583774e761327\n",
            "Successfully built pyspark\n",
            "Installing collected packages: py4j, pyspark\n",
            "Successfully installed py4j-0.10.9.7 pyspark-3.4.0\n",
            "\n",
            "\u001b[1m[\u001b[0m\u001b[34;49mnotice\u001b[0m\u001b[1;39;49m]\u001b[0m\u001b[39;49m A new release of pip is available: \u001b[0m\u001b[31;49m23.1.1\u001b[0m\u001b[39;49m -> \u001b[0m\u001b[32;49m23.1.2\u001b[0m\n",
            "\u001b[1m[\u001b[0m\u001b[34;49mnotice\u001b[0m\u001b[1;39;49m]\u001b[0m\u001b[39;49m To update, run: \u001b[0m\u001b[32;49mpython -m pip install --upgrade pip\u001b[0m\n"
          ]
        }
      ],
      "source": [
        "!pip install pyspark"
      ]
    },
    {
      "cell_type": "code",
      "execution_count": 2,
      "metadata": {
        "colab": {
          "base_uri": "https://localhost:8080/",
          "height": 219
        },
        "id": "HFwGGxm_z3ro",
        "outputId": "941e09ad-2a18-4a3d-a2ce-ca44b4574934"
      },
      "outputs": [
        {
          "name": "stderr",
          "output_type": "stream",
          "text": [
            "23/05/09 08:58:11 WARN Utils: Your hostname, codespaces-3e9f4e resolves to a loopback address: 127.0.0.1; using 172.16.5.4 instead (on interface eth0)\n",
            "23/05/09 08:58:11 WARN Utils: Set SPARK_LOCAL_IP if you need to bind to another address\n",
            "Setting default log level to \"WARN\".\n",
            "To adjust logging level use sc.setLogLevel(newLevel). For SparkR, use setLogLevel(newLevel).\n",
            "23/05/09 08:58:13 WARN NativeCodeLoader: Unable to load native-hadoop library for your platform... using builtin-java classes where applicable\n"
          ]
        },
        {
          "data": {
            "text/html": [
              "\n",
              "            <div>\n",
              "                <p><b>SparkSession - in-memory</b></p>\n",
              "                \n",
              "        <div>\n",
              "            <p><b>SparkContext</b></p>\n",
              "\n",
              "            <p><a href=\"http://2ca2e260-c899-4c33-ad60-8ea325e96bfd.internal.cloudapp.net:4040\">Spark UI</a></p>\n",
              "\n",
              "            <dl>\n",
              "              <dt>Version</dt>\n",
              "                <dd><code>v3.4.0</code></dd>\n",
              "              <dt>Master</dt>\n",
              "                <dd><code>local[*]</code></dd>\n",
              "              <dt>AppName</dt>\n",
              "                <dd><code>FordGoBike</code></dd>\n",
              "            </dl>\n",
              "        </div>\n",
              "        \n",
              "            </div>\n",
              "        "
            ],
            "text/plain": [
              "<pyspark.sql.session.SparkSession at 0x7fd25dfe6320>"
            ]
          },
          "execution_count": 2,
          "metadata": {},
          "output_type": "execute_result"
        }
      ],
      "source": [
        "from pyspark.sql import functions as F\n",
        "from pyspark.sql import SparkSession\n",
        "\n",
        "spark=SparkSession.builder.appName('FordGoBike').getOrCreate()\n",
        "spark\n",
        "\n",
        "\n"
      ]
    },
    {
      "cell_type": "code",
      "execution_count": 3,
      "metadata": {
        "id": "hay2PBtS0bdK"
      },
      "outputs": [
        {
          "name": "stderr",
          "output_type": "stream",
          "text": [
            "                                                                                \r"
          ]
        }
      ],
      "source": [
        "path=\"/workspaces/develhope-Data5-Team3/Data/week_3\"\n",
        "df=spark.read.csv(path,header=True, inferSchema=True)"
      ]
    },
    {
      "cell_type": "code",
      "execution_count": 4,
      "metadata": {
        "colab": {
          "base_uri": "https://localhost:8080/"
        },
        "id": "Mc0vUAFf0_It",
        "outputId": "ff19a56d-f234-4fae-df26-00bc4907f417"
      },
      "outputs": [
        {
          "data": {
            "text/plain": [
              "['start_time',\n",
              " 'start_am_pm',\n",
              " 'end_time',\n",
              " 'end_am_pm',\n",
              " 'start_station_id',\n",
              " 'start_station_name',\n",
              " 'start_station_latitude',\n",
              " 'start_station_longitude',\n",
              " 'end_station_id',\n",
              " 'end_station_name',\n",
              " 'end_station_latitude',\n",
              " 'end_station_longitude',\n",
              " 'bike_id',\n",
              " 'user_type',\n",
              " 'member_birth_year',\n",
              " 'member_gender',\n",
              " 'pyment',\n",
              " 'haversine_distance',\n",
              " 'Diff_in_seconds',\n",
              " 'Diff_in_minutes',\n",
              " 'Trip_cost',\n",
              " 'age',\n",
              " 'age_group']"
            ]
          },
          "execution_count": 4,
          "metadata": {},
          "output_type": "execute_result"
        }
      ],
      "source": [
        "df.columns"
      ]
    },
    {
      "attachments": {},
      "cell_type": "markdown",
      "metadata": {
        "id": "ppFgBE9tTAmG"
      },
      "source": [
        "##TASK_1 - calculate the total cost for all customers and all subscribers"
      ]
    },
    {
      "cell_type": "code",
      "execution_count": 5,
      "metadata": {
        "colab": {
          "base_uri": "https://localhost:8080/"
        },
        "id": "0OMmhR2s06qm",
        "outputId": "7b67b91f-3d4b-4120-e67e-3085a94831d9"
      },
      "outputs": [
        {
          "name": "stderr",
          "output_type": "stream",
          "text": [
            "[Stage 2:=============================>                             (1 + 1) / 2]\r"
          ]
        },
        {
          "name": "stdout",
          "output_type": "stream",
          "text": [
            "+----------+------------------+\n",
            "| user_type|    sum(Trip_cost)|\n",
            "+----------+------------------+\n",
            "|Subscriber|1700972.6358333367|\n",
            "|  Customer|  438035.984166667|\n",
            "+----------+------------------+\n",
            "\n"
          ]
        },
        {
          "name": "stderr",
          "output_type": "stream",
          "text": [
            "                                                                                \r"
          ]
        }
      ],
      "source": [
        "df.groupBy('user_type').agg({'Trip_cost': 'sum'}).show()"
      ]
    },
    {
      "attachments": {},
      "cell_type": "markdown",
      "metadata": {
        "id": "Vuxho7r5TJGf"
      },
      "source": [
        "##TASK_2 - Analyze how often bikes are being rented ( morning - afternoon - evening) and and find the density for each hour of the day"
      ]
    },
    {
      "cell_type": "code",
      "execution_count": 6,
      "metadata": {
        "id": "KOqeOtXz1x44"
      },
      "outputs": [],
      "source": [
        "#https://www.britannica.com/dictionary/eb/qa/parts-of-the-day-early-morning-late-morning-etc\n",
        "\n",
        "df=df.withColumn('time_of_the_day', F.when(((F.hour('start_time')>=5) & (F.hour('start_time')<12)),'Morning')\\\n",
        "                      .otherwise(F.when((F.hour('start_time')>=12)&(F.hour('start_time')<18),'Afternoon')\\\n",
        "                      .otherwise(F.when((F.hour('start_time')>=18)&(F.hour('start_time')<21),'Evening')\\\n",
        "                                 .otherwise('Night'))))\n"
      ]
    },
    {
      "cell_type": "code",
      "execution_count": 7,
      "metadata": {
        "id": "yvA3kpbhJ3Az"
      },
      "outputs": [],
      "source": [
        "df_time_of_day=df.groupBy('time_of_the_day').agg(F.count('start_time').alias('total_rents'))"
      ]
    },
    {
      "cell_type": "code",
      "execution_count": 8,
      "metadata": {
        "colab": {
          "base_uri": "https://localhost:8080/"
        },
        "id": "eCQKYIMQLAAy",
        "outputId": "c1c76942-e097-40c8-b68b-e1ebb2b07ea0"
      },
      "outputs": [
        {
          "name": "stderr",
          "output_type": "stream",
          "text": [
            "[Stage 5:>                                                          (0 + 2) / 2]\r"
          ]
        },
        {
          "name": "stdout",
          "output_type": "stream",
          "text": [
            "+---------------+-----------+\n",
            "|time_of_the_day|total_rents|\n",
            "+---------------+-----------+\n",
            "|        Evening|      77975|\n",
            "|        Morning|     170438|\n",
            "|      Afternoon|     171018|\n",
            "|          Night|      22394|\n",
            "+---------------+-----------+\n",
            "\n"
          ]
        },
        {
          "name": "stderr",
          "output_type": "stream",
          "text": [
            "                                                                                \r"
          ]
        }
      ],
      "source": [
        "df_time_of_day.show()"
      ]
    },
    {
      "cell_type": "code",
      "execution_count": 9,
      "metadata": {
        "id": "5gL9OE-k59hE"
      },
      "outputs": [],
      "source": [
        "import pandas as pd\n",
        "import seaborn as sn\n",
        "import matplotlib.pyplot as plt"
      ]
    },
    {
      "cell_type": "code",
      "execution_count": 10,
      "metadata": {
        "id": "P15saWxtIr5_"
      },
      "outputs": [
        {
          "name": "stderr",
          "output_type": "stream",
          "text": [
            "                                                                                \r"
          ]
        }
      ],
      "source": [
        "pd=df_time_of_day.toPandas()"
      ]
    },
    {
      "cell_type": "code",
      "execution_count": 11,
      "metadata": {
        "colab": {
          "base_uri": "https://localhost:8080/",
          "height": 467
        },
        "id": "kOnfJj2lNCdT",
        "outputId": "e401b388-ff3f-4026-c478-df3a80da2838"
      },
      "outputs": [
        {
          "data": {
            "text/plain": [
              "<matplotlib.legend.Legend at 0x7fd25dfe70d0>"
            ]
          },
          "execution_count": 11,
          "metadata": {},
          "output_type": "execute_result"
        },
        {
          "data": {
            "image/png": "[encoded data removed]",
            "text/plain": [
              "<Figure size 640x480 with 1 Axes>"
            ]
          },
          "metadata": {},
          "output_type": "display_data"
        }
      ],
      "source": [
        "sn.barplot(x= pd[\"time_of_the_day\"], y= pd['total_rents'], data=pd, order=['Morning','Afternoon','Evening','Night'])\n",
        "plt.legend(['Morning: 5AM-12PM', 'Afternoon: 12PM-6PM','Evening: 6PM-9PM', 'Night: 9PM-5AM'])"
      ]
    },
    {
      "cell_type": "code",
      "execution_count": 12,
      "metadata": {
        "id": "WjxcpB2yPTZg"
      },
      "outputs": [],
      "source": [
        "df_hour=df.groupBy(F.hour('start_time').alias('hour')).agg(F.count('start_time').alias('total_count')).sort(F.hour('start_time'))"
      ]
    },
    {
      "cell_type": "code",
      "execution_count": 13,
      "metadata": {
        "colab": {
          "base_uri": "https://localhost:8080/"
        },
        "id": "qy41OinTQP7F",
        "outputId": "cfc9d4b8-9cda-4724-a4e5-684e5c78df0c"
      },
      "outputs": [
        {
          "name": "stderr",
          "output_type": "stream",
          "text": [
            "[Stage 11:=============================>                            (1 + 1) / 2]\r"
          ]
        },
        {
          "name": "stdout",
          "output_type": "stream",
          "text": [
            "+----+-----------+\n",
            "|hour|total_count|\n",
            "+----+-----------+\n",
            "|   1|       1254|\n",
            "|   2|        559|\n",
            "|   3|        234|\n",
            "|   4|        564|\n",
            "|   5|       1927|\n",
            "|   6|       8365|\n",
            "|   7|      25416|\n",
            "|   8|      54276|\n",
            "|   9|      41677|\n",
            "|  10|      20459|\n",
            "|  11|      18318|\n",
            "|  12|      22880|\n",
            "|  13|      20242|\n",
            "|  14|      18072|\n",
            "|  15|      21627|\n",
            "|  16|      34551|\n",
            "|  17|      53646|\n",
            "|  18|      40880|\n",
            "|  19|      22940|\n",
            "|  20|      14155|\n",
            "+----+-----------+\n",
            "only showing top 20 rows\n",
            "\n"
          ]
        },
        {
          "name": "stderr",
          "output_type": "stream",
          "text": [
            "                                                                                \r"
          ]
        }
      ],
      "source": [
        "df_hour.show()"
      ]
    },
    {
      "cell_type": "code",
      "execution_count": 14,
      "metadata": {
        "id": "htQtCiN8QbOg"
      },
      "outputs": [
        {
          "name": "stderr",
          "output_type": "stream",
          "text": [
            "                                                                                \r"
          ]
        }
      ],
      "source": [
        "pd_2=df_hour.toPandas()"
      ]
    },
    {
      "cell_type": "code",
      "execution_count": 15,
      "metadata": {
        "colab": {
          "base_uri": "https://localhost:8080/",
          "height": 466
        },
        "id": "T4HeCjjNQ2X-",
        "outputId": "e9596c28-65bc-4411-cde9-86985308d82e"
      },
      "outputs": [
        {
          "data": {
            "text/plain": [
              "<Axes: xlabel='hour', ylabel='total_count'>"
            ]
          },
          "execution_count": 15,
          "metadata": {},
          "output_type": "execute_result"
        },
        {
          "data": {
            "image/png": "[encoded data removed]",
            "text/plain": [
              "<Figure size 640x480 with 1 Axes>"
            ]
          },
          "metadata": {},
          "output_type": "display_data"
        }
      ],
      "source": [
        "sn.barplot(x= pd_2[\"hour\"], y= pd_2['total_count'], data=pd_2)"
      ]
    },
    {
      "attachments": {},
      "cell_type": "markdown",
      "metadata": {},
      "source": [
        "##TASK_3 - Find if there is a relation between the time and start stations"
      ]
    },
    {
      "cell_type": "code",
      "execution_count": null,
      "metadata": {
        "id": "l7BMDAfJSQwm"
      },
      "outputs": [],
      "source": []
    }
  ],
  "metadata": {
    "colab": {
      "provenance": []
    },
    "kernelspec": {
      "display_name": "Python 3",
      "name": "python3"
    },
    "language_info": {
      "codemirror_mode": {
        "name": "ipython",
        "version": 3
      },
      "file_extension": ".py",
      "mimetype": "text/x-python",
      "name": "python",
      "nbconvert_exporter": "python",
      "pygments_lexer": "ipython3",
      "version": "3.10.4"
    }
  },
  "nbformat": 4,
  "nbformat_minor": 0
}
