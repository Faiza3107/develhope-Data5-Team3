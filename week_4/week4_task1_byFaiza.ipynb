{
  "nbformat": 4,
  "nbformat_minor": 0,
  "metadata": {
    "colab": {
      "provenance": []
    },
    "kernelspec": {
      "name": "python3",
      "display_name": "Python 3"
    },
    "language_info": {
      "name": "python"
    }
  },
  "cells": [
    {
      "cell_type": "code",
      "execution_count": 1,
      "metadata": {
        "colab": {
          "base_uri": "https://localhost:8080/"
        },
        "id": "Gk56gfsoEJYp",
        "outputId": "6065bdda-86a8-4fa8-914d-c46125354819"
      },
      "outputs": [
        {
          "output_type": "stream",
          "name": "stdout",
          "text": [
            "Looking in indexes: https://pypi.org/simple, https://us-python.pkg.dev/colab-wheels/public/simple/\n",
            "Collecting pyspark\n",
            "  Downloading pyspark-3.4.0.tar.gz (310.8 MB)\n",
            "\u001b[2K     \u001b[90m━━━━━━━━━━━━━━━━━━━━━━━━━━━━━━━━━━━━━━━\u001b[0m \u001b[32m310.8/310.8 MB\u001b[0m \u001b[31m4.3 MB/s\u001b[0m eta \u001b[36m0:00:00\u001b[0m\n",
            "\u001b[?25h  Preparing metadata (setup.py) ... \u001b[?25l\u001b[?25hdone\n",
            "Requirement already satisfied: py4j in /usr/local/lib/python3.10/dist-packages (0.10.9.7)\n",
            "Building wheels for collected packages: pyspark\n",
            "  Building wheel for pyspark (setup.py) ... \u001b[?25l\u001b[?25hdone\n",
            "  Created wheel for pyspark: filename=pyspark-3.4.0-py2.py3-none-any.whl size=311317130 sha256=47058d34222494f26cc21f30b8de53bb22e4b40e6e39de64391a7c992f12412b\n",
            "  Stored in directory: /root/.cache/pip/wheels/7b/1b/4b/3363a1d04368e7ff0d408e57ff57966fcdf00583774e761327\n",
            "Successfully built pyspark\n",
            "Installing collected packages: pyspark\n",
            "Successfully installed pyspark-3.4.0\n"
          ]
        }
      ],
      "source": [
        "! pip install pyspark py4j"
      ]
    },
    {
      "cell_type": "code",
      "source": [
        "from pyspark.sql import SparkSession\n",
        "from pyspark.sql import functions as F\n",
        "spark = SparkSession.builder.appName(\"firstapp\").getOrCreate()"
      ],
      "metadata": {
        "id": "W3aLDbTuLj2z"
      },
      "execution_count": 2,
      "outputs": []
    },
    {
      "cell_type": "markdown",
      "source": [
        "Question 1: calculate the total cost for all customers and all subscribers"
      ],
      "metadata": {
        "id": "_8CwxOAILbj6"
      }
    },
    {
      "cell_type": "code",
      "source": [
        "df = spark.read.csv(\"/content/2017-fordgobike-tripdataa (1).csv\", header = True,inferSchema = True)"
      ],
      "metadata": {
        "id": "kWxdyPrgLgTe"
      },
      "execution_count": 3,
      "outputs": []
    },
    {
      "cell_type": "code",
      "source": [
        "df.show(5)"
      ],
      "metadata": {
        "colab": {
          "base_uri": "https://localhost:8080/"
        },
        "id": "ZUoi4WkRMI4y",
        "outputId": "10219843-799c-4c81-f793-6b30569cff79"
      },
      "execution_count": 4,
      "outputs": [
        {
          "output_type": "stream",
          "name": "stdout",
          "text": [
            "+----------+---------------+-----------------+------------------+---+--------+-------------+---------------+----------------+---+----------------+--------------------+----------------------+-----------------------+--------------+--------------------+--------------------+---------------------+-------+----------+-----------------+-------------+-----------+\n",
            "|start_time|start time hour|start time minute|start time seconds|_c4|end_time|end_time hour|end_time minute|end_time seconds|_c9|start_station_id|  start_station_name|start_station_latitude|start_station_longitude|end_station_id|    end_station_name|end_station_latitude|end_station_longitude|bike_id| user_type|member_birth_year|member_gender|     pyment|\n",
            "+----------+---------------+-----------------+------------------+---+--------+-------------+---------------+----------------+---+----------------+--------------------+----------------------+-----------------------+--------------+--------------------+--------------------+---------------------+-------+----------+-----------------+-------------+-----------+\n",
            "|   57:39.7|              4|               57|                40| PM| 12:50.2|            3|             12|              50| PM|              74|Laguna St at Haye...|           37.77643482|            -122.426244|            43|San Francisco Pub...|          37.7787677|         -122.4159292|     96|  Customer|             1987|         Male|credit card|\n",
            "|   56:34.8|              3|               56|                35| PM| 49:55.6|            1|             49|              56| PM|             284|Yerba Buena Cente...|           37.78487208|           -122.4008757|            96|Dolores St at 15t...|          37.7662102|         -122.4266136|     88|  Customer|             1965|       Female|credit card|\n",
            "|   45:48.4|             10|               45|                48| PM| 28:36.9|           11|             28|              37| AM|             245|Downtown Berkeley...|            37.8703477|           -122.2677637|           245|Downtown Berkeley...|          37.8703477|         -122.2677637|   1094|  Customer|             null|         null|credit card|\n",
            "|   31:10.6|              5|               31|                11| PM| 47:23.5|           10|             47|              24| AM|              60|8th St at Ringold St|            37.7745204|           -122.4094494|             5|Powell St BART St...|         37.78389936|         -122.4084449|   2831|  Customer|             null|         null|credit card|\n",
            "|   23:14.0|              2|               23|                14| PM| 29:57.6|            2|             29|              58| AM|             239|Bancroft Way at T...|            37.8688126|            -122.258764|           247|Fulton St at Banc...|          37.8677892|         -122.2658964|   3167|Subscriber|             1997|       Female| app wallet|\n",
            "+----------+---------------+-----------------+------------------+---+--------+-------------+---------------+----------------+---+----------------+--------------------+----------------------+-----------------------+--------------+--------------------+--------------------+---------------------+-------+----------+-----------------+-------------+-----------+\n",
            "only showing top 5 rows\n",
            "\n"
          ]
        }
      ]
    },
    {
      "cell_type": "code",
      "source": [
        "df.columns"
      ],
      "metadata": {
        "colab": {
          "base_uri": "https://localhost:8080/"
        },
        "id": "XnUyuaRiVyd_",
        "outputId": "237a6b7f-4a15-427c-f22e-256f79ca65a8"
      },
      "execution_count": 5,
      "outputs": [
        {
          "output_type": "execute_result",
          "data": {
            "text/plain": [
              "['start_time',\n",
              " 'start time hour',\n",
              " 'start time minute',\n",
              " 'start time seconds',\n",
              " '_c4',\n",
              " 'end_time',\n",
              " 'end_time hour',\n",
              " 'end_time minute',\n",
              " 'end_time seconds',\n",
              " '_c9',\n",
              " 'start_station_id',\n",
              " 'start_station_name',\n",
              " 'start_station_latitude',\n",
              " 'start_station_longitude',\n",
              " 'end_station_id',\n",
              " 'end_station_name',\n",
              " 'end_station_latitude',\n",
              " 'end_station_longitude',\n",
              " 'bike_id',\n",
              " 'user_type',\n",
              " 'member_birth_year',\n",
              " 'member_gender',\n",
              " 'pyment']"
            ]
          },
          "metadata": {},
          "execution_count": 5
        }
      ]
    },
    {
      "cell_type": "code",
      "source": [
        "#from wweek2.tasks, we calculated the trip cost, as shown below\n",
        "df1 = df.withColumn('start_time(s)', df[1]*3600 + df[2]*60 + df[3])\n",
        "df2 = df1.withColumn('end_time(s)', df[6]*3600 + df[7]*60 + df[8])\n",
        "df3 = df2.withColumn('duration for each trip(s)' , (df2['end_time(s)'] - df2['start_time(s)']))\n",
        "df4 = df3.withColumn('trip_cost', ((df3['duration for each trip(s)']/60)*0.35))\n",
        "df5 = df4.filter(df4['trip_cost']>0)\n",
        "df5.select('trip_cost').show(10)"
      ],
      "metadata": {
        "colab": {
          "base_uri": "https://localhost:8080/"
        },
        "id": "HCAnyQlfXEn-",
        "outputId": "e43ba4c7-2f2f-406c-a4c6-fbae75a161f8"
      },
      "execution_count": 7,
      "outputs": [
        {
          "output_type": "stream",
          "name": "stdout",
          "text": [
            "+------------------+\n",
            "|         trip_cost|\n",
            "+------------------+\n",
            "|14.985833333333334|\n",
            "|110.67583333333332|\n",
            "|2.3566666666666665|\n",
            "|25.281666666666666|\n",
            "|24.208333333333332|\n",
            "|           24.7275|\n",
            "|19.209166666666665|\n",
            "|18.538333333333334|\n",
            "|12.734166666666665|\n",
            "|12.664166666666665|\n",
            "+------------------+\n",
            "only showing top 10 rows\n",
            "\n"
          ]
        }
      ]
    },
    {
      "cell_type": "code",
      "source": [
        "df5.groupBy('user_type').agg({'trip_cost': 'sum'}).show()"
      ],
      "metadata": {
        "colab": {
          "base_uri": "https://localhost:8080/"
        },
        "id": "L1r3WmlUYfyc",
        "outputId": "5fdeca8d-2ab2-4ea0-d790-d6b721f5e3bc"
      },
      "execution_count": 8,
      "outputs": [
        {
          "output_type": "stream",
          "name": "stdout",
          "text": [
            "+----------+------------------+\n",
            "| user_type|    sum(trip_cost)|\n",
            "+----------+------------------+\n",
            "|Subscriber| 388962.0524999987|\n",
            "|  Customer|171938.80666666647|\n",
            "+----------+------------------+\n",
            "\n"
          ]
        }
      ]
    }
  ]
}